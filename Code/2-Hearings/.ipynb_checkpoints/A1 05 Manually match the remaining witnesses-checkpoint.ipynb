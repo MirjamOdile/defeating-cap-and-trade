{
 "cells": [
  {
   "cell_type": "markdown",
   "metadata": {},
   "source": [
    "# Manually match the remaining witnesses into *Open Secrets* lobbying categories\n",
    "\n",
    "#### This script classifies all witnesses according to the *Open Secrets* lobbying categories and subcategories"
   ]
  },
  {
   "cell_type": "code",
   "execution_count": 1,
   "metadata": {},
   "outputs": [],
   "source": [
    "from TextCollection import *\n",
    "import keyboard  # using module keyboard"
   ]
  },
  {
   "cell_type": "code",
   "execution_count": 2,
   "metadata": {},
   "outputs": [],
   "source": [
    "# # Reinstantiate class after changing the Textcollection.py script\n",
    "# # Do not run this in the last run! Leads to a conflict with pickle.\n",
    "\n",
    "# from importlib import reload\n",
    "\n",
    "# os.chdir('/home/mirjam/OneDrive/congress_committees/ArticleOne/Article_Scripts/Hearings')\n",
    "# import TextCollection; reload(TextCollection)\n",
    "\n",
    "# # Reinstantiate class\n",
    "# t.__class__ = HearingsCollection"
   ]
  },
  {
   "cell_type": "code",
   "execution_count": 3,
   "metadata": {},
   "outputs": [],
   "source": [
    "# Change directory\n",
    "os.chdir('../../Data/')"
   ]
  },
  {
   "cell_type": "code",
   "execution_count": 4,
   "metadata": {},
   "outputs": [
    {
     "name": "stdout",
     "output_type": "stream",
     "text": [
      "(8388608, -1)\n",
      "3000\n",
      "1048576\n"
     ]
    }
   ],
   "source": [
    "# Run for maximum recursion error during saving\n",
    "\n",
    "import resource\n",
    "import sys\n",
    "\n",
    "print(resource.getrlimit(resource.RLIMIT_STACK))\n",
    "print(sys.getrecursionlimit())\n",
    "\n",
    "# May segfault without this line. 0x100 is a guess at the size of each stack frame.\n",
    "max_rec = 0x100000\n",
    "resource.setrlimit(resource.RLIMIT_STACK, [0x100 * max_rec, resource.RLIM_INFINITY])\n",
    "sys.setrecursionlimit(max_rec)\n",
    "\n",
    "print(sys.getrecursionlimit())"
   ]
  },
  {
   "cell_type": "markdown",
   "metadata": {},
   "source": [
    "<br>\n",
    "\n",
    "## 1) Preparation: Loading, correcting and inspecting the data"
   ]
  },
  {
   "cell_type": "code",
   "execution_count": 5,
   "metadata": {},
   "outputs": [
    {
     "name": "stdout",
     "output_type": "stream",
     "text": [
      "We imported 263 hearings and 13 sectors of lobbying organisations for the years 2003 to 2010.\n",
      "\n"
     ]
    }
   ],
   "source": [
    "t = load('Hearings/04_opensecrets_industries_contributors.pkl')\n",
    "with open('OpenSecrets/sectors_industries_contributors.json', 'r') as jfile:\n",
    "    sectors = json.load(jfile)\n",
    "print('We imported {} hearings and {} sectors of lobbying organisations for the years {} to {}.\\n'.format(len(t),len(sectors), sectors[0]['industries'][0]['year'][0], \n",
    "                                                                                                        sectors[0]['industries'][0]['year'][-1]))\n",
    "# Append sectors to hearings collection\n",
    "t.sectors = sectors"
   ]
  },
  {
   "cell_type": "code",
   "execution_count": 6,
   "metadata": {},
   "outputs": [],
   "source": [
    "# Add a new category 'International/Intergovernmental' to sector 11 'Other'\n",
    "\n",
    "sectors[11]['industries'].append(\n",
    "    {'industry': 'International/Intergovernmental',\n",
    "     'id': None,\n",
    "     'page_url': None,\n",
    "     'year': None,\n",
    "     'lobbying_groups_by_year': None,\n",
    "     'lobbying_groups': None,\n",
    "     'contributors_by_year': None,\n",
    "     'contributors': None})"
   ]
  },
  {
   "cell_type": "code",
   "execution_count": 7,
   "metadata": {
    "scrolled": true
   },
   "outputs": [
    {
     "name": "stdout",
     "output_type": "stream",
     "text": [
      "Each of these sectors is grouped into multiple industries. These are the sectors with their respective industries:\n",
      "\n",
      "0 AGRIBUSINESS (A)\n",
      "\t 0 Agricultural Services/Products\n",
      "\t 1 Crop Production & Basic Processing\n",
      "\t 2 Dairy\n",
      "\t 3 Farm bureaus\n",
      "\t 4 Food and kindred products manufacturing\n",
      "\t 5 Food Processing & Sales\n",
      "\t 6 Food stores\n",
      "\t 7 Forestry & Forest Products\n",
      "\t 8 Livestock\n",
      "\t 9 Meat processing & products\n",
      "\t 10 Poultry & Eggs\n",
      "\t 11 Sugar cane & sugar beets\n",
      "\t 12 Tobacco\n",
      "\t 13 Vegetables, fruits and tree nut\n",
      "\n",
      "\n",
      "1 COMMUNICATIONS/ELECTRONICS (B)\n",
      "\t 0 Book, newspaper & periodical publishing\n",
      "\t 1 Cable & satellite TV production\n",
      "\t 2 Commercial TV & radio stations\n",
      "\t 3 Computer software\n",
      "\t 4 Electronics Mfg & Equip\n",
      "\t 5 Internet\n",
      "\t 6 Motion Picture production & distribution\n",
      "\t 7 Printing & Publishing\n",
      "\t 8 Recorded Music & music production\n",
      "\t 9 Telecom Services\n",
      "\t 10 Telephone Utilities\n",
      "\t 11 TV production\n",
      "\t 12 TV/Movies/Music\n",
      "\n",
      "\n",
      "2 CONSTRUCTION (C)\n",
      "\t 0 Architectural services\n",
      "\t 1 Building Materials & Equipment\n",
      "\t 2 Construction Services\n",
      "\t 3 General Contractors\n",
      "\t 4 Home Builders\n",
      "\t 5 Special Trade Contractors\n",
      "\n",
      "\n",
      "3 DEFENSE (D)\n",
      "\t 0 Defense Aerospace\n",
      "\t 1 Defense Electronics\n",
      "\t 2 Misc Defense\n",
      "\n",
      "\n",
      "4 ENERGY & NATURAL RESOURCES (E)\n",
      "\t 0 Alternate energy production & services\n",
      "\t 1 Coal mining\n",
      "\t 2 Electric Utilities\n",
      "\t 3 Mining\n",
      "\t 4 Natural Gas transmission & distribution\n",
      "\t 5 Oil & Gas\n",
      "\t 6 Waste Management\n",
      "\n",
      "\n",
      "5 FINANCE, INSURANCE & REAL ESTATE (F)\n",
      "\t 0 Accountants\n",
      "\t 1 Commercial Banks\n",
      "\t 2 Credit Unions\n",
      "\t 3 Finance/Credit Companies\n",
      "\t 4 Hedge Funds\n",
      "\t 5 Insurance\n",
      "\t 6 Misc Finance\n",
      "\t 7 Mortgage bankers and brokers\n",
      "\t 8 Payday lenders\n",
      "\t 9 Private Equity & Investment Firms\n",
      "\t 10 Real Estate\n",
      "\t 11 Savings & Loans\n",
      "\t 12 Securities & Investment\n",
      "\t 13 Student loan companies\n",
      "\t 14 Venture capital\n",
      "\n",
      "\n",
      "6 HEALTH (H)\n",
      "\t 0 Chiropractors\n",
      "\t 1 Dentists\n",
      "\t 2 Health Professionals\n",
      "\t 3 Health Services/HMOs\n",
      "\t 4 Hospitals/Nursing Homes\n",
      "\t 5 Medical Devices & Supplies\n",
      "\t 6 Nurses\n",
      "\t 7 Nutritional & dietary supplements\n",
      "\t 8 Pharmaceutical manufacturing\n",
      "\t 9 Pharmaceuticals/Health Products\n",
      "\n",
      "\n",
      "7 IDEOLOGICAL/SINGLE-ISSUE (Q)\n",
      "\t 0 Abortion Policy/Anti-Abortion\n",
      "\t 1 Abortion Policy/Pro-Abortion Rights\n",
      "\t 2 Candidate Committees\n",
      "\t 3 Democratic Candidate Committees\n",
      "\t 4 Democratic leadership PAC\n",
      "\t 5 Democratic/Liberal\n",
      "\t 6 Environment\n",
      "\t 7 Foreign & Defense Policy\n",
      "\t 8 Gay & lesbian rights & issues\n",
      "\t 9 Gun Control\n",
      "\t 10 Gun Rights\n",
      "\t 11 Human Rights\n",
      "\t 12 Leadership PACs\n",
      "\t 13 Pro-Israel\n",
      "\t 14 Republican Candidate Committees\n",
      "\t 15 Republican leadership PAC\n",
      "\t 16 Republican/Conservative\n",
      "\t 17 Women's Issues\n",
      "\n",
      "\n",
      "8 LABOR (P)\n",
      "\t 0 Air transport unions\n",
      "\t 1 Building Trade Unions\n",
      "\t 2 Industrial Unions\n",
      "\t 3 Misc Unions\n",
      "\t 4 Public Sector Unions\n",
      "\t 5 Teachers unions\n",
      "\t 6 Transportation Unions\n",
      "\t 7 US Postal Service unions & associations\n",
      "\n",
      "\n",
      "9 LAWYERS & LOBBYISTS (K)\n",
      "\t 0 Lawyers/Law Firms\n",
      "\t 1 Lobbyists\n",
      "\n",
      "\n",
      "10 MISC BUSINESS (N)\n",
      "\t 0 Advertising & public relations services\n",
      "\t 1 Beer, Wine & Liquor\n",
      "\t 2 Business Associations\n",
      "\t 3 Business Services\n",
      "\t 4 Casinos/Gambling\n",
      "\t 5 Chemical & Related Manufacturing\n",
      "\t 6 Clothing & accessories\n",
      "\t 7 Correctional facilities constr & mgmt/for-profit\n",
      "\t 8 Food & Beverage\n",
      "\t 9 Funeral services\n",
      "\t 10 Indian Gaming\n",
      "\t 11 Lodging/Tourism\n",
      "\t 12 Marijuana\n",
      "\t 13 Marijuana\n",
      "\t 14 Misc Manufacturing & Distributing\n",
      "\t 15 Misc Services\n",
      "\t 16 Professional sports, arenas & related equip & svcs\n",
      "\t 17 Recreation/Live Entertainment\n",
      "\t 18 Restaurants & drinking establishments\n",
      "\t 19 Retail Sales\n",
      "\t 20 Steel Production\n",
      "\t 21 Textiles\n",
      "\n",
      "\n",
      "11 OTHER (W)\n",
      "\t 0 Civil Servants/Public Officials\n",
      "\t 1 Clergy & Religious Organizations\n",
      "\t 2 Education\n",
      "\t 3 For-profit Education\n",
      "\t 4 Non-Profit Institutions\n",
      "\t 5 Retired\n",
      "\t 6 International/Intergovernmental\n",
      "\n",
      "\n",
      "12 TRANSPORTATION (M)\n",
      "\t 0 Air Transport\n",
      "\t 1 Airlines\n",
      "\t 2 Auto dealers, foreign imports\n",
      "\t 3 Auto dealers, new & used\n",
      "\t 4 Auto manufacturers\n",
      "\t 5 Automotive\n",
      "\t 6 Cruise ships & lines\n",
      "\t 7 Railroads\n",
      "\t 8 Sea Transport\n",
      "\t 9 Trucking\n",
      "\n",
      "\n"
     ]
    }
   ],
   "source": [
    "print('Each of these sectors is grouped into multiple industries. These are the sectors with their respective industries:\\n')\n",
    "for i, sector in enumerate(sectors):\n",
    "    print(i, sector['name'].upper(), '({})'.format(sector['id']))\n",
    "    for j, industry in enumerate(sector['industries']):\n",
    "        print('\\t', j, industry['industry'])\n",
    "    print('\\n')    "
   ]
  },
  {
   "cell_type": "code",
   "execution_count": 8,
   "metadata": {},
   "outputs": [
    {
     "name": "stdout",
     "output_type": "stream",
     "text": [
      "rudolph g. penner, phd,\n",
      ">> Rudolph G. Penner, Ph.D., Senior Fellow, The Urban Institute \n",
      "\n",
      "Brownstein, Mark S., director, Enterprise Strategy\n",
      ">> Brownstein, Mark S., director, Enterprise Strategy, PSEG Service Corporation \n",
      "\n",
      "Allen Fawcett\n",
      ">> Allen Fawcett, Environmental Protection Agency \n",
      "\n",
      "Kammen, Daniel M\n",
      ">> Kammen, Daniel M., Transportation Sustainability Research Center \n",
      "\n",
      "sam stone\n",
      ">> Sam Stone, Dairy Industry\n"
     ]
    }
   ],
   "source": [
    "# Add witness information missed during parsing\n",
    "print(t.texts[39]['witnesses'][9])\n",
    "t.texts[39]['witnesses'][9] = 'Rudolph G. Penner, Ph.D., Senior Fellow, The Urban Institute'\n",
    "print('>>', t.texts[39]['witnesses'][9], '\\n')\n",
    "\n",
    "print(t.texts[66]['witnesses'][15])\n",
    "t.texts[66]['witnesses'][15] = 'Brownstein, Mark S., director, Enterprise Strategy, PSEG Service Corporation'\n",
    "print('>>', t.texts[66]['witnesses'][15], '\\n')\n",
    "\n",
    "print(t.texts[83]['witnesses'][2])\n",
    "t.texts[83]['witnesses'][2] = 'Allen Fawcett, Environmental Protection Agency'\n",
    "print('>>', t.texts[83]['witnesses'][2], '\\n')\n",
    "\n",
    "print(t.texts[113]['witnesses'][8])\n",
    "t.texts[113]['witnesses'][8] = 'Kammen, Daniel M., Transportation Sustainability Research Center'\n",
    "print('>>', t.texts[113]['witnesses'][8], '\\n')\n",
    "\n",
    "print(t.texts[123]['witnesses'][50])\n",
    "t.texts[123]['witnesses'][50] = 'Sam Stone, Dairy Industry'\n",
    "print('>>', t.texts[123]['witnesses'][50])"
   ]
  },
  {
   "cell_type": "code",
   "execution_count": 9,
   "metadata": {},
   "outputs": [
    {
     "name": "stdout",
     "output_type": "stream",
     "text": [
      "Robert Bradley, Director Of International Climate Policy, World Resources Institute\n",
      "Robert Bradley\n",
      ">> None \n",
      "\n",
      "Mathis, Mark, President, Confluence Energy, Kremmling, Colorado\n",
      "Mark Mathis\n",
      ">> None\n"
     ]
    }
   ],
   "source": [
    "# Correct witnesses that have been wrongly classified as Desmog denialists (same name, different person)\n",
    "print(t.texts[32]['witnesses'][6])\n",
    "print(t.texts[32]['desmog_witness'][6])\n",
    "t.texts[32]['desmog_witness'][6] = None\n",
    "print('>>', t.texts[32]['desmog_witness'][6], '\\n')\n",
    "\n",
    "print(t.texts[151]['witnesses'][5])\n",
    "print(t.texts[151]['desmog_witness'][5])\n",
    "t.texts[151]['desmog_witness'][5] = None\n",
    "print('>>', t.texts[151]['desmog_witness'][5])\n"
   ]
  },
  {
   "cell_type": "code",
   "execution_count": 10,
   "metadata": {},
   "outputs": [
    {
     "name": "stdout",
     "output_type": "stream",
     "text": [
      "Hon. Jeffery Holmstead, Assistant Administrator For Air And Radiation, Environmental Protection Agency\n",
      "Jeffrey Holmstead\n",
      "2003\n"
     ]
    }
   ],
   "source": [
    "# Check if Jeffrey Holmstead is correctly classified as a denialist?\n",
    "\n",
    "print(t.texts[40]['witnesses'][0])\n",
    "print(t.texts[40]['desmog_witness'][0])\n",
    "print(t.texts[40]['year'])\n",
    "\n",
    "# Holmstead's appointment at the EPA was controversial and protested by US Senators due to his previous lobbying work for coal companies. \n",
    "# Jeffrey Holmstead has been described as a prime example of a “revolving door lobbyist“—a term that OpenSecrets defines as “a revolving \n",
    "# door that shuffles former federal employees into jobs as lobbyists, consultants and strategists just as the door pulls former hired guns \n",
    "# into government careers.” [6], [7], [8]\n",
    "# https://www.desmogblog.com/jeffrey-r-holmstead\n",
    "\n",
    "# >> Yes, no need to remove him from the denialist witnesses."
   ]
  },
  {
   "cell_type": "code",
   "execution_count": 11,
   "metadata": {},
   "outputs": [
    {
     "name": "stdout",
     "output_type": "stream",
     "text": [
      "Thorning, Dr. Margo, Managing Director, International Council for Capital Formation\n",
      "None\n",
      ">> International Council for Capital Formation\n"
     ]
    }
   ],
   "source": [
    "# Correct witnesses that should be classified as Desmog witnesses\n",
    "\n",
    "# 'International Council for Capital Formation' is an affiliate of the 'American Council for cCpital Formation' \n",
    "# see: https://www.desmogblog.com/american-council-for-capital-formation and http://www.iccfglobal.org/pdf/ICCFbrochure1.pdf\n",
    "print(t.texts[257]['witnesses'][3])\n",
    "print(t.texts[257]['desmog_organisation'][3])\n",
    "t.texts[257]['desmog_organisation'][3] = 'International Council for Capital Formation'\n",
    "print('>>', t.texts[257]['desmog_organisation'][3])"
   ]
  },
  {
   "cell_type": "code",
   "execution_count": 12,
   "metadata": {},
   "outputs": [],
   "source": [
    "# Correct wrongly classified witnesses \n",
    "\n",
    "# Capital Partners >> 'Finance' instead of 'Lobbyists' (>> Organisation name overlap)\n",
    "for i, text in enumerate(t.texts):\n",
    "    for j, witness in enumerate(text['witnesses']):\n",
    "        if text['witness_affiliation'][j] == 'Capital Partners':\n",
    "#             print(i,j, witness, ': ', text['witness_industry'][j])\n",
    "            text['witness_affiliation'][j] = None\n",
    "            text['witness_sector'][j] = None\n",
    "            text['witness_industry'][j] = None\n",
    "         \n",
    "# Green for All >> 'Environmental' instead of 'Non-Proft' (>> Belongs in multiple industries, depending on context.)\n",
    "for i, text in enumerate(t.texts):\n",
    "    for j, witness in enumerate(text['witnesses']):\n",
    "        if text['witness_affiliation'][j] == 'Green for All':\n",
    "#             print(i,j, witness, ': ', text['witness_industry'][j])\n",
    "            text['witness_affiliation'][j] = None\n",
    "            text['witness_sector'][j] = None\n",
    "            text['witness_industry'][j] = None\n",
    "            \n",
    "# General Electric >> 'Misc Manufacturing' instead of 'TV production' (>> Belongs in multiple industries, depending on context.)\n",
    "for i, text in enumerate(t.texts):\n",
    "    for j, witness in enumerate(text['witnesses']):\n",
    "        if text['witness_affiliation'][j] == 'General Electric':\n",
    "#             print(i,j, witness, ': ', text['witness_industry'][j])\n",
    "            text['witness_affiliation'][j] = None\n",
    "            text['witness_sector'][j] = None\n",
    "            text['witness_industry'][j] = None"
   ]
  },
  {
   "cell_type": "code",
   "execution_count": 13,
   "metadata": {},
   "outputs": [
    {
     "name": "stdout",
     "output_type": "stream",
     "text": [
      "16 4 ``Important Transitions in Emitting Countries Over the Coming Century'', of 2007 from Global Energy Technology Strategy, Addressing Climate Change: Phase 2 Findings from an International Public-Private Sponsored Research Program, Battell Memorial Institute\n",
      "46 4 Chart, Integrated ECO -ECO&lt;INF&gt;2&lt;/INF&gt; Installation\n",
      "48 1 Position paper, The Economics of Greenhouse Gas Mitigation\n",
      "48 2 Position paper, Piece on Climate Change for Prospect\n",
      "48 3 Analysis, The Kyoto Protocol: Impact on EU Emissions and Competitiveness\n",
      "66 8 Clean Air Act, several organizations\n",
      "170 26 Page QUESTIONS AND ANSWERS Questions and Answers.......................... 230, 292, 349, 432,\n",
      "199 6 Nuclear Waste, Safety and Training\n",
      "206 6 Chart entitled ``Total Electricity Use, per capita, 1960-2001\n",
      "\n",
      "\n",
      "9 false entries have been removed.\n"
     ]
    }
   ],
   "source": [
    "# Delete wrong witness entries (charts, articles, position papers...)\n",
    "\n",
    "for i, text in enumerate([16, 46, 48, 48, 48, 66, 170, 199, 206]):\n",
    "    false_entry = [4, 4, 1, 2, 3, 8, 26, 6, 6][i]\n",
    "    print(text, false_entry, t.texts[text]['witnesses'][false_entry])\n",
    "    t.texts[text]['witnesses'] = [(i, entry)[1] for i, entry in enumerate(t.texts[text]['witnesses']) if i != false_entry]\n",
    "    t.texts[text]['desmog_witness'] = [(i, entry)[1] for i, entry in enumerate(t.texts[text]['desmog_witness']) if i != false_entry]\n",
    "    t.texts[text]['desmog_organisation'] = [(i, entry)[1] for i, entry in enumerate(t.texts[text]['desmog_organisation']) if i != false_entry]\n",
    "    t.texts[text]['witness_affiliation'] = [(i, entry)[1] for i, entry in enumerate(t.texts[text]['witness_affiliation']) if i != false_entry]\n",
    "    t.texts[text]['witness_sector'] = [(i, entry)[1] for i, entry in enumerate(t.texts[text]['witness_sector']) if i != false_entry]\n",
    "    t.texts[text]['witness_industry'] = [(i, entry)[1] for i, entry in enumerate(t.texts[text]['witness_industry']) if i != false_entry]\n",
    "print(f'\\n\\n{i+1} false entries have been removed.')\n",
    "\n",
    "# Remove witnesses_MODS and witnesses_transcript variables \n",
    "# (these are not accurate anymore, after witnesse have been \n",
    "# removed without adapting these variables at an earlier stage)\n",
    "\n",
    "t.remove_key('witnesses_MODS')\n",
    "t.remove_key('witnesses_transcript')"
   ]
  },
  {
   "cell_type": "markdown",
   "metadata": {},
   "source": [
    "<br>\n",
    "\n",
    "## 2) Matching: match the witnesses according to the OpenSecrets lobbing groups"
   ]
  },
  {
   "cell_type": "markdown",
   "metadata": {},
   "source": [
    "### 11 OTHER"
   ]
  },
  {
   "cell_type": "code",
   "execution_count": 14,
   "metadata": {},
   "outputs": [],
   "source": [
    "# 11 OTHER (W)\n",
    "# \t 4 Non-Profit Institutions\n",
    "# \t 0 Civil Servants/Public Officials\n",
    "# \t 2 Education\n",
    "#    \t 3 For-profit Education\n",
    "# \t 1 Clergy & Religious Organizations\n",
    "# \t 5 Retired"
   ]
  },
  {
   "cell_type": "code",
   "execution_count": 15,
   "metadata": {},
   "outputs": [
    {
     "name": "stdout",
     "output_type": "stream",
     "text": [
      "11.1 OTHER - Clergy & Religious Organizations:\n",
      "\n",
      "There are 3 Clergy & Religious Organizations witnesses.\n",
      "\n",
      "8 more Clergy & Religious Organizations witnesses were matched, resulting in a total of 11 witnesses.\n"
     ]
    }
   ],
   "source": [
    "# 11.1 OTHER - Clergy & Religious Organizations: \n",
    "t.select_industry(11, 1)\n",
    "\n",
    "t.count_witnesses('witness_industry', t.industry, print_witnesses = False)\n",
    "\n",
    "# Match witnesses\n",
    "keywords = ['\\w+\\s?\\w+ church',\n",
    "            'southern baptist theological seminary',\n",
    "            'religious action center of reform judaism',\n",
    "            'institute on religion and democracy',\n",
    "            'interfaith stewardship alliance',\n",
    "            'virginia interfaith center for public policy',\n",
    "            'author and historian'] # Barton, David, author and historian: representing evangelicals\n",
    "t.match_witnesses(keywords, print_witnesses = False)"
   ]
  },
  {
   "cell_type": "code",
   "execution_count": 16,
   "metadata": {},
   "outputs": [
    {
     "name": "stdout",
     "output_type": "stream",
     "text": [
      "11.2 OTHER - Education:\n",
      "\n",
      "There are 155 Education witnesses.\n",
      "\n",
      "82 more Education witnesses were matched, resulting in a total of 237 witnesses.\n",
      "A total of 86 state research witnesses were matched.\n",
      "\n",
      "\n",
      "42 more Education witnesses were matched, resulting in a total of 279 witnesses.\n"
     ]
    }
   ],
   "source": [
    "# 11.2 OTHER: Education\n",
    "t.select_industry(11, 2)\n",
    "\n",
    "t.count_witnesses('witness_industry', t.industry, print_witnesses = False)\n",
    "\n",
    "# United States research and development agencies\n",
    "# https://en.wikipedia.org/wiki/List_of_United_States_research_and_development_agencies\n",
    "# https://en.wikipedia.org/wiki/Federally_funded_research_and_development_centers\n",
    "\n",
    "keywords = [# Independent Agencies\n",
    "            'national science foundation', ' nsf',\n",
    "            'national aeronautics and space administration', ' nasa', \n",
    "            'environmental protection agency office of research and development', \n",
    "            'intelligence advanced research projects activity', ' iarpa',\n",
    "            'smithsonian',\n",
    "             # Department of Agriculture\n",
    "            'agricultural research service', ' ars',\n",
    "            'national institute of food and agriculture', ' nifa'\n",
    "            'economic research service', ' ers',\n",
    "            'united states forest service research and development', 'united states forest service r&d',\n",
    "            'rocky mountain research station, forest service',\n",
    "             # Department of Commerce\n",
    "            'national institute of standards and technology', ' nist',\n",
    "            'national oceanic and atmospheric administration', ' noaa',\n",
    "            # Department of Education\n",
    "            'institute of education sciences', ' ies',\n",
    "            'national institute on disability and rehabilitation research', ' nidrr',\n",
    "            # Department of Energy\n",
    "            'department of energy office of science', 'doe office of science', ' doe sc',\n",
    "            'advanced research projects agency-energy', ' arpa-e',\n",
    "                # National laboratories\n",
    "            'national \\w*\\s*\\w*\\s*\\w*\\s*laboratory', 'national \\w*\\s*\\w*\\s*\\w*\\s*lab',\n",
    "            # Department of health and human services\n",
    "            'national institutes of health', ' nih',\n",
    "            'national institute for occupational safety and health', ' niosh',\n",
    "            'food and drug administration science and research programs',\n",
    "            'agency for healthcare research and quality', ' ahrq',\n",
    "            'biomedical advanced research and development authority', ' barda',\n",
    "            # Department of homeland security\n",
    "            'directorate for science and technology', ' s&t',\n",
    "            'coast guard research & development center', ' cg rdc',\n",
    "            # Department of the interior\n",
    "            'united states geological survey', ' usgs', 'geological survey',\n",
    "            # Department of justice\n",
    "            'national institute of justice', ' nij',\n",
    "            # Department of transportation\n",
    "            'research and innovative technology administration',\n",
    "            'federal aviation administration research, engineering, and development',\n",
    "            'federal highway administration research and technology',\n",
    "            'scientist(?:.+?)environmental protection agency',\n",
    "            'researcher(?:.+?)environmental protection agency',\n",
    "            'research and development, united states environmental protection agency',\n",
    "            # Veterans affairs\n",
    "            'veterans health administration office of research and development', ' ord',\n",
    "            # Multi-agency initiatives\n",
    "            'office of science and technology', ' ostp',\n",
    "            'u.s. global change research program', ' usgcrp', \n",
    "            'networking and information technology research and development program', ' nitrd',\n",
    "            'national nanotechnology initiative', ' nni',\n",
    "            # Judicial branch\n",
    "            'federal judicial center',\n",
    "            # Legislative branch\n",
    "            'house committee on science, space and technology',\n",
    "            'senate committee on commerce, science, and transportation',\n",
    "            'office of technology assessment', ' ota',\n",
    "            # Joint programs\n",
    "            'carbon cycle scientific steering group',\n",
    "            # Federally funded research and development centers\n",
    "            'institute for defense analyses',\n",
    "            'center for naval (analyses|analysis){1}',\n",
    "            'national center for atmospheric research',\n",
    "    \n",
    "            # Other\n",
    "            'congressional research service',\n",
    "            'lawrence berkeley laboratory']\n",
    "\n",
    "t.match_witnesses(keywords, print_witnesses = False)\n",
    "\n",
    "count = 0\n",
    "for i, text in enumerate(t.texts):\n",
    "    text['state_research'] = []\n",
    "    for j, witness in enumerate(text['witnesses']):\n",
    "        text['state_research'].append(0)\n",
    "        if len(find_string.first_match(keywords, witness.lower())) > 0:\n",
    "                count += 1\n",
    "                text['state_research'][j] = 1\n",
    "                \n",
    "print('A total of {} state research witnesses were matched.\\n\\n'.format(count))\n",
    "\n",
    "# Other research \n",
    "keywords = ['national academy of sciences', 'national research council',\n",
    "            ', (mit)', ' (mit)$',\n",
    "            '\\w+\\s?\\w+\\s?\\w+\\suniversity',  'university\\s\\w+\\s?\\w+',\n",
    "            '\\w+\\s?\\w+\\s?\\w+\\scollege', 'college\\s\\w+\\s?\\w+\\s?\\w+', \n",
    "            '\\w*\\s?school of\\s\\w+\\s?\\w+\\s?\\w+\\s?\\w+\\s?\\w+', '\\w+\\s?\\w+\\s?\\w+\\sschool',\n",
    "            '\\w+ institution of \\w+', \n",
    "            'graduate institute of international and development studies', \n",
    "            'transportation sustainability research center',\n",
    "            'yale', 'johns hopkins', 'institut pasteur', \n",
    "            'kansas coalition for carbon management',\n",
    "            'american meteorological society']\n",
    "antikeywords = ['in-q-tel', 'copenhagen consensus center']\n",
    "\n",
    "t.match_witnesses(keywords, antikeywords, print_witnesses = False)"
   ]
  },
  {
   "cell_type": "code",
   "execution_count": 17,
   "metadata": {
    "scrolled": false
   },
   "outputs": [
    {
     "name": "stdout",
     "output_type": "stream",
     "text": [
      "11.0 OTHER - Civil Servants/Public Officials:\n",
      "\n",
      "There are 42 Civil Servants/Public Officials witnesses.\n",
      "\n",
      "332 more Civil Servants/Public Officials witnesses were matched, resulting in a total of 374 witnesses.\n"
     ]
    }
   ],
   "source": [
    "# 11.0 OTHER: Civil Servants/Public Officials\n",
    "t.select_industry(11,0)\n",
    "\n",
    "t.count_witnesses('witness_industry', t.industry, print_witnesses = False)\n",
    "\n",
    "# Match witnesses\n",
    "keywords = ['department of the \\w+', 'department of \\w+', '\\w+ \\w+ agency', '\\w+ \\w+ administration',\n",
    "                 'office of management and budget', 'administrator, office of \\w+', 'city administrator',\n",
    "                 '\\w+ and \\w+ commission',  '\\w+ \\w+ commission', 'commission on \\w+', 'commissioner',\n",
    "                 'committee on \\w+', 'committee for \\w+ \\w+', '\\w+ and \\w+ \\w+ committee',\n",
    "                  'under secretary for democracy and global affairs', 'new jersey dep',\n",
    "                  'governmental affairs department', 'environment department',\n",
    "                  'government accountability office', 'general accounting office',\n",
    "                  'governors of the federal reserve system',\n",
    "                  'mayor\\,?\\s?\\w+ \\w+ \\w+', 'mayor of \\w+', 'mayor, \\w+',\n",
    "                  'office of governor', 'governor\\,?\\s?\\w+', 'city manager', \n",
    "                  'forest service', 'usda', 'house of representatives',\n",
    "                  'congressional budget office', 'united states congress', 'director, congr', \n",
    "                  'representative from \\w+', '\\w+ \\w+ senate', \n",
    "                  'tourism policy council','office of the consumer advocate',\n",
    "                  'calpers', 'assistant director for macroeconomics analysis',\n",
    "                  '((white house)? council on environmental quality)', 'national intelligence council',\n",
    "                  'comptroller general of the united states', 'social security advisory board',\n",
    "                  'california air resources board', 'board of public utilities',\n",
    "                  'northeast states for coordinated air use management','\\w+ state \\w+',\n",
    "                  '(council o(n|f) \\w+ \\w+)','adirondack council', 'hoopa valley tribe',\n",
    "                  '((u.s.|united states) (army|navy))', '\\w+ \\w+ chamber of commerce',\n",
    "                  'metropolitan water district of southern california',\n",
    "                  'northern colorado water conservancy district']\n",
    "\n",
    "antikeywords = ['national association of regulatory utility commissioners', 'inc\\.|inc$', 'incorporated', 'international energy agency', \n",
    "                      'former', 'retired', '(ret\\.)']\n",
    "\n",
    "t.match_witnesses(keywords, antikeywords, print_witnesses = False)"
   ]
  },
  {
   "cell_type": "code",
   "execution_count": 18,
   "metadata": {},
   "outputs": [
    {
     "name": "stdout",
     "output_type": "stream",
     "text": [
      "11.4 OTHER - Non-Profit Institutions:\n",
      "\n",
      "There are 8 Non-Profit Institutions witnesses.\n",
      "\n",
      "44 more Non-Profit Institutions witnesses were matched, resulting in a total of 52 witnesses.\n"
     ]
    }
   ],
   "source": [
    "# 11.4 OTHER - Non-Profit Institutions\n",
    "t.select_industry(11, 4)\n",
    "\n",
    "t.count_witnesses('witness_industry', t.industry, print_witnesses = False)\n",
    "\n",
    "# Match witnesses\n",
    "keywords = ['realizing the dream', 'association of snow travelers',\n",
    "            'national ski areas association', 'institute for multi-track diplomacy',\n",
    "            'league of american bicyclists', 'appliance standards awareness project',\n",
    "            'empower consumers', 'freedom to roam', 'center for global development',\n",
    "            'institute for multi-track diplomacy', 'regulatory assistance project',\n",
    "            'carnegie endowment for international peace', 'the concord coalition', \n",
    "            'peterson institute for international economics', 'urban institute',\n",
    "            'actionaid', 'american recreation coalition', 'adaptation network',\n",
    "            'natural resources stewardship project', 'rural economic development',\n",
    "            'center on budget and policy priorities', 'federation of american scientists',\n",
    "            'social security task force', 'government accountability project',\n",
    "            'brookings institution', 'the brookings institute', \n",
    "            'center on budget policies and priorities', 'energy program, public citizen',\n",
    "            'center for budget and policy priorities', 'chesapeake bay maritime museum',\n",
    "            \n",
    "            'citizens for tax justice', 'institute of the north', \n",
    "            # Denialist\n",
    "            'center for climate/ocean resources study', 'copenhagen consensus center',\n",
    "            ]\n",
    "\n",
    "t.match_witnesses(keywords, print_witnesses = False)"
   ]
  },
  {
   "cell_type": "code",
   "execution_count": 19,
   "metadata": {},
   "outputs": [
    {
     "name": "stdout",
     "output_type": "stream",
     "text": [
      "11.5 OTHER - Retired:\n",
      "\n",
      "There are 0 Retired witnesses.\n",
      "\n",
      "16 more Retired witnesses were matched, resulting in a total of 16 witnesses.\n"
     ]
    }
   ],
   "source": [
    "# 11.1 OTHER - Retired: \n",
    "t.select_industry(11, 5)\n",
    "\n",
    "t.count_witnesses('witness_industry', t.industry, print_witnesses = False)\n",
    "\n",
    "# Match witnesses\n",
    "keywords = ['retired', '\\(ret.\\)', 'former', \n",
    "            'mahoney, james r., ph.d., (environmental consultant)']\n",
    "antikeywords = ['\\(retired\\);', '\\(ret.\\), (president|chairman)', 'inc\\.', \n",
    "                'fellow', 'member', 'director', 'president']\n",
    "\n",
    "t.match_witnesses(keywords, antikeywords, print_witnesses = False)"
   ]
  },
  {
   "cell_type": "code",
   "execution_count": 20,
   "metadata": {},
   "outputs": [
    {
     "name": "stdout",
     "output_type": "stream",
     "text": [
      "11.6 OTHER - International/Intergovernmental:\n",
      "\n",
      "There are 0 International/Intergovernmental witnesses.\n",
      "\n",
      "14 more International/Intergovernmental witnesses were matched, resulting in a total of 14 witnesses.\n"
     ]
    }
   ],
   "source": [
    "# 11.6 OTHER - International/Intergovernmental\n",
    "t.select_industry(11, 6)\n",
    "\n",
    "t.count_witnesses('witness_industry', t.industry, print_witnesses = False)\n",
    "\n",
    "# Match witnesses\n",
    "keywords = ['ipcc', 'intergovernmental panel on climate change', \n",
    "            'international energy agency', 'united arab emirates',\n",
    "            '\\w+\\s?\\w+\\s?\\w+\\s?\\w+\\s?\\w+\\s?\\w+, united kingdom',\n",
    "            'government of the republic of maldives', 'european commission',\n",
    "            'u.k. department for environment, food, and rural affairs',\n",
    "            'official negotiator, u.n. framework convention on climate change and the kyoto protocol',\n",
    "            'minister for environment, nature conservation and nuclear safety, federal republic of germany']#,'\\w+\\s?\\w+\\s?\\w+\\s?\\w+\\s?\\w+']\n",
    "antikeywords = ['london school of economics']\n",
    "          \n",
    "t.match_witnesses(keywords, print_witnesses = False)\n",
    "# 14 witnesses"
   ]
  },
  {
   "cell_type": "code",
   "execution_count": 21,
   "metadata": {},
   "outputs": [
    {
     "name": "stdout",
     "output_type": "stream",
     "text": [
      "0 witnesses were found.\n"
     ]
    }
   ],
   "source": [
    "# Search for further matches\n",
    "\n",
    "keywords = ['']\n",
    "antikeywords = []\n",
    "\n",
    "t.search_witnesses(keywords, antikeywords)"
   ]
  },
  {
   "cell_type": "markdown",
   "metadata": {},
   "source": [
    "### 3 DEFENSE"
   ]
  },
  {
   "cell_type": "code",
   "execution_count": 22,
   "metadata": {},
   "outputs": [
    {
     "name": "stdout",
     "output_type": "stream",
     "text": [
      "3.0 DEFENSE - Defense Aerospace:\n",
      "\n",
      "There are 8 Defense Aerospace witnesses.\n",
      "\n",
      "2 more Defense Aerospace witnesses were matched, resulting in a total of 10 witnesses.\n"
     ]
    }
   ],
   "source": [
    "# 3.0 DEFENSE: Defense Aerospace\n",
    "t.select_industry(3, 0)\n",
    "\n",
    "t.count_witnesses('witness_industry', t.industry, print_witnesses = False)\n",
    "\n",
    "# Match witnesses\n",
    "keywords = ['aerospace and defense industry', 'honeywell']\n",
    "\n",
    "t.match_witnesses(keywords, print_witnesses = False)"
   ]
  },
  {
   "cell_type": "markdown",
   "metadata": {},
   "source": [
    "### 7 IDEOLOGY/SINGLE-ISSUE"
   ]
  },
  {
   "cell_type": "code",
   "execution_count": 23,
   "metadata": {},
   "outputs": [],
   "source": [
    "# 7 IDEOLOGICAL/SINGLE-ISSUE (Q)\n",
    "# \t 16 Republican/Conservative\n",
    "# \t 5 Democratic/Liberal\n",
    "# \t 12 Leadership PACs\n",
    "#    \t 4 Democratic leadership PAC\n",
    "#    \t 15 Republican leadership PAC\n",
    "# \t 7 Foreign & Defense Policy\n",
    "# \t 13 Pro-Israel\n",
    "# \t 17 Women's Issues\n",
    "# \t 11 Human Rights\n",
    "#    \t 8 Gay & lesbian rights & issues\n",
    "# \t 6 Environment\n",
    "# \t 9 Gun Control\n",
    "# \t 10 Gun Rights\n",
    "# \t 0 Abortion Policy/Anti-Abortion\n",
    "# \t 1 Abortion Policy/Pro-Abortion Rights\n",
    "# \t 2 Candidate Committees\n",
    "#    \t 14 Republican Candidate Committees\n",
    "#    \t 3 Democratic Candidate Committees"
   ]
  },
  {
   "cell_type": "code",
   "execution_count": 24,
   "metadata": {},
   "outputs": [
    {
     "name": "stdout",
     "output_type": "stream",
     "text": [
      "7.6 IDEOLOGICAL/SINGLE-ISSUE - Environment:\n",
      "\n",
      "There are 110 Environment witnesses.\n",
      "\n",
      "106 more Environment witnesses were matched, resulting in a total of 216 witnesses.\n"
     ]
    }
   ],
   "source": [
    "# 7.6 IDEOLOGY/SINGLE-ISSUE: Environment\n",
    "t.select_industry(7,6)\n",
    "\n",
    "t.count_witnesses('witness_industry', t.industry, print_witnesses = False)\n",
    "\n",
    "# Match witnesses\n",
    "keywords = ['resources for the future', 'world resources institute', \n",
    "            'conservation international', 'pew environmental',\n",
    "            'pew center on global climate change', 'pew center', \n",
    "            'western organization of resource councils', 'ceres', \n",
    "            'american council for an energy[-\\s]{1}efficient economy', 'aceee',\n",
    "            'environmental resources trust', 'heinz \\w*\\s*center',\n",
    "            'environmental defense', 'energy future coalition',\n",
    "            'energy future coalition', 'oxfam', 'sonoran institute',\n",
    "            'climate central', 'renewable energy alaska project',\n",
    "            'alaska conservation solutions', 'wetlands watch',\n",
    "            'wilderness workshop', 'wildlife management institute',\n",
    "            'new hampshire wildlife federation', 'pacific environment',\n",
    "            'pacific institute', 'winter wildlands alliance',\n",
    "            'society for conservation biology', 'the climate registry',\n",
    "            'forest climate working group', 'institute for applied ecology',\n",
    "            'climate action reserve', 'coalition for green capital',\n",
    "            'national religious partnership for the environment',\n",
    "            'evangelical climate initiative', ' venice charter fishing',\n",
    "            'waterkeepers alliance', 'watershed research and training center',\n",
    "            'international fund for animal welfare', 'green for all',\n",
    "            'national mitigation banking association', 'apollo alliance',\n",
    "            'tomales bay institute', 'polar oceans research group',\n",
    "            'institute for energy and environmental research',\n",
    "            # individuals\n",
    "            '\\w+ a?\\.?\\s?gore', 'gore, \\w+\\. \\w+', 'marshall herskovitz']\n",
    "\n",
    "t.match_witnesses(keywords, print_witnesses = False)"
   ]
  },
  {
   "cell_type": "code",
   "execution_count": 25,
   "metadata": {},
   "outputs": [
    {
     "name": "stdout",
     "output_type": "stream",
     "text": [
      "7.7 IDEOLOGICAL/SINGLE-ISSUE - Foreign & Defense Policy:\n",
      "\n",
      "There are 2 Foreign & Defense Policy witnesses.\n",
      "\n",
      "13 more Foreign & Defense Policy witnesses were matched, resulting in a total of 15 witnesses.\n"
     ]
    }
   ],
   "source": [
    "# 7.7 IDEOLOGICAL/SINGLE-ISSUE - Foreign & Defense Policy\n",
    "t.select_industry(7,7)\n",
    "\n",
    "t.count_witnesses('witness_industry', t.industry, print_witnesses = False)\n",
    "\n",
    "# Match witnesses\n",
    "keywords = ['center for strategic and budgetary assessment', 'military advisory board',\n",
    "            'association of the united states army', 'truman national security project',\n",
    "            'the atlantic council', 'center for a new american security',\n",
    "            'american security project', 'woodrow wilson international',\n",
    "            'center for strategic and international studies', \n",
    "            'nonproliferation policy education center']\n",
    "\n",
    "t.match_witnesses(keywords, print_witnesses = False)"
   ]
  },
  {
   "cell_type": "code",
   "execution_count": 26,
   "metadata": {},
   "outputs": [
    {
     "name": "stdout",
     "output_type": "stream",
     "text": [
      "7.16 IDEOLOGICAL/SINGLE-ISSUE - Republican/Conservative:\n",
      "\n",
      "There are 9 Republican/Conservative witnesses.\n",
      "\n",
      "26 more Republican/Conservative witnesses were matched, resulting in a total of 35 witnesses.\n"
     ]
    }
   ],
   "source": [
    "# 7.16 IDEOLOGICAL/SINGLE-ISSUE - Republican/Conservative\n",
    "t.select_industry(7,16)\n",
    "\n",
    "t.count_witnesses('witness_industry', t.industry, print_witnesses = False)\n",
    "\n",
    "# Match witnesses\n",
    "keywords = ['american enterprise institute', 'competitive enterprise institute',\n",
    "           'cato institute', 'americans for tax reform', 'the heartland institute',\n",
    "           'business & media institute']\n",
    "\n",
    "t.match_witnesses(keywords, print_witnesses = False)"
   ]
  },
  {
   "cell_type": "code",
   "execution_count": 27,
   "metadata": {},
   "outputs": [
    {
     "name": "stdout",
     "output_type": "stream",
     "text": [
      "0 witnesses were found.\n"
     ]
    }
   ],
   "source": [
    "# Search for further matches\n",
    "\n",
    "keywords = ['']\n",
    "antikeywords = []\n",
    "\n",
    "t.search_witnesses(keywords, antikeywords)"
   ]
  },
  {
   "cell_type": "markdown",
   "metadata": {},
   "source": [
    "### 8 LABOR"
   ]
  },
  {
   "cell_type": "code",
   "execution_count": 28,
   "metadata": {},
   "outputs": [],
   "source": [
    "# 8 LABOR (P)\n",
    "# \t 0 Air transport unions\n",
    "# \t 1 Building Trade Unions\n",
    "# \t 2 Industrial Unions\n",
    "# \t 3 Misc Unions\n",
    "# \t 4 Public Sector Unions\n",
    "# \t 5 Teachers unions\n",
    "# \t 6 Transportation Unions\n",
    "# \t 7 US Postal Service unions & associations"
   ]
  },
  {
   "cell_type": "code",
   "execution_count": 29,
   "metadata": {},
   "outputs": [
    {
     "name": "stdout",
     "output_type": "stream",
     "text": [
      "8.0 LABOR - Air transport unions:\n",
      "\n",
      "There are 2 Air transport unions witnesses.\n",
      "\n",
      "1 more Air transport unions witnesses were matched, resulting in a total of 3 witnesses.\n"
     ]
    }
   ],
   "source": [
    "# 8.0 LABOR: Air transport unions\n",
    "t.select_industry(8, 0)\n",
    "\n",
    "t.count_witnesses('witness_industry', t.industry, print_witnesses = False)\n",
    "\n",
    "# Match witnesses\n",
    "keywords = ['professional aviation safety specialists']\n",
    "\n",
    "t.match_witnesses(keywords, print_witnesses = False)"
   ]
  },
  {
   "cell_type": "code",
   "execution_count": 30,
   "metadata": {},
   "outputs": [
    {
     "name": "stdout",
     "output_type": "stream",
     "text": [
      "8.2 LABOR - Industrial Unions:\n",
      "\n",
      "There are 8 Industrial Unions witnesses.\n",
      "\n",
      "8 more Industrial Unions witnesses were matched, resulting in a total of 16 witnesses.\n"
     ]
    }
   ],
   "source": [
    "# 8.2 LABOR: Industrial Unions\n",
    "t.select_industry(8, 2)\n",
    "\n",
    "t.count_witnesses('witness_industry', t.industry, print_witnesses = False)\n",
    "\n",
    "# Match witnesses\n",
    "keywords = ['(united automobile, aerospace (and|&) agricultural implement workers of america)',\n",
    "            'united steel workers', 'international brotherhood of boilermakers',\n",
    "           ' laborers\\' international union']\n",
    "\n",
    "t.match_witnesses(keywords, print_witnesses = False)"
   ]
  },
  {
   "cell_type": "code",
   "execution_count": 31,
   "metadata": {},
   "outputs": [
    {
     "name": "stdout",
     "output_type": "stream",
     "text": [
      "8.3 LABOR - Misc Unions:\n",
      "\n",
      "There are 0 Misc Unions witnesses.\n",
      "\n",
      "1 more Misc Unions witnesses were matched, resulting in a total of 1 witnesses.\n"
     ]
    }
   ],
   "source": [
    "# 8.3 LABOR: Misc Unions\n",
    "t.select_industry(8, 3)\n",
    "\n",
    "t.count_witnesses('witness_industry', t.industry, print_witnesses = False)\n",
    "\n",
    "# Match witnesses\n",
    "keywords = ['farmers union']\n",
    "\n",
    "t.match_witnesses(keywords, print_witnesses = False)"
   ]
  },
  {
   "cell_type": "code",
   "execution_count": 32,
   "metadata": {},
   "outputs": [
    {
     "name": "stdout",
     "output_type": "stream",
     "text": [
      "8.4 LABOR - Public Sector Unions:\n",
      "\n",
      "There are 2 Public Sector Unions witnesses.\n",
      "\n",
      "6 more Public Sector Unions witnesses were matched, resulting in a total of 8 witnesses.\n"
     ]
    }
   ],
   "source": [
    "# 8.4 LABOR: Public Sector Unions\n",
    "t.select_industry(8, 4)\n",
    "\n",
    "t.count_witnesses('witness_industry', t.industry, print_witnesses = False)\n",
    "\n",
    "# Match witnesses\n",
    "keywords = ['national association of \\w+ \\w+\\s?\\w+']\n",
    "\n",
    "t.match_witnesses(keywords, print_witnesses = False)"
   ]
  },
  {
   "cell_type": "code",
   "execution_count": 33,
   "metadata": {},
   "outputs": [
    {
     "name": "stdout",
     "output_type": "stream",
     "text": [
      "8.6 LABOR - Transportation Unions:\n",
      "\n",
      "There are 0 Transportation Unions witnesses.\n",
      "\n",
      "1 more Transportation Unions witnesses were matched, resulting in a total of 1 witnesses.\n"
     ]
    }
   ],
   "source": [
    "# 8.6 LABOR: Transportation Unions\n",
    "t.select_industry(8, 6)\n",
    "\n",
    "t.count_witnesses('witness_industry', t.industry, print_witnesses = False)\n",
    "\n",
    "# Match witnesses\n",
    "keywords = ['transportation trades department, afl- cio']\n",
    "\n",
    "t.match_witnesses(keywords, print_witnesses = False)"
   ]
  },
  {
   "cell_type": "code",
   "execution_count": 34,
   "metadata": {},
   "outputs": [
    {
     "name": "stdout",
     "output_type": "stream",
     "text": [
      "0 witnesses were found.\n"
     ]
    }
   ],
   "source": [
    "# Search for further matches\n",
    "\n",
    "keywords = ['']\n",
    "antikeywords = []\n",
    "\n",
    "t.search_witnesses(keywords, antikeywords)"
   ]
  },
  {
   "cell_type": "markdown",
   "metadata": {},
   "source": [
    "### 4 ENERGY/NAT RESOURCE"
   ]
  },
  {
   "cell_type": "code",
   "execution_count": 35,
   "metadata": {},
   "outputs": [
    {
     "name": "stdout",
     "output_type": "stream",
     "text": [
      "4.0 ENERGY & NATURAL RESOURCES - Alternate energy production & services:\n",
      "\n",
      "There are 34 Alternate energy production & services witnesses.\n",
      "\n",
      "29 more Alternate energy production & services witnesses were matched, resulting in a total of 63 witnesses.\n"
     ]
    }
   ],
   "source": [
    "# 4.0 ENERGY/NAT RESOURCE: Alternate energy production & services\n",
    "t.select_industry(4, 0)\n",
    "\n",
    "t.count_witnesses('witness_industry', t.industry, print_witnesses = False)\n",
    "\n",
    "# Match witnesses\n",
    "keywords = ['confluence energy', '\\w+ windpower', 'utc power', 'biofuels \\w+',\n",
    "            '\\w*\\s?\\w*solar', 'gasification \\w+\\s?\\w+', '1366 technologies',\n",
    "            'iberdrola renewables', 'renewable ventures', 'energy ventures',\n",
    "            'sunedison', 'gore and associates', 'sunworks, llc', 'orpc alaska',\n",
    "            'columbia energy partners', 'saic--energy solutions group',\n",
    "            'colorado river energy distributors association', 'platinum ethanol',\n",
    "            'nrg systems',\n",
    "            # Nuclear\n",
    "            'babcock and wilcox', 'enrichment corporation']\n",
    "\n",
    "t.match_witnesses(keywords, print_witnesses = False)"
   ]
  },
  {
   "cell_type": "code",
   "execution_count": 36,
   "metadata": {},
   "outputs": [
    {
     "name": "stdout",
     "output_type": "stream",
     "text": [
      "4.1 ENERGY & NATURAL RESOURCES - Coal mining:\n",
      "\n",
      "There are 10 Coal mining witnesses.\n",
      "\n",
      "6 more Coal mining witnesses were matched, resulting in a total of 16 witnesses.\n"
     ]
    }
   ],
   "source": [
    "# 4.1 ENERGY/NAT RESOURCE: Coal Mining\n",
    "t.select_industry(4, 1)\n",
    "\n",
    "t.count_witnesses('witness_industry', t.industry, print_witnesses = False)\n",
    "\n",
    "# Match witnesses\n",
    "keywords = ['\\w*\\s?\\w*coal \\w*', 'buckeye industrial mining co' ]\n",
    "\n",
    "t.match_witnesses(keywords, print_witnesses = False)"
   ]
  },
  {
   "cell_type": "code",
   "execution_count": 37,
   "metadata": {
    "scrolled": false
   },
   "outputs": [
    {
     "name": "stdout",
     "output_type": "stream",
     "text": [
      "4.2 ENERGY & NATURAL RESOURCES - Electric Utilities:\n",
      "\n",
      "There are 89 Electric Utilities witnesses.\n",
      "\n",
      "47 more Electric Utilities witnesses were matched, resulting in a total of 136 witnesses.\n"
     ]
    }
   ],
   "source": [
    "# 4.2 ENERGY/NAT RESOURCE: Electric Utilities\n",
    "t.select_industry(4, 2)\n",
    "\n",
    "t.count_witnesses('witness_industry', t.industry, print_witnesses = False)\n",
    "\n",
    "# Match witnesses\n",
    "keywords = ['((\\w+\\s?\\w+\\s?\\w+ )?authority( \\w+\\s?\\w+)?)',\n",
    "            '((\\w+ )?\\w*power (\\w+\\s?\\w+)?)', '\\w+ public service \\w+',\n",
    "            '((mid\\s?american|cps|og&e|txu|cal|shell|pepco|fpl)\\s?energy)',\n",
    "            'exelon', 'memphis light, gas, and water', 'powerspan',\n",
    "            'electric cooperative', '\\w+\\s?\\w+\\s?\\w+ fuels \\w+', 'national grid',\n",
    "            'electricite de france', 'pacific gas and electric \\w+',\n",
    "            ', (\\w+\\s?&?\\s?\\w+ nuclear)', 'old dominion cooperative',\n",
    "            'independent transmission system operator', 'tenaska', 'eon energie',\n",
    "            'midamerican corporation', ' jea$', 'generators for clean air',\n",
    "            'futuregen alliance','purgen one', 'pseg service corporation']\n",
    "\n",
    "antikeywords = ['small power consultants', 'empower', 'air power systems']\n",
    "\n",
    "t.match_witnesses(keywords, antikeywords, print_witnesses = False)"
   ]
  },
  {
   "cell_type": "code",
   "execution_count": 38,
   "metadata": {},
   "outputs": [
    {
     "name": "stdout",
     "output_type": "stream",
     "text": [
      "4.3 ENERGY & NATURAL RESOURCES - Mining:\n",
      "\n",
      "There are 5 Mining witnesses.\n",
      "\n",
      "6 more Mining witnesses were matched, resulting in a total of 11 witnesses.\n"
     ]
    }
   ],
   "source": [
    "# 4.3 ENERGY/NAT RESOURCE: Mining\n",
    "t.select_industry(4, 3)\n",
    "\n",
    "t.count_witnesses('witness_industry', t.industry, print_witnesses = False)\n",
    "\n",
    "# Match witnesses\n",
    "keywords = ['rio tinto', 'kennecott energy', 'alcoa \\w+\\s?\\w+', 'quaterra corporation']\n",
    "\n",
    "t.match_witnesses(keywords, print_witnesses = False)"
   ]
  },
  {
   "cell_type": "code",
   "execution_count": 39,
   "metadata": {},
   "outputs": [
    {
     "name": "stdout",
     "output_type": "stream",
     "text": [
      "4.4 ENERGY & NATURAL RESOURCES - Natural Gas transmission & distribution:\n",
      "\n",
      "There are 5 Natural Gas transmission & distribution witnesses.\n",
      "\n",
      "4 more Natural Gas transmission & distribution witnesses were matched, resulting in a total of 9 witnesses.\n"
     ]
    }
   ],
   "source": [
    "# 4.4 ENERGY/NAT RESOURCE: Natural Gas transmission & distribution\n",
    "t.select_industry(4, 4)\n",
    "\n",
    "t.count_witnesses('witness_industry', t.industry, print_witnesses = False)\n",
    "\n",
    "# Match witnesses\n",
    "keywords = ['piedmont natural gas company', 'transcanada pipeline',\n",
    "            'pipeline and industrial group', 'kinder morgan']\n",
    "\n",
    "t.match_witnesses(keywords, print_witnesses = False)\n",
    "# Natural Gas transmission & distribution could be included into the main category oil & gas as in the MoC financial data"
   ]
  },
  {
   "cell_type": "code",
   "execution_count": 40,
   "metadata": {},
   "outputs": [
    {
     "name": "stdout",
     "output_type": "stream",
     "text": [
      "4.5 ENERGY & NATURAL RESOURCES - Oil & Gas:\n",
      "\n",
      "There are 22 Oil & Gas witnesses.\n",
      "\n",
      "19 more Oil & Gas witnesses were matched, resulting in a total of 41 witnesses.\n"
     ]
    }
   ],
   "source": [
    "# 4.5 ENERGY/NAT RESOURCE: Oil & Gas\n",
    "t.select_industry(4, 5)\n",
    "\n",
    "t.count_witnesses('witness_industry', t.industry, print_witnesses = False)\n",
    "\n",
    "# Match witnesses\n",
    "keywords = ['(\\w+ oil (\\w+\\s?\\w+\\s?\\w+)?)', ', (shell(\\s|$)\\w*\\s?\\w*)',\n",
    "           'independent petroleum association \\w+\\s?\\w+\\s?\\w+', 'chevron',\n",
    "           'jireh resources', 'continental resources', 'conoco- phillips',\n",
    "           'advanced resources international', 'xto energy', 'cota & cota',\n",
    "           'suez lng', 'unimark', 'countrymark']\n",
    "\n",
    "t.match_witnesses(keywords, print_witnesses = False)"
   ]
  },
  {
   "cell_type": "code",
   "execution_count": 41,
   "metadata": {},
   "outputs": [
    {
     "name": "stdout",
     "output_type": "stream",
     "text": [
      "4.6 ENERGY & NATURAL RESOURCES - Waste Management:\n",
      "\n",
      "There are 3 Waste Management witnesses.\n",
      "\n",
      "4 more Waste Management witnesses were matched, resulting in a total of 7 witnesses.\n"
     ]
    }
   ],
   "source": [
    "# 4.6 ENERGY/NAT RESOURCE: Waste Management\n",
    "t.select_industry(4, 6)\n",
    "\n",
    "t.count_witnesses('witness_industry', t.industry, print_witnesses = False)\n",
    "\n",
    "# Match witnesses\n",
    "keywords = ['advanced waste management systems', 'ses, inc',\n",
    "            'cbl industrial services']\n",
    "\n",
    "t.match_witnesses(keywords, print_witnesses = False)"
   ]
  },
  {
   "cell_type": "code",
   "execution_count": 42,
   "metadata": {},
   "outputs": [
    {
     "name": "stdout",
     "output_type": "stream",
     "text": [
      "0 witnesses were found.\n"
     ]
    }
   ],
   "source": [
    "# Search for further matches\n",
    "keywords = []\n",
    "antikeywords = []\n",
    "\n",
    "t.search_witnesses(keywords, antikeywords)\n",
    "# t.print_key('content', )"
   ]
  },
  {
   "cell_type": "markdown",
   "metadata": {},
   "source": [
    "### 0 AGRIBUSINESS"
   ]
  },
  {
   "cell_type": "code",
   "execution_count": 43,
   "metadata": {},
   "outputs": [],
   "source": [
    "# 0 AGRIBUSINESS (A)\n",
    "# \t 1 Crop Production & Basic Processing\n",
    "#    \t 13 Vegetables, fruits and tree nut\n",
    "#    \t 11 Sugar cane & sugar beets\n",
    "# \t 12 Tobacco\n",
    "# \t 2 Dairy\n",
    "# \t 10 Poultry & Eggs\n",
    "# \t 8 Livestock\n",
    "# \t 0 Agricultural Services/Products\n",
    "#    \t 3 Farm bureaus\n",
    "# \t 5 Food Processing & Sales\n",
    "#    \t 4 Food and kindred products manufacturing\n",
    "#    \t 6 Food stores\n",
    "#    \t 9 Meat processing & products\n",
    "# \t 7 Forestry & Forest Products\n",
    "\n",
    "# >> No witnesses in the subcategories >> these can be deleted."
   ]
  },
  {
   "cell_type": "code",
   "execution_count": 44,
   "metadata": {},
   "outputs": [
    {
     "name": "stdout",
     "output_type": "stream",
     "text": [
      "0.1 AGRIBUSINESS - Crop Production & Basic Processing:\n",
      "\n",
      "There are 8 Crop Production & Basic Processing witnesses.\n",
      "\n",
      "81 more Crop Production & Basic Processing witnesses were matched, resulting in a total of 89 witnesses.\n"
     ]
    }
   ],
   "source": [
    "# 0.1 AGRIBUSINESS - Crop Production & Basic Processing\n",
    "t.select_industry(0, 1)\n",
    "\n",
    "t.count_witnesses('witness_industry', t.industry, print_witnesses = False)\n",
    "\n",
    "# Match witnesses\n",
    "keywords = ['\\S*\\s*producer', 'pacific northwest direct seed association',\n",
    "           'cargill', 'vineyard', 'grain and input cooperative',\n",
    "           'grain growers association', 'soybean association']\n",
    "\n",
    "\n",
    "t.match_witnesses(keywords,  print_witnesses = False)"
   ]
  },
  {
   "cell_type": "code",
   "execution_count": 45,
   "metadata": {},
   "outputs": [
    {
     "name": "stdout",
     "output_type": "stream",
     "text": [
      "0.2 AGRIBUSINESS - Dairy:\n",
      "\n",
      "There are 0 Dairy witnesses.\n",
      "\n",
      "3 more Dairy witnesses were matched, resulting in a total of 3 witnesses.\n"
     ]
    }
   ],
   "source": [
    "# 0.2 AGRIBUSINESS - Dairy\n",
    "t.select_industry(0, 2)\n",
    "\n",
    "t.count_witnesses('witness_industry', t.industry, print_witnesses = False)\n",
    "\n",
    "# Match witnesses\n",
    "keywords = ['brubaker farms', '(dairy(.+?)producer)' , 'dairy \\w+']\n",
    "\n",
    "t.match_witnesses(keywords, print_witnesses = False)"
   ]
  },
  {
   "cell_type": "code",
   "execution_count": 46,
   "metadata": {},
   "outputs": [
    {
     "name": "stdout",
     "output_type": "stream",
     "text": [
      "0.5 AGRIBUSINESS - Food Processing & Sales:\n",
      "\n",
      "There are 0 Food Processing & Sales witnesses.\n",
      "\n",
      "1 more Food Processing & Sales witnesses were matched, resulting in a total of 1 witnesses.\n"
     ]
    }
   ],
   "source": [
    "# 0.5 AGRIBUSINESS - Food Processing & Sales\n",
    "t.select_industry(0, 5)\n",
    "\n",
    "t.count_witnesses('witness_industry', t.industry, print_witnesses = False)\n",
    "\n",
    "# Match witnesses\n",
    "keywords = ['northwest food processors association']\n",
    "\n",
    "\n",
    "t.match_witnesses(keywords,  print_witnesses = False)"
   ]
  },
  {
   "cell_type": "code",
   "execution_count": 47,
   "metadata": {},
   "outputs": [
    {
     "name": "stdout",
     "output_type": "stream",
     "text": [
      "0.7 AGRIBUSINESS - Forestry & Forest Products:\n",
      "\n",
      "There are 3 Forestry & Forest Products witnesses.\n",
      "\n",
      "8 more Forestry & Forest Products witnesses were matched, resulting in a total of 11 witnesses.\n"
     ]
    }
   ],
   "source": [
    "# 0.7 AGRIBUSINESS - Forestry & Forest Products\n",
    "t.select_industry(0, 7)\n",
    "\n",
    "t.count_witnesses('witness_industry', t.industry, print_witnesses = False)\n",
    "\n",
    "# Match witnesses\n",
    "keywords = ['(?:on behalf of )?(\\w*\\s*\\w*\\s*\\w*\\s*forest(?!,)\\s*\\w*\\s*\\w*\\s*\\w*\\s*\\w*\\s*\\w*)',\n",
    "           'lumber inc', 'neiman enterprises']\n",
    "\n",
    "t.match_witnesses(keywords, print_witnesses = False)"
   ]
  },
  {
   "cell_type": "code",
   "execution_count": 48,
   "metadata": {},
   "outputs": [
    {
     "name": "stdout",
     "output_type": "stream",
     "text": [
      "0.8 AGRIBUSINESS - Livestock:\n",
      "\n",
      "There are 0 Livestock witnesses.\n",
      "\n",
      "2 more Livestock witnesses were matched, resulting in a total of 2 witnesses.\n"
     ]
    }
   ],
   "source": [
    "# 0.8 AGRIBUSINESS - Livestock\n",
    "t.select_industry(0, 8)\n",
    "\n",
    "t.count_witnesses('witness_industry', t.industry, print_witnesses = False)\n",
    "\n",
    "# Match witnesses\n",
    "keywords = ['livestock \\w+', '(cattle(.+?)producer)', '(pork(.+?)producer)',\n",
    "           '(beef(.+?)producer)', '(lamb(.+?)producer)', 'shellfish farmer']\n",
    "\n",
    "t.match_witnesses(keywords, print_witnesses = False)"
   ]
  },
  {
   "cell_type": "code",
   "execution_count": 49,
   "metadata": {},
   "outputs": [
    {
     "name": "stdout",
     "output_type": "stream",
     "text": [
      "0 witnesses were found.\n"
     ]
    }
   ],
   "source": [
    "# Search for further matches\n",
    "keywords = ['']\n",
    "antikeywords = []\n",
    "\n",
    "t.search_witnesses(keywords, antikeywords)"
   ]
  },
  {
   "cell_type": "markdown",
   "metadata": {},
   "source": [
    "### 12 TRANSPORTATION "
   ]
  },
  {
   "cell_type": "code",
   "execution_count": 50,
   "metadata": {},
   "outputs": [],
   "source": [
    "# 12 TRANSPORTATION (M)\n",
    "# \t 0 Air Transport (11)\n",
    "#    \t 1 Airlines (0)\n",
    "# \t 5 Automotive (0)\n",
    "#    \t 4 Auto manufacturers (9)\n",
    "#    \t 3 Auto dealers, new & used (0)\n",
    "#    \t 2 Auto dealers, foreign imports (0)\n",
    "# \t 9 Trucking (1)\n",
    "# \t 7 Railroads (5)\n",
    "# \t 8 Sea Transport (2)\n",
    "#    \t 6 Cruise ships & lines (0)"
   ]
  },
  {
   "cell_type": "code",
   "execution_count": 51,
   "metadata": {},
   "outputs": [
    {
     "name": "stdout",
     "output_type": "stream",
     "text": [
      "12.0 TRANSPORTATION - Air Transport:\n",
      "\n",
      "There are 11 Air Transport witnesses.\n",
      "\n",
      "6 more Air Transport witnesses were matched, resulting in a total of 17 witnesses.\n"
     ]
    }
   ],
   "source": [
    "# 12.0 TRANSPORTATION - Air Transport\n",
    "t.select_industry(12,0)\n",
    "\n",
    "t.count_witnesses('witness_industry', t.industry, print_witnesses = False)\n",
    "\n",
    "# Match witnesses\n",
    "keywords = ['\\w+ \\w+ \\w+ airport', 'air transport association', 'united airlines']\n",
    "\n",
    "t.match_witnesses(keywords, print_witnesses = False)"
   ]
  },
  {
   "cell_type": "code",
   "execution_count": 52,
   "metadata": {},
   "outputs": [
    {
     "name": "stdout",
     "output_type": "stream",
     "text": [
      "12.5 TRANSPORTATION - Automotive:\n",
      "\n",
      "There are 0 Automotive witnesses.\n",
      "\n",
      "11 more Automotive witnesses were matched, resulting in a total of 11 witnesses.\n"
     ]
    }
   ],
   "source": [
    "# 12.5 TRANSPORTATION - Automotive\n",
    "t.select_industry(12,5)\n",
    "\n",
    "t.count_witnesses('witness_industry', t.industry, print_witnesses = False)\n",
    "\n",
    "# Match witnesses\n",
    "keywords = ['air power systems co', 'pridgeon & clay', 'bus lines', \n",
    "            'the community bus service', 'american highway users alliance',\n",
    "            'toyota', 'honda', 'better place', 'suv owners of america']\n",
    "\n",
    "t.match_witnesses(keywords, print_witnesses = False)"
   ]
  },
  {
   "cell_type": "code",
   "execution_count": 53,
   "metadata": {},
   "outputs": [
    {
     "name": "stdout",
     "output_type": "stream",
     "text": [
      "12.7 TRANSPORTATION - Railroads:\n",
      "\n",
      "There are 5 Railroads witnesses.\n",
      "\n",
      "4 more Railroads witnesses were matched, resulting in a total of 9 witnesses.\n"
     ]
    }
   ],
   "source": [
    "# 12.7 TRANSPORTATION - Railroad\n",
    "t.select_industry(12,7)\n",
    "\n",
    "t.count_witnesses('witness_industry', t.industry, print_witnesses = False)\n",
    "\n",
    "# Match witnesses\n",
    "keywords = ['american public transportation association', 'colorado railcar']\n",
    "\n",
    "t.match_witnesses(keywords, print_witnesses = False)"
   ]
  },
  {
   "cell_type": "code",
   "execution_count": 54,
   "metadata": {},
   "outputs": [
    {
     "name": "stdout",
     "output_type": "stream",
     "text": [
      "12.9 TRANSPORTATION - Trucking:\n",
      "\n",
      "There are 1 Trucking witnesses.\n",
      "\n",
      "4 more Trucking witnesses were matched, resulting in a total of 5 witnesses.\n"
     ]
    }
   ],
   "source": [
    "# 112.9 TRANSPORTATION - Trucking\n",
    "t.select_industry(12,9)\n",
    "\n",
    "t.count_witnesses('witness_industry', t.industry, print_witnesses = False)\n",
    "\n",
    "# Match witnesses\n",
    "keywords = ['hahn transportation', 'watkins and shepard trucking', 'con-way']\n",
    "\n",
    "t.match_witnesses(keywords, print_witnesses = False)"
   ]
  },
  {
   "cell_type": "code",
   "execution_count": 55,
   "metadata": {},
   "outputs": [
    {
     "name": "stdout",
     "output_type": "stream",
     "text": [
      "12.8 TRANSPORTATION - Sea Transport:\n",
      "\n",
      "There are 2 Sea Transport witnesses.\n",
      "\n",
      "2 more Sea Transport witnesses were matched, resulting in a total of 4 witnesses.\n"
     ]
    }
   ],
   "source": [
    "# 12.8 TRANSPORTATION - Sea Transport\n",
    "t.select_industry(12,8)\n",
    "\n",
    "t.count_witnesses('witness_industry', t.industry, print_witnesses = False)\n",
    "\n",
    "# Match witnesses\n",
    "keywords = ['port fourchon', 'maersk']\n",
    "\n",
    "t.match_witnesses(keywords, print_witnesses = False)"
   ]
  },
  {
   "cell_type": "code",
   "execution_count": 56,
   "metadata": {},
   "outputs": [
    {
     "name": "stdout",
     "output_type": "stream",
     "text": [
      "0 witnesses were found.\n"
     ]
    }
   ],
   "source": [
    "# Search for further matches\n",
    "keywords = ['']\n",
    "antikeywords = []\n",
    "\n",
    "t.search_witnesses(keywords, antikeywords)"
   ]
  },
  {
   "cell_type": "markdown",
   "metadata": {},
   "source": [
    "### 2 CONSTRUCTION"
   ]
  },
  {
   "cell_type": "code",
   "execution_count": 57,
   "metadata": {},
   "outputs": [],
   "source": [
    "# 2 CONSTRUCTION (C)\n",
    "# \t 0 Architectural services\n",
    "# \t 1 Building Materials & Equipment\n",
    "# \t 2 Construction Services\n",
    "# \t 3 General Contractors\n",
    "# \t 4 Home Builders\n",
    "# \t 5 Special Trade Contractors"
   ]
  },
  {
   "cell_type": "code",
   "execution_count": 58,
   "metadata": {},
   "outputs": [
    {
     "name": "stdout",
     "output_type": "stream",
     "text": [
      "2.1 CONSTRUCTION - Building Materials & Equipment:\n",
      "\n",
      "There are 0 Building Materials & Equipment witnesses.\n",
      "\n",
      "3 more Building Materials & Equipment witnesses were matched, resulting in a total of 3 witnesses.\n"
     ]
    }
   ],
   "source": [
    "# 2.1 CONSTRUCTION - Building Materials & Equipment\n",
    "t.select_industry(2,1)\n",
    "\n",
    "t.count_witnesses('witness_industry', t.industry, print_witnesses = False)\n",
    "\n",
    "# Match witnesses\n",
    "keywords = ['headwaters incorporated', 'holcim cement']\n",
    "\n",
    "t.match_witnesses(keywords, print_witnesses = False)"
   ]
  },
  {
   "cell_type": "markdown",
   "metadata": {},
   "source": [
    "### 5 FINANCE, INSURANCE & REAL ESTATE"
   ]
  },
  {
   "cell_type": "code",
   "execution_count": 59,
   "metadata": {},
   "outputs": [],
   "source": [
    "# 5 FINANCE, INSURANCE & REAL ESTATE (F)\n",
    "# \t 1 Commercial Banks\n",
    "# \t 11 Savings & Loans\n",
    "# \t 2 Credit Unions\n",
    "# \t 3 Finance/Credit Companies\n",
    "#    \t 13 Student loan companies\n",
    "#    \t 8 Payday lenders\n",
    "# \t 12 Securities & Investment\n",
    "#    \t 14 Venture capital\n",
    "#    \t 4 Hedge Funds\n",
    "#    \t 9 Private Equity & Investment Firms\n",
    "# \t 5 Insurance\n",
    "# \t 10 Real Estate\n",
    "#    \t 7 Mortgage bankers and brokers\n",
    "# \t 0 Accountants\n",
    "# \t 6 Misc Finance"
   ]
  },
  {
   "cell_type": "code",
   "execution_count": 60,
   "metadata": {},
   "outputs": [
    {
     "name": "stdout",
     "output_type": "stream",
     "text": [
      "5.0 FINANCE, INSURANCE & REAL ESTATE - Accountants:\n",
      "\n",
      "There are 0 Accountants witnesses.\n",
      "\n",
      "0 more Accountants witnesses were matched, resulting in a total of 0 witnesses.\n"
     ]
    }
   ],
   "source": [
    "# 5.1 FINANCE, INSURANCE & REAL ESTATE - Accountants\n",
    "t.select_industry(5,0)\n",
    "\n",
    "t.count_witnesses('witness_industry', t.industry, print_witnesses = False)\n",
    "\n",
    "# Match witnesses\n",
    "keywords = ['']\n",
    "\n",
    "t.match_witnesses(keywords, print_witnesses = False)"
   ]
  },
  {
   "cell_type": "code",
   "execution_count": 61,
   "metadata": {},
   "outputs": [
    {
     "name": "stdout",
     "output_type": "stream",
     "text": [
      "5.1 FINANCE, INSURANCE & REAL ESTATE - Commercial Banks:\n",
      "\n",
      "There are 0 Commercial Banks witnesses.\n",
      "\n",
      "1 more Commercial Banks witnesses were matched, resulting in a total of 1 witnesses.\n"
     ]
    }
   ],
   "source": [
    "# 5.1 FINANCE, INSURANCE & REAL ESTATE - Commercial Banks\n",
    "t.select_industry(5,1)\n",
    "\n",
    "t.count_witnesses('witness_industry', t.industry, print_witnesses = False)\n",
    "\n",
    "# Match witnesses\n",
    "keywords = ['td bank']\n",
    "\n",
    "t.match_witnesses(keywords, print_witnesses = False)"
   ]
  },
  {
   "cell_type": "code",
   "execution_count": 62,
   "metadata": {},
   "outputs": [
    {
     "name": "stdout",
     "output_type": "stream",
     "text": [
      "5.5 FINANCE, INSURANCE & REAL ESTATE - Insurance:\n",
      "\n",
      "There are 2 Insurance witnesses.\n",
      "\n",
      "4 more Insurance witnesses were matched, resulting in a total of 6 witnesses.\n"
     ]
    }
   ],
   "source": [
    "# 5.5 FINANCE, INSURANCE & REAL ESTATE - Insurance\n",
    "t.select_industry(5,5)\n",
    "\n",
    "t.count_witnesses('witness_industry', t.industry, print_witnesses = False)\n",
    "\n",
    "# Match witnesses\n",
    "keywords = ['insurance agent', 'willis of texas', 'swiss re']\n",
    "\n",
    "t.match_witnesses(keywords, print_witnesses = False)"
   ]
  },
  {
   "cell_type": "code",
   "execution_count": 63,
   "metadata": {},
   "outputs": [
    {
     "name": "stdout",
     "output_type": "stream",
     "text": [
      "5.6 FINANCE, INSURANCE & REAL ESTATE - Misc Finance:\n",
      "\n",
      "There are 2 Misc Finance witnesses.\n",
      "\n",
      "10 more Misc Finance witnesses were matched, resulting in a total of 12 witnesses.\n"
     ]
    }
   ],
   "source": [
    "# 5.6 FINANCE, INSURANCE & REAL ESTATE - Misc Finance\n",
    "t.select_industry(5,6)\n",
    "\n",
    "t.count_witnesses('witness_industry', t.industry, print_witnesses = False)\n",
    "\n",
    "# Match witnesses\n",
    "keywords = ['eurex clearing', 'nasdaq', 'minneapolis grain exchange', \n",
    "            'investor responsibility research center',  'clearwater',\n",
    "            'securities industry and financial markets association',\n",
    "            'natsource', 'new energy finance']\n",
    "\n",
    "t.match_witnesses(keywords, print_witnesses = False)"
   ]
  },
  {
   "cell_type": "code",
   "execution_count": 64,
   "metadata": {},
   "outputs": [
    {
     "name": "stdout",
     "output_type": "stream",
     "text": [
      "5.10 FINANCE, INSURANCE & REAL ESTATE - Real Estate:\n",
      "\n",
      "There are 0 Real Estate witnesses.\n",
      "\n",
      "1 more Real Estate witnesses were matched, resulting in a total of 1 witnesses.\n"
     ]
    }
   ],
   "source": [
    "# 5.10 FINANCE, INSURANCE & REAL ESTATE - Real Estate\n",
    "t.select_industry(5,10)\n",
    "\n",
    "t.count_witnesses('witness_industry', t.industry, print_witnesses = False)\n",
    "\n",
    "# Match witnesses\n",
    "keywords = ['malkin holdings']\n",
    "\n",
    "t.match_witnesses(keywords, print_witnesses = False)"
   ]
  },
  {
   "cell_type": "code",
   "execution_count": 65,
   "metadata": {},
   "outputs": [
    {
     "name": "stdout",
     "output_type": "stream",
     "text": [
      "5.12 FINANCE, INSURANCE & REAL ESTATE - Securities & Investment:\n",
      "\n",
      "There are 34 Securities & Investment witnesses.\n",
      "\n",
      "7 more Securities & Investment witnesses were matched, resulting in a total of 41 witnesses.\n"
     ]
    }
   ],
   "source": [
    "# 5.12 FINANCE, INSURANCE & REAL ESTATE - Securities & Investment\n",
    "t.select_industry(5,12)\n",
    "\n",
    "t.count_witnesses('witness_industry', t.industry, print_witnesses = False)\n",
    "\n",
    "# Match witnesses\n",
    "keywords = ['masters capital management', 'jp morgan chase', 'icap energy',\n",
    "            'friedman billings ramsey and company', 'miller buckfire & co',\n",
    "            'missionpoint capital partners']\n",
    "\n",
    "t.match_witnesses(keywords, print_witnesses = False)"
   ]
  },
  {
   "cell_type": "code",
   "execution_count": 66,
   "metadata": {},
   "outputs": [
    {
     "name": "stdout",
     "output_type": "stream",
     "text": [
      "5.14 FINANCE, INSURANCE & REAL ESTATE - Venture capital:\n",
      "\n",
      "There are 0 Venture capital witnesses.\n",
      "\n",
      "9 more Venture capital witnesses were matched, resulting in a total of 9 witnesses.\n"
     ]
    }
   ],
   "source": [
    "# 5.14 FINANCE, INSURANCE & REAL ESTATE - Venture capital\n",
    "t.select_industry(5,14)\n",
    "\n",
    "t.count_witnesses('witness_industry', t.industry, print_witnesses = False)\n",
    "\n",
    "# Match witnesses\n",
    "keywords = ['arch venture partners', 'vantagepoint venture partners',\n",
    "            'in-q-tel', 'new energy associates', '\\w+ capital partners',\n",
    "            'kleiner perkins caufield & byers']\n",
    "\n",
    "t.match_witnesses(keywords, print_witnesses = False)"
   ]
  },
  {
   "cell_type": "code",
   "execution_count": 67,
   "metadata": {},
   "outputs": [
    {
     "name": "stdout",
     "output_type": "stream",
     "text": [
      "0 witnesses were found.\n"
     ]
    }
   ],
   "source": [
    "# Search for further matches\n",
    "keywords = ['']\n",
    "antikeywords = []\n",
    "\n",
    "t.search_witnesses(keywords, antikeywords)"
   ]
  },
  {
   "cell_type": "markdown",
   "metadata": {},
   "source": [
    "### 10 MISC BUSINESS"
   ]
  },
  {
   "cell_type": "code",
   "execution_count": 68,
   "metadata": {},
   "outputs": [],
   "source": [
    "# 10 MISC BUSINESS (N)\n",
    "\n",
    "# \t 2 Business Associations\n",
    "# \t 8 Food & Beverage\n",
    "#    \t 18 Restaurants & drinking establishments\n",
    "# \t 1 Beer, Wine & Liquor\n",
    "# \t 19 Retail Sales\n",
    "# \t 15 Misc Services\n",
    "#    \t 9 Funeral services\n",
    "# \t 3 Business Services\n",
    "#    \t 0 Advertising & public relations services\n",
    "# \t 17 Recreation/Live Entertainment\n",
    "#    \t 16 Professional sports, arenas & related equip & svcs\n",
    "# \t 4 Casinos/Gambling\n",
    "#    \t 10 Indian Gaming\n",
    "# \t 11 Lodging/Tourism\n",
    "# \t 12 Marijuana\n",
    "# \t 13 Marijuana\n",
    "# \t 7 Correctional facilities constr & mgmt/for-profit\n",
    "# \t 5 Chemical & Related Manufacturing\n",
    "# \t 20 Steel Production\n",
    "# \t 14 Misc Manufacturing & Distributing\n",
    "#    \t 6 Clothing & accessories\n",
    "# \t 21 Textiles"
   ]
  },
  {
   "cell_type": "code",
   "execution_count": 69,
   "metadata": {},
   "outputs": [
    {
     "name": "stdout",
     "output_type": "stream",
     "text": [
      "10.2 MISC BUSINESS - Business Associations:\n",
      "\n",
      "There are 22 Business Associations witnesses.\n",
      "\n",
      "7 more Business Associations witnesses were matched, resulting in a total of 29 witnesses.\n"
     ]
    }
   ],
   "source": [
    "# 10.2 MISC BUSINESS - Business Association\n",
    "t.select_industry(10, 2)\n",
    "\n",
    "t.count_witnesses('witness_industry', t.industry, print_witnesses = False)\n",
    "\n",
    "# Match witnesses\n",
    "keywords = ['the chlorine institute', 'the center for small business and the environment',\n",
    "            'institute of clean air companies', 'chamber of commerce',\n",
    "            'small business tax compliance & fairness coalition', \n",
    "            'international council for capital formation']\n",
    "\n",
    "t.match_witnesses(keywords, print_witnesses = False)"
   ]
  },
  {
   "cell_type": "code",
   "execution_count": 70,
   "metadata": {},
   "outputs": [
    {
     "name": "stdout",
     "output_type": "stream",
     "text": [
      "10.5 MISC BUSINESS - Chemical & Related Manufacturing:\n",
      "\n",
      "There are 1 Chemical & Related Manufacturing witnesses.\n",
      "\n",
      "3 more Chemical & Related Manufacturing witnesses were matched, resulting in a total of 4 witnesses.\n"
     ]
    }
   ],
   "source": [
    "# 10.5 MISC BUSINESS - Chemical & Related Manufacturing\n",
    "t.select_industry(10, 5)\n",
    "\n",
    "t.count_witnesses('witness_industry', t.industry, print_witnesses = False)\n",
    "\n",
    "# Match witnesses\n",
    "keywords = ['dow corning', 'zaclon chemical', 'dupont']\n",
    "\n",
    "t.match_witnesses(keywords, print_witnesses = False)"
   ]
  },
  {
   "cell_type": "code",
   "execution_count": 71,
   "metadata": {},
   "outputs": [
    {
     "name": "stdout",
     "output_type": "stream",
     "text": [
      "10.11 MISC BUSINESS - Lodging/Tourism:\n",
      "\n",
      "There are 2 Lodging/Tourism witnesses.\n",
      "\n",
      "1 more Lodging/Tourism witnesses were matched, resulting in a total of 3 witnesses.\n"
     ]
    }
   ],
   "source": [
    "# 10.11 MISC BUSINESS - Lodging/Tourism\n",
    "t.select_industry(10, 11)\n",
    "\n",
    "t.count_witnesses('witness_industry', t.industry, print_witnesses = False)\n",
    "\n",
    "# Match witnesses\n",
    "keywords = ['aspen skiing company']\n",
    "\n",
    "t.match_witnesses(keywords, print_witnesses = False)"
   ]
  },
  {
   "cell_type": "code",
   "execution_count": 72,
   "metadata": {},
   "outputs": [
    {
     "name": "stdout",
     "output_type": "stream",
     "text": [
      "10.14 MISC BUSINESS - Misc Manufacturing & Distributing:\n",
      "\n",
      "There are 10 Misc Manufacturing & Distributing witnesses.\n",
      "\n",
      "26 more Misc Manufacturing & Distributing witnesses were matched, resulting in a total of 36 witnesses.\n"
     ]
    }
   ],
   "source": [
    "# 10.14 MISC BUSINESS - Misc Manufacturing & Distributing\n",
    "t.select_industry(10, 14)\n",
    "\n",
    "t.count_witnesses('witness_industry', t.industry, print_witnesses = False)\n",
    "\n",
    "# Match witnesses\n",
    "keywords = ['energy[\\s-]{1}intensive manufacturers', 'manufacturers association',\n",
    "            'general electric', 'ge global research', 'factory service agency', \n",
    "            'warwick mills', 'siemens', 'ess llc', 'lighting science group corporation',\n",
    "            'timberland', 'target', 'aircuity', 'zumiez']\n",
    "\n",
    "t.match_witnesses(keywords, print_witnesses = False)"
   ]
  },
  {
   "cell_type": "code",
   "execution_count": 73,
   "metadata": {},
   "outputs": [
    {
     "name": "stdout",
     "output_type": "stream",
     "text": [
      "10.15 MISC BUSINESS - Misc Services:\n",
      "\n",
      "There are 0 Misc Services witnesses.\n",
      "\n",
      "36 more Misc Services witnesses were matched, resulting in a total of 36 witnesses.\n"
     ]
    }
   ],
   "source": [
    "# 10.15 MISC BUSINESS - Misc Services\n",
    "t.select_industry(10, 15)\n",
    "\n",
    "t.count_witnesses('witness_industry', t.industry, print_witnesses = False)\n",
    "\n",
    "# Match witnesses\n",
    "keywords = ['terrapass', 'planktos', 'cook inlet region inc.', 'google',\n",
    "            'fairbanks economic development corporation',\n",
    "            'schlumberger carbon services',\n",
    "            # Consultancies\n",
    "            'energy and environmental analysis', 'f.l. fernandez', \n",
    "            'ocean associates', 'industrial economics', 'meagher & flom',\n",
    "            'cambridge energy research associates', 'orbis energy advisors',\n",
    "            'dhe consulting', 'nativeenergy', 'standard credit group',\n",
    "            'arduin, laffer and moore econometrics', 'point carbon',  ', (pace)$',\n",
    "            'ada environmental solutions', 'the lindsey group', 'climate advisers',\n",
    "            'cra international', 'charles river associates', 'small power consultants']\n",
    "\n",
    "t.match_witnesses(keywords, print_witnesses = False)"
   ]
  },
  {
   "cell_type": "code",
   "execution_count": 74,
   "metadata": {
    "scrolled": true
   },
   "outputs": [
    {
     "name": "stdout",
     "output_type": "stream",
     "text": [
      "10.20 MISC BUSINESS - Steel Production:\n",
      "\n",
      "There are 3 Steel Production witnesses.\n",
      "\n",
      "3 more Steel Production witnesses were matched, resulting in a total of 6 witnesses.\n"
     ]
    }
   ],
   "source": [
    "# 10.20 MISC BUSINESS - Steel Production\n",
    "t.select_industry(10, 20)\n",
    "\n",
    "t.count_witnesses('witness_industry', t.industry, print_witnesses = False)\n",
    "\n",
    "# Match witnesses\n",
    "keywords = ['\\w+-?\\w+\\s?\\w+\\s?steel \\w+', 'dowding']\n",
    "\n",
    "t.match_witnesses(keywords, print_witnesses = False)"
   ]
  },
  {
   "cell_type": "code",
   "execution_count": 75,
   "metadata": {},
   "outputs": [
    {
     "name": "stdout",
     "output_type": "stream",
     "text": [
      "0 witnesses were found.\n"
     ]
    }
   ],
   "source": [
    "# Search for further matches\n",
    "keywords = ['']\n",
    "antikeywords = []\n",
    "\n",
    "t.search_witnesses(keywords, antikeywords)\n",
    "# t.print_key('content', 250)"
   ]
  },
  {
   "cell_type": "markdown",
   "metadata": {},
   "source": [
    "### 9 LAWYERS & LOBBYISTS"
   ]
  },
  {
   "cell_type": "code",
   "execution_count": 76,
   "metadata": {},
   "outputs": [],
   "source": [
    "# 9 LAWYERS & LOBBYISTS (K)\n",
    "# \t 0 Lawyers/Law Firms\n",
    "# \t 1 Lobbyists"
   ]
  },
  {
   "cell_type": "code",
   "execution_count": 77,
   "metadata": {},
   "outputs": [
    {
     "name": "stdout",
     "output_type": "stream",
     "text": [
      "9.0 LAWYERS & LOBBYISTS - Lawyers/Law Firms:\n",
      "\n",
      "There are 7 Lawyers/Law Firms witnesses.\n",
      "\n",
      "4 more Lawyers/Law Firms witnesses were matched, resulting in a total of 11 witnesses.\n"
     ]
    }
   ],
   "source": [
    "# 9.0 LAWYERS & LOBBYISTS - Lawyers/Law Firms\n",
    "t.select_industry(9, 0)\n",
    "\n",
    "t.count_witnesses('witness_industry', t.industry, print_witnesses = False)\n",
    "\n",
    "# Match witnesses\n",
    "keywords = ['latham & watkins', 'baker and hostetler', 'crowell and moring',\n",
    "           'cravath, swaine, and moore']\n",
    "\n",
    "t.match_witnesses(keywords, print_witnesses = False)"
   ]
  },
  {
   "cell_type": "code",
   "execution_count": 78,
   "metadata": {},
   "outputs": [
    {
     "name": "stdout",
     "output_type": "stream",
     "text": [
      "9.1 LAWYERS & LOBBYISTS - Lobbyists:\n",
      "\n",
      "There are 3 Lobbyists witnesses.\n",
      "\n",
      "9 2 The Honorable Carol Browner, Principal, The Albright Group LLC\n",
      "35 2 Browner, Carol M., Principal, The Albright Group, LLC\n",
      "231 41 James Kerr, Partner, McGuire Woods LLP, Former Commissioner, North Carolina Public Utilities Commission\n",
      "\n",
      "\n",
      "1 more Lobbyists witnesses were matched, resulting in a total of 4 witnesses.\n"
     ]
    }
   ],
   "source": [
    "# 9.1 LAWYERS & LOBBYISTS - Lobbyists\n",
    "t.select_industry(9, 1)\n",
    "\n",
    "t.count_witnesses('witness_industry', t.industry, print_witnesses = True)\n",
    "\n",
    "# Match witnesses\n",
    "keywords = ['bonner & associates']\n",
    "\n",
    "t.match_witnesses(keywords, print_witnesses = False)"
   ]
  },
  {
   "cell_type": "markdown",
   "metadata": {},
   "source": [
    "### 1 COMMUNICATIONS/ELECTRONICS"
   ]
  },
  {
   "cell_type": "code",
   "execution_count": 79,
   "metadata": {},
   "outputs": [],
   "source": [
    "# 1 COMMUNICATIONS/ELECTRONICS (B)\n",
    "# \t 0 Book, newspaper & periodical publishing\n",
    "# \t 1 Cable & satellite TV production\n",
    "# \t 2 Commercial TV & radio stations\n",
    "# \t 3 Computer software\n",
    "# \t 4 Electronics Mfg & Equip\n",
    "# \t 5 Internet\n",
    "# \t 6 Motion Picture production & distribution\n",
    "# \t 7 Printing & Publishing\n",
    "# \t 8 Recorded Music & music production\n",
    "# \t 9 Telecom Services\n",
    "# \t 10 Telephone Utilities\n",
    "# \t 11 TV production\n",
    "# \t 12 TV/Movies/Music"
   ]
  },
  {
   "cell_type": "code",
   "execution_count": 80,
   "metadata": {},
   "outputs": [
    {
     "name": "stdout",
     "output_type": "stream",
     "text": [
      "1.12 COMMUNICATIONS/ELECTRONICS - TV/Movies/Music:\n",
      "\n",
      "There are 0 TV/Movies/Music witnesses.\n",
      "\n",
      "\n",
      "\n",
      "136 1 Coleman, John, Senior Meteorologist, KUSI, San Diego, California \n",
      " Kusi \n",
      "\n",
      "\n",
      "1 more TV/Movies/Music witnesses were matched, resulting in a total of 1 witnesses.\n"
     ]
    }
   ],
   "source": [
    "# 1.12 COMMUNICATIONS/ELECTRONICS - TV/Movies/Music\n",
    "t.select_industry(1, 12)\n",
    "\n",
    "t.count_witnesses('witness_industry', t.industry, print_witnesses = True)\n",
    "\n",
    "# Match witnesses\n",
    "keywords = ['kusi']\n",
    "\n",
    "t.match_witnesses(keywords, print_witnesses = True)"
   ]
  },
  {
   "cell_type": "code",
   "execution_count": 81,
   "metadata": {
    "scrolled": true
   },
   "outputs": [
    {
     "name": "stdout",
     "output_type": "stream",
     "text": [
      "0 witnesses were found.\n"
     ]
    }
   ],
   "source": [
    "# Search for further matches\n",
    "keywords = [' ']\n",
    "antikeywords = []\n",
    "t.search_witnesses(keywords, antikeywords)\n",
    "# t.print_key('content', index)"
   ]
  },
  {
   "cell_type": "code",
   "execution_count": 82,
   "metadata": {},
   "outputs": [],
   "source": [
    "# save_as(t, 'Hearings/05_all_witnesses_temp.pkl') # Last completed on Dec 14, 2020\n",
    "# # t = load('05_all_witnesses_temp.pkl')"
   ]
  },
  {
   "cell_type": "code",
   "execution_count": 83,
   "metadata": {},
   "outputs": [
    {
     "name": "stdout",
     "output_type": "stream",
     "text": [
      "The affiliations of 1780 out of 1780 witnesses were successfully matched.\n",
      "\n",
      "\n"
     ]
    }
   ],
   "source": [
    "# Summary:\n",
    "matched = 0\n",
    "witnesses = 0\n",
    "\n",
    "for text in t.texts:\n",
    "    for i, witness in enumerate(text['witnesses']):\n",
    "        witnesses += 1\n",
    "        if text['witness_affiliation'][i] != None:\n",
    "            matched += 1              \n",
    "\n",
    "print('The affiliations of {} out of {} witnesses were successfully matched.\\n\\n'.format(matched, witnesses))\n",
    "\n",
    "# Dec 01:  1338 out of 1789 \n",
    "# Dec 02:  1339 out of 1789 \n",
    "# Dec 03:  1375 out of 1789 \n",
    "# Dec 03:  1500 out of 1789 \n",
    "# Dec 14:  1601 out of 1789\n",
    "# Dec 15:  1767 out of 1789\n",
    "# Dec 16:  1780 out of 1780"
   ]
  },
  {
   "cell_type": "code",
   "execution_count": 84,
   "metadata": {},
   "outputs": [],
   "source": [
    "# for i, text in enumerate(t.texts):\n",
    "#     for j, desmog_witness in enumerate(text['desmog_witness']):\n",
    "#         if desmog_witness != None:\n",
    "#             print(i, j, desmog_witness, ': ', text['witness_industry'][j],'- ',  text['witness_affiliation'][j], '\\n\\n')"
   ]
  },
  {
   "cell_type": "code",
   "execution_count": 85,
   "metadata": {},
   "outputs": [
    {
     "name": "stdout",
     "output_type": "stream",
     "text": [
      "There are 128 Agribusiness witnesses.\n",
      "\n",
      "There are 9 Communications/Electronics witnesses.\n",
      "\n",
      "There are 16 Construction witnesses.\n",
      "\n",
      "There are 12 Defense witnesses.\n",
      "\n",
      "There are 283 Energy & Natural Resources witnesses.\n",
      "\n",
      "There are 74 Finance, Insurance & Real Estate witnesses.\n",
      "\n",
      "There are 6 Health witnesses.\n",
      "\n",
      "There are 278 Ideological/Single-Issue witnesses.\n",
      "\n",
      "There are 31 Labor witnesses.\n",
      "\n",
      "There are 15 Lawyers & Lobbyists witnesses.\n",
      "\n",
      "There are 127 Misc Business witnesses.\n",
      "\n",
      "There are 746 Other witnesses.\n",
      "\n",
      "There are 55 Transportation witnesses.\n",
      "\n"
     ]
    }
   ],
   "source": [
    "for sector in sectors:\n",
    "    t.count_witnesses('witness_sector',  sector['name'], print_witnesses = False)"
   ]
  },
  {
   "cell_type": "code",
   "execution_count": 86,
   "metadata": {},
   "outputs": [],
   "source": [
    "# for sector in sectors:\n",
    "#     for industry in sector['industries']:\n",
    "#         t.count_witnesses('witness_industry',  industry['industry'], print_witnesses = False)"
   ]
  },
  {
   "cell_type": "code",
   "execution_count": 87,
   "metadata": {},
   "outputs": [],
   "source": [
    "# Should these be combined? (as seen here https://www.opensecrets.org/industries/slist.php)\n",
    "# Mining and coal mining could be combined into the main category mining\n",
    "# Natural Gas transmission & distribution could be included into the main category oil & gas\n",
    "# Transportation and air transportation >> Transportation unions"
   ]
  },
  {
   "cell_type": "code",
   "execution_count": 88,
   "metadata": {},
   "outputs": [],
   "source": [
    "save_as(t, 'Hearings/05_witnesses.pkl') # Last completed on Jan 13, 2021"
   ]
  }
 ],
 "metadata": {
  "kernelspec": {
   "display_name": "Python 3",
   "language": "python",
   "name": "python3"
  },
  "language_info": {
   "codemirror_mode": {
    "name": "ipython",
    "version": 3
   },
   "file_extension": ".py",
   "mimetype": "text/x-python",
   "name": "python",
   "nbconvert_exporter": "python",
   "pygments_lexer": "ipython3",
   "version": "3.8.10"
  }
 },
 "nbformat": 4,
 "nbformat_minor": 4
}
