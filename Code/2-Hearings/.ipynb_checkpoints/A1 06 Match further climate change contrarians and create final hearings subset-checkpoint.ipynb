{
 "cells": [
  {
   "cell_type": "markdown",
   "metadata": {},
   "source": [
    "# Match further climate change contrarians\n",
    "\n",
    "#### This script matches climate change contrarians according to Farell's list of denialists organisations and drops a couple of hearings that should not be included in the analysis"
   ]
  },
  {
   "cell_type": "code",
   "execution_count": 1,
   "metadata": {},
   "outputs": [],
   "source": [
    "from TextCollection import *\n",
    "import keyboard  # using module keyboard"
   ]
  },
  {
   "cell_type": "code",
   "execution_count": 2,
   "metadata": {},
   "outputs": [],
   "source": [
    "# # Reinstantiate class after changing the Textcollection.py script\n",
    "# # Do not run this in the last run! Leads to a conflict with pickle.\n",
    "\n",
    "# from importlib import reload\n",
    "\n",
    "# os.chdir('/home/mirjam/OneDrive/congress_committees/ArticleOne/Article_Scripts/Hearings')\n",
    "# import TextCollection; reload(TextCollection)\n",
    "\n",
    "# # Reinstantiate class\n",
    "# t.__class__ = HearingsCollection"
   ]
  },
  {
   "cell_type": "code",
   "execution_count": 3,
   "metadata": {},
   "outputs": [],
   "source": [
    "# Change directory\n",
    "os.chdir('../../Data/')"
   ]
  },
  {
   "cell_type": "code",
   "execution_count": 4,
   "metadata": {},
   "outputs": [
    {
     "name": "stdout",
     "output_type": "stream",
     "text": [
      "(8388608, -1)\n",
      "3000\n",
      "1048576\n"
     ]
    }
   ],
   "source": [
    "# Run for maximum recursion error during saving\n",
    "\n",
    "import resource\n",
    "import sys\n",
    "\n",
    "print(resource.getrlimit(resource.RLIMIT_STACK))\n",
    "print(sys.getrecursionlimit())\n",
    "\n",
    "# May segfault without this line. 0x100 is a guess at the size of each stack frame.\n",
    "max_rec = 0x100000\n",
    "resource.setrlimit(resource.RLIMIT_STACK, [0x100 * max_rec, resource.RLIM_INFINITY])\n",
    "sys.setrecursionlimit(max_rec)\n",
    "\n",
    "print(sys.getrecursionlimit())"
   ]
  },
  {
   "cell_type": "markdown",
   "metadata": {},
   "source": [
    "<br>\n",
    "\n",
    "## 1) Preparation: Loading, correcting and inspecting the data"
   ]
  },
  {
   "cell_type": "code",
   "execution_count": 5,
   "metadata": {},
   "outputs": [
    {
     "name": "stdout",
     "output_type": "stream",
     "text": [
      "We imported 263 hearings and lobbying 13 sectors for the years 2003 to 2010.\n",
      "\n"
     ]
    }
   ],
   "source": [
    "t = load('Hearings/05_witnesses.pkl')\n",
    "with open('OpenSecrets/sectors_industries_contributors.json', 'r') as jfile:\n",
    "    sectors = json.load(jfile)\n",
    "print('We imported {} hearings and lobbying {} sectors for the years {} to {}.\\n'.format(len(t),len(sectors), sectors[0]['industries'][0]['year'][0], \n",
    "                                                                                                        sectors[0]['industries'][0]['year'][-1]))\n",
    "# Append sectors to hearings collection\n",
    "t.sectors = sectors"
   ]
  },
  {
   "cell_type": "code",
   "execution_count": 6,
   "metadata": {},
   "outputs": [
    {
     "data": {
      "text/plain": [
       "dict_keys(['filename', 'identifier', 'content_raw', 'content', 'content_stripped', 'congress', 'climate_related', 'keywords_climate', 'keywords_carbonpricing', 'keywords_climatechange', 'title', 'date', 'year', 'committee', 'MODS', 'witnesses', 'desmog_witness', 'desmog_organisation', 'witness_affiliation', 'witness_sector', 'witness_industry', 'state_research'])"
      ]
     },
     "execution_count": 6,
     "metadata": {},
     "output_type": "execute_result"
    }
   ],
   "source": [
    "t.texts[0].keys()"
   ]
  },
  {
   "cell_type": "markdown",
   "metadata": {},
   "source": [
    "<br>\n",
    "\n",
    "## 2)  Find more climate change contrarians"
   ]
  },
  {
   "cell_type": "markdown",
   "metadata": {},
   "source": [
    "### Find more climate change contrarians \n",
    "\n",
    "#### Scan for contrarians on Farell's list of denialists organisations \n",
    "(https://media.nature.com/original/nature-assets/nclimate/journal/v6/n4/extref/nclimate2875-s1.pdf) \n",
    "#### Scan for the 'National Petrochemical & Refiners Association', which is the former name of the 'American Fuel & Petrochemical Manufacturers' \n",
    "(https://www.desmogblog.com/american-fuel-petrochemical-manufacturers-afpm)"
   ]
  },
  {
   "cell_type": "code",
   "execution_count": 7,
   "metadata": {},
   "outputs": [],
   "source": [
    "contrarian_organisations = ['60 plus association', 'accuracy in media', 'action institute for the study of religion and liberty', \n",
    "                           'advancement of sound science center inc', 'alexis de tocqueville institution', 'american coal foundation', \n",
    "                           'american coalition for clean coal electricity', 'american conservative union foundation', \n",
    "                           'american council for capital formation', 'american council on science and health', 'american energy alliance', \n",
    "                           'american energy freedom center', 'american enterprise institute for public policy research', \n",
    "                           'american farm bureau federation', 'american friends of institute of economic affairs', \n",
    "                           'american fuel and petrochemical manufacturers', 'american gas association', 'american legislative exchange council', \n",
    "                           'american natural gas alliance inc', 'american petroleum institute', 'american policy center', \n",
    "                           'american spectator foundation', 'american tradition institute', 'americans for a limited government inc', \n",
    "                           'americans for balanced energy choices', 'americans for prosperity', 'americans for tax reform', \n",
    "                           'annapolis center for science based public policy inc', 'association of global automobile manufacturers inc', \n",
    "                           'atlantic legal foundation', 'atlas economic research foundation atlas', 'australian climate science coalition', \n",
    "                           'capital research center and greenwatch', 'cascade policy institute', 'cato institute', \n",
    "                           'center for american and international law', 'center for defense of free enterprise', \n",
    "                           'center for security policy inc', 'center for strategic and international studies', \n",
    "                           'center for study of carbon dioxide and global change', 'centre for new europe', \n",
    "                           'chamber of commerce of united states of america', 'charles koch institute', \n",
    "                           'citizens for a sound economy now freedomworks', 'citizens for affordable energy inc', 'co2 is green inc', \n",
    "                           'coalition for american jobs', 'coalition for vehicle choice inc', 'collegians for constructive tomorrow', \n",
    "                           'committee for constructive tomorrow', 'communications institute', 'competitive enterprise institute', \n",
    "                           'consumer alert inc', 'consumer energy alliance inc', 'consumers alliance for global prosperity', \n",
    "                           'cooler heads coalition', 'cornwall alliance for the stewardship of creation', 'dci group', \n",
    "                           'defenders of property rights', 'donors trust donors capital fund', 'edison electric institute', \n",
    "                           'energy makes america great', 'environmental conservation organization', 'environmental literacy council', \n",
    "                           'exxonmobil', 'federalist society for law and public policy studies', \n",
    "                           'federation for american coal energy and security', 'fraser institute', \n",
    "                           'free enterprise action institute free enterprise education institute', 'freedom action', 'freedomworks foundation', \n",
    "                           'freedomworks inc', 'frontiers of freedom institute inc', 'george marshall institute', \n",
    "                           'george mason university law and economics center gmu lec', 'global climate coalition', \n",
    "                           'global warming policy foundation', 'greening earth society', 'heartland institute', 'heritage foundation', \n",
    "                           'hoover institution on war revolution and peace stanford university', 'hudson institute', \n",
    "                           'illinois policy institute', 'independence institute', 'independent commission on environmental education', \n",
    "                           'independent institute', 'independent petroleum association of america', 'independent womens forum', \n",
    "                           'industrial energy consumers of america', 'initiative for public policy analysis', \n",
    "                           'institute for biospheric research', 'institute for energy research', 'institute for liberty', \n",
    "                           'institute for regulatory science', 'institute for study of earth and man', \n",
    "                           'institute of humane studies george mason university', 'institute of public affairs', \n",
    "                           'intermountain rural electric association', 'international climate and environmental change assessment project', \n",
    "                           'international climate science coalition', 'international council for capital formation', \n",
    "                           'international policy network', 'international republican institute iri', \n",
    "                           'james madison institute for public policy studies inc', 'john locke foundation inc', 'junkscience dot com', \n",
    "                           'knowledge and progress fund', 'koch foundations combined', 'koch industries', 'landmark legal foundation', \n",
    "                           'lexington institute', 'lindenwood university', 'locke institute', 'mackinac center', \n",
    "                           'manhattan institute for policy research inc', 'media research center inc', 'mercatus center inc gwu', \n",
    "                           'mountain states legal foundation', 'national association of manufacturers of usa', \n",
    "                           'national black chamber of commerce', 'national center for policy analysis', \n",
    "                           'national center for public policy research inc', 'national council for environmental balance', \n",
    "                           'national environmental policy institute', 'national legal center for public interest', \n",
    "                           'national mining association', 'national petroleum council', 'national policy forum', \n",
    "                           'national rural electric cooperative association', 'national taxpayers union', \n",
    "                           'national taxpayers union foundation', 'national wilderness institute', 'new zealand climate science coalition', \n",
    "                           'oklahoma council of public affairs inc', 'oregon institute of science and medicine', 'pacific legal foundation', \n",
    "                           'pacific research institute for public policy', 'peabody energy', 'plants need co2 org', \n",
    "                           'property and environment research center', 'reason foundation', 'responsible resources', \n",
    "                           'science and environmental policy project', 'science and public policy institute', 'shook hardy and bacon llp', \n",
    "                           'small business survival committee', 'smithsonian astrophysical observatory willie soon and sallie baliunas', \n",
    "                           'southeastern legal foundation inc', 'sovereignty international inc', 'state policy network', \n",
    "                           'statistical assessment service stats', 'tech central science foundation', 'texas public policy foundation', \n",
    "                           'thomas jefferson institute for public policy', 'ts august', 'united for jobs', 'us russia business council', \n",
    "                           'virginia institute for public policy', 'washington legal foundation', 'washington policy center', \n",
    "                           'weidenbaum center on the economy government and public policy', 'center for the study of american business', \n",
    "                           'western fuels association', 'world affairs councils of america', 'world climate report',\n",
    "                           'national petrochemical and refiners association']"
   ]
  },
  {
   "cell_type": "code",
   "execution_count": 8,
   "metadata": {},
   "outputs": [
    {
     "name": "stdout",
     "output_type": "stream",
     "text": [
      "27 further contrarian witnesses were matched.\n"
     ]
    }
   ],
   "source": [
    "count = 0\n",
    "for i, text in enumerate(t.texts):\n",
    "    t.texts[i]['contrarian_organisation'] = t.texts[i]['desmog_organisation'].copy()\n",
    "    for j, contrarian_organisation in enumerate(text['contrarian_organisation']):\n",
    "        if contrarian_organisation is None:\n",
    "            for organisation in contrarian_organisations:\n",
    "                ratio = fuzz.partial_ratio(organisation,text['witnesses'][j].lower())\n",
    "                if ratio >= 90:\n",
    "# Uncomment the following lines to see the matched contrarian witnesses\n",
    "#                     print(i, j, ratio, ': ',\n",
    "#                           text['witnesses'][j].lower(),'\\n\\t',\n",
    "#                           organisation, '\\n')\n",
    "                    count+=1\n",
    "                    t.texts[i]['contrarian_organisation'][j] = organisation\n",
    "                    break\n",
    "print('{} further contrarian witnesses were matched.'.format(count))"
   ]
  },
  {
   "cell_type": "markdown",
   "metadata": {},
   "source": [
    "<br>\n",
    "\n",
    "## 4)  Extract the correct committee data from the MOD files for each hearing"
   ]
  },
  {
   "cell_type": "code",
   "execution_count": 9,
   "metadata": {
    "scrolled": true
   },
   "outputs": [
    {
     "name": "stdout",
     "output_type": "stream",
     "text": [
      "0 111hhrg67814 ['Committee on Energy and Commerce']\n",
      "1 110hhrg62523 ['Permanent Select Committee on Intelligence']\n",
      "2 110hhrg58149 ['Select Committee on Energy Independence and Global Warming']\n",
      "3 108hhrg90674 ['Committee on Science']\n",
      "4 110hhrg35774 ['Committee on Ways and Means']\n",
      "5 110hhrg41132 ['Committee on Science and Technology']\n",
      "6 110hhrg61959 ['Select Committee on Energy Independence and Global Warming']\n",
      "7 110hhrg48374 ['Committee on Agriculture']\n",
      "8 111shrg52750 ['Committee on Commerce, Science, and Transportation']\n",
      "9 110hhrg62201 ['Committee on Ways and Means']\n",
      "10 110shrg36640 ['Committee on Energy and Natural Resources']\n",
      "11 111hhrg62591 ['Select Committee on Energy Independence and Global Warming']\n",
      "12 110hhrg36921 ['Committee on Energy and Commerce']\n",
      "13 110shrg35525 ['Committee on Homeland Security and Governmental Affairs']\n",
      "14 110hhrg42305 ['Committee on Transportation and Infrastructure']\n",
      "15 111hhrg73749 ['Committee on Energy and Commerce']\n",
      "16 111hhrg62186 ['Select Committee on Energy Independence and Global Warming']\n",
      "17 110hhrg37453 ['Committee on Energy and Commerce']\n",
      "18 110hhrg62522 ['Select Committee on Energy Independence and Global Warming']\n",
      "19 111hhrg76568 ['Committee on Energy and Commerce']\n",
      "20 111shrg99882 ['Committee on Environment and Public Works']\n",
      "21 110shrg44764 ['Committee on Agriculture, Nutrition, and Forestry']\n",
      "22 111hhrg62589 ['Select Committee on Energy Independence and Global Warming']\n",
      "23 111shrg95161 ['Committee on Environment and Public Works']\n",
      "24 110shrg78880 ['Committee on Commerce, Science, and Transportation']\n",
      "25 108shrg91254 ['Committee on Appropriations', 'Committee on Environment and Public Works']\n",
      "26 110hhrg61526 ['Select Committee on Energy Independence and Global Warming']\n",
      "27 110shrg44709 ['Committee on Energy and Natural Resources']\n",
      "28 109shrg47643 ['Committee on Environment and Public Works']\n",
      "29 111hhrg62449 ['Select Committee on Energy Independence and Global Warming']\n",
      "30 111hhrg47755 ['Committee on Natural Resources']\n",
      "31 111shrg58197 ['Joint Economic Committee']\n",
      "32 111jhrg75408 ['Commission on Security and Cooperation in Europe']\n",
      "33 110shrg35906 ['Committee on Energy and Natural Resources']\n",
      "34 110hhrg58148 ['Select Committee on Energy Independence and Global Warming']\n",
      "35 110shrg55927 ['Committee on Environment and Public Works']\n",
      "36 111shrg23571 ['Committee on Environment and Public Works']\n",
      "37 109shrg21604 ['Committee on Energy and Natural Resources']\n",
      "38 111shrg53175 ['Committee on Foreign Relations']\n",
      "39 111shrg50922 ['Committee on the Budget']\n",
      "40 108hhrg88427 ['Committee on Energy and Commerce']\n",
      "41 110hhrg61956 ['Select Committee on Energy Independence and Global Warming']\n",
      "42 111hhrg62451 ['Select Committee on Energy Independence and Global Warming']\n",
      "43 111shrg99885 ['Committee on Environment and Public Works']\n",
      "44 111hhrg52331 ['Committee on Agriculture']\n",
      "45 110shrg73583 ['Committee on Environment and Public Works']\n",
      "46 110shrg61965 ['Committee on Environment and Public Works']\n",
      "47 111hhrg76003 ['Committee on Energy and Commerce']\n",
      "48 109shrg37444 ['Committee on Environment and Public Works']\n",
      "49 110hhrg37598 ['Committee on Energy and Commerce']\n",
      "50 111shrg54945 ['Committee on Energy and Natural Resources']\n",
      "51 110hhrg57316 ['Select Committee on Energy Independence and Global Warming']\n",
      "52 111hhrg74103 ['Committee on Energy and Commerce']\n",
      "53 110shrg75343 ['Committee on Commerce, Science, and Transportation']\n",
      "54 111hhrg47730 ['Committee on the Budget']\n",
      "55 110hhrg49406 ['Committee on Energy and Commerce']\n",
      "56 111shrg58299 ['Joint Economic Committee']\n",
      "57 111hhrg62450 ['Select Committee on Energy Independence and Global Warming']\n",
      "58 111shrg50432 ['Committee on Energy and Natural Resources']\n",
      "59 110hhrg61640 ['Select Committee on Energy Independence and Global Warming']\n",
      "60 110hhrg35740 ['Committee on Energy and Commerce']\n",
      "61 111hhrg62183 ['Select Committee on Energy Independence and Global Warming']\n",
      "62 111hhrg50223 ['Committee on Ways and Means']\n",
      "63 111hhrg52277 ['Committee on Natural Resources']\n",
      "64 111hhrg62454 ['Select Committee on Energy Independence and Global Warming']\n",
      "65 108hhrg87018 ['Committee on Resources']\n",
      "66 108shrg91748 ['Committee on Environment and Public Works']\n",
      "67 111hhrg54578 ['Committee on Agriculture']\n",
      "68 108hhrg98899 ['Committee on Government Reform']\n",
      "69 110shrg44664 ['Committee on Energy and Natural Resources']\n",
      "70 110hhrg37413 ['Committee on Energy and Commerce']\n",
      "71 111hhrg53007 ['Committee on Science and Technology']\n",
      "72 111hhrg48881 ['Committee on Small Business']\n",
      "73 110hhrg61728 ['Select Committee on Energy Independence and Global Warming']\n",
      "74 111shrg56665 ['Committee on Foreign Relations']\n",
      "75 110hhrg46477 ['Committee on Energy and Commerce']\n",
      "76 111hhrg63079 ['Committee on Ways and Means']\n",
      "77 111shrg95164 ['Committee on Environment and Public Works']\n",
      "78 111shrg95157 ['Committee on Environment and Public Works']\n",
      "79 110shrg85534 ['Committee on Environment and Public Works']\n",
      "80 110shrg61967 ['Committee on Environment and Public Works']\n",
      "81 109shrg32206 ['Committee on Environment and Public Works']\n",
      "82 110hhrg58418 ['Select Committee on Energy Independence and Global Warming']\n",
      "83 111shrg54614 ['Committee on Energy and Natural Resources']\n",
      "84 111hhrg63825 ['Committee on Energy and Commerce']\n",
      "85 111hhrg63001 ['Committee on Ways and Means']\n",
      "86 110shrg45194 ['Committee on Foreign Relations']\n",
      "87 111shrg48760 ['Committee on Energy and Natural Resources']\n",
      "88 111shrg53882 ['Committee on Energy and Natural Resources']\n",
      "89 110shrg74322 ['Committee on Commerce, Science, and Transportation']\n",
      "90 110hhrg51574 ['Committee on Energy and Commerce']\n",
      "91 109hhrg26380 ['Committee on Ways and Means']\n",
      "92 110hhrg58085 ['Select Committee on Energy Independence and Global Warming']\n",
      "93 109shrg64226 ['Committee on Commerce, Science, and Transportation']\n",
      "94 110hhrg57964 ['Select Committee on Energy Independence and Global Warming']\n",
      "95 110shrg73849 ['Committee on Commerce, Science, and Transportation']\n",
      "96 110shrg85526 ['Committee on Environment and Public Works']\n",
      "97 110hhrg37423 ['Committee on Energy and Commerce']\n",
      "98 111shrg58087 ['Committee on Appropriations']\n",
      "99 111shrg55124 ['Committee on Energy and Natural Resources']\n",
      "100 111hhrg47612 ['Committee on Science and Technology']\n",
      "101 110hhrg34820 ['Committee on Natural Resources']\n",
      "102 110shrg41817 ['Committee on Appropriations', 'Committee on Health, Education, Labor, and Pensions']\n",
      "103 109hhrg29932 ['Committee on Government Reform']\n",
      "104 110shrg45735 ['Committee on Foreign Relations']\n",
      "105 110shrg38602 ['Committee on Appropriations', 'Committee on Energy and Natural Resources']\n",
      "106 110shrg78852 ['Committee on Commerce, Science, and Transportation']\n",
      "107 111hhrg48736 ['Committee on Science and Technology']\n",
      "108 110shrg55929 ['Committee on Environment and Public Works']\n",
      "109 110hhrg37415 ['Committee on Oversight and Government Reform']\n",
      "110 111shrg95160 ['Committee on Environment and Public Works']\n",
      "111 111shrg56071 ['Committee on Foreign Relations']\n",
      "112 111shrg20183 ['Committee on Environment and Public Works']\n",
      "113 111shrg65632 ['Committee on Finance']\n",
      "114 110shrg88911 ['Committee on Environment and Public Works']\n",
      "115 111shrg20182 ['Committee on Environment and Public Works']\n",
      "116 110hhrg35926 ['Committee on Transportation and Infrastructure']\n",
      "117 109shrg30720 ['Committee on Environment and Public Works']\n",
      "118 111hhrg62519 ['Select Committee on Energy Independence and Global Warming']\n",
      "119 110hhrg47819 ['Committee on Energy and Commerce']\n",
      "120 111hhrg77911 ['Committee on Energy and Commerce']\n",
      "121 108shrg82493 ['Committee on Commerce, Science, and Transportation']\n",
      "122 108hhrg90165 ['Committee on Science']\n",
      "123 111hhrg57926 ['Committee on Agriculture']\n",
      "124 108shrg94597 ['Committee on Environment and Public Works']\n",
      "125 110hhrg39491 ['Committee on the Budget']\n",
      "126 110hhrg42440 ['Committee on Energy and Commerce']\n",
      "127 111shrg54243 ['Committee on Foreign Relations']\n",
      "128 111hhrg52330 ['Committee on Agriculture']\n",
      "129 111hhrg67096 ['Committee on Energy and Commerce']\n",
      "130 111hhrg63514 ['Committee on Energy and Commerce']\n",
      "131 108shrg22296 ['Committee on Commerce, Science, and Transportation']\n",
      "132 111shrg50986 ['Committee on Energy and Natural Resources']\n",
      "133 110shrg88904 ['Committee on Environment and Public Works']\n",
      "134 111hhrg47729 ['Committee on the Budget']\n"
     ]
    },
    {
     "name": "stdout",
     "output_type": "stream",
     "text": [
      "135 111hhrg52329 ['Committee on Agriculture']\n",
      "136 111hhrg48662 ['Committee on Natural Resources']\n",
      "137 110hhrg50023 ['Committee on Energy and Commerce']\n",
      "138 110shrg44855 ['Committee on Energy and Natural Resources']\n",
      "139 110shrg80088 ['Committee on Commerce, Science, and Transportation']\n",
      "140 111shrg50178 ['Committee on Energy and Natural Resources']\n",
      "141 111shrg47252 ['Committee on Energy and Natural Resources']\n",
      "142 111hhrg51519 ['Committee on Small Business']\n",
      "143 111shrg55049 ['Committee on Energy and Natural Resources']\n",
      "144 111hhrg57172 ['Committee on Science and Technology']\n",
      "145 108shrg94602 ['Committee on Environment and Public Works']\n",
      "146 111hhrg51949 ['Committee on Ways and Means']\n",
      "147 110shrg36310 ['Committee on Energy and Natural Resources']\n",
      "148 110hhrg62525 ['Select Committee on Energy Independence and Global Warming']\n",
      "149 110shrg34079 ['Committee on Energy and Natural Resources']\n",
      "150 111hhrg73745 ['Committee on Energy and Commerce']\n",
      "151 111hhrg50438 ['Committee on Natural Resources']\n",
      "152 110hhrg35059 ['Committee on Natural Resources']\n",
      "153 110shrg55923 ['Committee on Environment and Public Works']\n",
      "154 111shrg94583 ['Committee on Environment and Public Works']\n",
      "155 111shrg94588 ['Committee on Environment and Public Works']\n",
      "156 111hhrg50632 ['Committee on Foreign Affairs']\n",
      "157 111hhrg63005 ['Select Committee on Energy Independence and Global Warming']\n",
      "158 110shrg41620 ['Committee on Appropriations', 'Committee on Energy and Natural Resources']\n",
      "159 110hhrg35445 ['Committee on Energy and Commerce']\n",
      "160 111hhrg47859 ['Committee on Science and Technology']\n",
      "161 108shrg92379 ['Committee on Environment and Public Works']\n",
      "162 110hhrg57807 ['Committee on Energy and Commerce']\n",
      "163 110shrg73579 ['Committee on Environment and Public Works']\n",
      "164 110hhrg50138 ['Committee on Appropriations', 'Committee on Ways and Means']\n",
      "165 109hhrg21708 ['Committee on Science']\n",
      "166 111hhrg47608 ['Committee on Natural Resources']\n",
      "167 111shrg52910 ['Committee on Foreign Relations']\n",
      "168 108hhrg92340 ['Committee on Science']\n",
      "169 110hhrg34796 ['Committee on Transportation and Infrastructure']\n",
      "170 110shrg34649 []\n",
      "171 110shrg36077 ['Committee on Energy and Natural Resources']\n",
      "172 110shrg35039 ['Committee on Commerce, Science, and Transportation']\n",
      "173 110shrg45837 ['Committee on Energy and Natural Resources']\n",
      "174 110hhrg57968 ['Select Committee on Energy Independence and Global Warming']\n",
      "175 111shrg50740 ['Committee on Energy and Natural Resources']\n",
      "176 110hhrg37414 ['Committee on Energy and Commerce']\n",
      "177 109hhrg26480 ['Committee on Science']\n",
      "178 111hhrg67102 ['Committee on Energy and Commerce']\n",
      "179 110hhrg34670 ['Committee on Natural Resources']\n",
      "180 111hhrg65123 ['Committee on Oversight and Government Reform']\n",
      "181 111shrg54915 ['Committee on Commerce, Science, and Transportation']\n",
      "182 110hhrg61638 ['Select Committee on Energy Independence and Global Warming']\n",
      "183 111hhrg51256 ['Committee on Foreign Affairs']\n",
      "184 111hhrg56971 ['Congressional-Executive Commission on China']\n",
      "185 109shrg24631 ['Committee on Energy and Natural Resources']\n",
      "186 111shrg99887 ['Committee on Environment and Public Works']\n",
      "187 110hhrg58244 ['Select Committee on Energy Independence and Global Warming']\n",
      "188 111shrg62715 ['Committee on Agriculture, Nutrition, and Forestry']\n",
      "189 111shrg53003 ['Committee on Energy and Natural Resources']\n",
      "190 111shrg21159 ['Committee on Environment and Public Works']\n",
      "191 110hhrg61955 ['Select Committee on Energy Independence and Global Warming']\n",
      "192 111shrg54563 ['Committee on Energy and Natural Resources']\n",
      "193 111hhrg62618 ['Committee on Science and Technology']\n",
      "194 110hhrg58415 ['Select Committee on Energy Independence and Global Warming']\n",
      "195 109shrg42270 ['Committee on Environment and Public Works']\n",
      "196 111hhrg47994 ['Committee on the Budget']\n",
      "197 110hhrg56980 ['Committee on Energy and Commerce']\n",
      "198 110hhrg57595 ['Committee on Energy and Commerce']\n",
      "199 110hhrg41798 ['Committee on Science and Technology']\n",
      "200 111hhrg51922 ['Committee on Agriculture']\n",
      "201 111hhrg62452 ['Select Committee on Energy Independence and Global Warming']\n",
      "202 111shrg21350 ['Committee on Environment and Public Works']\n",
      "203 111shrg53910 ['Committee on Foreign Relations']\n",
      "204 110shrg73571 ['Committee on Environment and Public Works']\n",
      "205 111hhrg47991 ['Committee on Natural Resources']\n",
      "206 111hhrg64024 ['Committee on Energy and Commerce']\n",
      "207 110hhrg57966 ['Select Committee on Energy Independence and Global Warming']\n",
      "208 111hhrg51698 ['Committee on Agriculture']\n",
      "209 110hhrg42879 ['Committee on Natural Resources']\n",
      "210 111shrg56563 ['Committee on Agriculture, Nutrition, and Forestry']\n",
      "211 110shrg49738 ['Committee on Commerce, Science, and Transportation']\n",
      "212 110hhrg40203 ['Committee on Energy and Commerce']\n",
      "213 110hhrg32966 ['Committee on Science and Technology']\n",
      "214 111hhrg50226 ['Committee on Ways and Means']\n",
      "215 110shrg88902 ['Committee on Environment and Public Works']\n",
      "216 110shrg36492 ['Committee on Energy and Natural Resources']\n",
      "217 110shrg37273 ['Committee on Energy and Natural Resources']\n",
      "218 108shrg95341 ['Committee on Commerce, Science, and Transportation']\n",
      "219 111shrg51737 ['Committee on Foreign Relations']\n",
      "220 110hhrg37579 ['Committee on Energy and Commerce', 'Committee on Science and Technology']\n",
      "221 111shrg62351 ['Committee on Energy and Natural Resources']\n",
      "222 110shrg61968 ['Committee on Environment and Public Works']\n",
      "223 109shrg28095 ['Committee on Energy and Natural Resources']\n",
      "224 110shrg37460 ['Committee on Energy and Natural Resources']\n",
      "225 110shrg50362 ['Committee on Banking, Housing, and Urban Affairs']\n",
      "226 110hhrg58414 ['Select Committee on Energy Independence and Global Warming']\n",
      "227 110hhrg34719 ['Committee on Science and Technology']\n",
      "228 109hhrg29851 ['Committee on Science']\n",
      "229 111hhrg48332 ['Committee on Foreign Affairs']\n",
      "230 111shrg54366 ['Committee on Energy and Natural Resources']\n",
      "231 111hhrg72878 ['Committee on Energy and Commerce']\n",
      "232 110hhrg37639 ['Committee on Science and Technology']\n",
      "233 111shrg61699 ['Committee on Energy and Natural Resources']\n",
      "234 110hhrg44650 ['Committee on Oversight and Government Reform']\n",
      "235 110shrg45338 ['Committee on Energy and Natural Resources']\n",
      "236 110hhrg57965 ['Select Committee on Energy Independence and Global Warming']\n",
      "237 111hhrg50224 ['Committee on Ways and Means']\n",
      "238 110hhrg42156 ['Committee on Energy and Commerce']\n",
      "239 111hhrg62588 ['Select Committee on Energy Independence and Global Warming']\n",
      "240 110shrg53827 ['Committee on Environment and Public Works']\n",
      "241 110hhrg33675 ['Committee on Natural Resources']\n",
      "242 111hhrg51119 ['Committee on Ways and Means']\n",
      "243 111hhrg48004 ['Committee on Science and Technology']\n",
      "244 108shrg80794 ['Committee on Commerce, Science, and Transportation']\n",
      "245 111hhrg47754 ['Committee on Natural Resources']\n",
      "246 110hhrg58082 ['Select Committee on Energy Independence and Global Warming']\n",
      "247 111hhrg50611 ['Committee on Natural Resources']\n",
      "248 110shrg45340 ['Committee on Energy and Natural Resources']\n",
      "249 111shrg51901 ['Committee on Foreign Relations']\n",
      "250 108shrg94255 ['Committee on Commerce, Science, and Transportation']\n",
      "251 111shrg54638 ['Committee on Banking, Housing, and Urban Affairs']\n",
      "252 111shrg52393 ['Joint Economic Committee']\n",
      "253 110hhrg61725 ['Select Committee on Energy Independence and Global Warming']\n",
      "254 110shrg44771 ['Committee on Foreign Relations']\n",
      "255 111shrg48193 ['Committee on Energy and Natural Resources']\n",
      "256 110shrg53824 ['Committee on Environment and Public Works']\n",
      "257 109shrg63518 ['Committee on Commerce, Science, and Transportation']\n",
      "258 111shrg23569 ['Committee on Environment and Public Works']\n",
      "259 109shrg33730 ['Committee on Foreign Relations']\n",
      "260 111hhrg49983 ['Committee on Transportation and Infrastructure']\n",
      "261 111hhrg55839 ['Committee on Science and Technology']\n",
      "262 109shrg52324 ['Committee on Environment and Public Works']\n"
     ]
    }
   ],
   "source": [
    "for i, text in enumerate(t.texts):\n",
    "    if len(re.findall('<name type=\"authority-standard\">\\W?(.+?)\\W?</name>', str(text['MODS']))) != 0:\n",
    "        print(i, text['identifier'], re.findall('<name type=\"authority-standard\">\\W?(.+?)\\W?</name>', str(text['MODS'])))\n",
    "        t.texts[i]['committee'] =re.findall('<name type=\"authority-standard\">\\W?(.+?)\\W?</name>', str(text['MODS']))\n",
    "    else:\n",
    "        print(i, text['identifier'], re.findall('<otherhostingorg>(.+?)(?: House of Representatives)?</otherhostingorg>', str(text['MODS'])))\n",
    "        t.texts[i]['committee'] = re.findall('<otherhostingorg>(.+?)(?: House of Representatives)?</otherhostingorg>', str(text['MODS']))"
   ]
  },
  {
   "cell_type": "code",
   "execution_count": 10,
   "metadata": {},
   "outputs": [
    {
     "name": "stdout",
     "output_type": "stream",
     "text": [
      "25 108shrg91254 ['Committee on Appropriations', 'Committee on Environment and Public Works']\n",
      "102 110shrg41817 ['Committee on Appropriations', 'Committee on Health, Education, Labor, and Pensions']\n",
      "105 110shrg38602 ['Committee on Appropriations', 'Committee on Energy and Natural Resources']\n",
      "158 110shrg41620 ['Committee on Appropriations', 'Committee on Energy and Natural Resources']\n",
      "164 110hhrg50138 ['Committee on Appropriations', 'Committee on Ways and Means']\n",
      "170 110shrg34649 []\n",
      "220 110hhrg37579 ['Committee on Energy and Commerce', 'Committee on Science and Technology']\n"
     ]
    }
   ],
   "source": [
    "# Check the hearings that have not been assigned exactly one committee\n",
    "for i, text in enumerate(t.texts):\n",
    "    if len(text[\"committee\"]) != 1:\n",
    "        print(i, text['identifier'], text['committee'])"
   ]
  },
  {
   "cell_type": "code",
   "execution_count": 11,
   "metadata": {},
   "outputs": [],
   "source": [
    "# 108shrg91254: Committee on Environment and Public Works\n",
    "# https://www.govinfo.gov/content/pkg/CHRG-108shrg91254/html/CHRG-108shrg91254.htm\n",
    "# >> drop falsely assigned 'Committee on Appropriations'\n",
    "\n",
    "# 110shrg41817: Committee on Health, Education, Labor, and Pensions\n",
    "# https://www.govinfo.gov/content/pkg/CHRG-108shrg91254/html/CHRG-108shrg91254.htm\n",
    "# >> drop falsely assigned 'Committee on Appropriations'\n",
    "\n",
    "# 110shrg38602: Committee on Energy and Natural Resources\n",
    "# https://www.govinfo.gov/content/pkg/CHRG-110shrg38602/html/CHRG-110shrg38602.htm\n",
    "# >> drop falsely assigned 'Committee on Appropriations'\n",
    "\n",
    "# 110shrg41620: Committee on Energy and Natural Resources\n",
    "# https://www.govinfo.gov/content/pkg/CHRG-110shrg41620/html/CHRG-110shrg41620.htm\n",
    "# >> drop falsely assigned 'Committee on Appropriations'\n",
    "\n",
    "# 110hhrg50138: Committee on Ways and Means\n",
    "# https://www.govinfo.gov/content/pkg/CHRG-110hhrg50138/html/CHRG-110hhrg50138.htm\n",
    "# >> drop falsely assigned 'Committee on Appropriations'\n",
    "\n",
    "# 110shrg34649: Committee on the Budget\n",
    "# https://www.govinfo.gov/app/details/CHRG-110shrg34649/CHRG-110shrg34649\n",
    "# >> fill in missing information\n",
    "\n",
    "# 110hhrg37579: Committee on Energy and Commerce & Committee on Science and Technology\n",
    "# https://www.govinfo.gov/content/pkg/CHRG-110hhrg37579/html/CHRG-110hhrg37579.htm\n",
    "# >> This is the only hearing that was actually held in front of two committees. \n",
    "# >> To avoid pseudo-replication we assign this to the Committee on Energy and Commerce,\n",
    "# >> which has taken the lead on this hearing (listed first on transcript & chairing)."
   ]
  },
  {
   "cell_type": "code",
   "execution_count": 12,
   "metadata": {},
   "outputs": [
    {
     "name": "stdout",
     "output_type": "stream",
     "text": [
      "25 108shrg91254 ['Committee on Appropriations', 'Committee on Environment and Public Works']\n",
      "25 108shrg91254 ['Committee on Environment and Public Works'] \n",
      "\n",
      "102 110shrg41817 ['Committee on Appropriations', 'Committee on Health, Education, Labor, and Pensions']\n",
      "102 110shrg41817 ['Committee on Health, Education, Labor, and Pensions'] \n",
      "\n",
      "105 110shrg38602 ['Committee on Appropriations', 'Committee on Energy and Natural Resources']\n",
      "105 110shrg38602 ['Committee on Energy and Natural Resources'] \n",
      "\n",
      "158 110shrg41620 ['Committee on Appropriations', 'Committee on Energy and Natural Resources']\n",
      "158 110shrg41620 ['Committee on Energy and Natural Resources'] \n",
      "\n",
      "164 110hhrg50138 ['Committee on Appropriations', 'Committee on Ways and Means']\n",
      "164 110hhrg50138 ['Committee on Ways and Means'] \n",
      "\n",
      "170 110shrg34649 []\n",
      "170 110shrg34649 ['Committee on the Budget'] \n",
      "\n",
      "220 110hhrg37579 ['Committee on Energy and Commerce', 'Committee on Science and Technology']\n",
      "220 110hhrg37579 ['Committee on Energy and Commerce'] \n",
      "\n"
     ]
    }
   ],
   "source": [
    "# Make the corrections\n",
    "for i, text in enumerate(t.texts):\n",
    "    if text['identifier'] in ['108shrg91254', '110shrg41817', '110shrg38602', '110shrg41620', '110hhrg50138']:\n",
    "        print(i, text['identifier'], text['committee'])\n",
    "        t.texts[i]['committee'] = [t.texts[i]['committee'][1]]\n",
    "        print(i, text['identifier'], text['committee'], '\\n')\n",
    "\n",
    "    if text['identifier'] in ['110shrg34649']:\n",
    "        print(i, text['identifier'], text['committee'])\n",
    "        t.texts[i]['committee'] = ['Committee on the Budget']\n",
    "        print(i, text['identifier'], text['committee'], '\\n')\n",
    "\n",
    "    if text['identifier'] in ['110hhrg37579']:\n",
    "        print(i, text['identifier'], text['committee'])\n",
    "        t.texts[i]['committee'] = [t.texts[i]['committee'][0]]\n",
    "        print(i, text['identifier'], text['committee'], '\\n')      "
   ]
  },
  {
   "cell_type": "code",
   "execution_count": 13,
   "metadata": {},
   "outputs": [],
   "source": [
    "# Flatten the comittee lists\n",
    "for i, text in enumerate(t.texts):\n",
    "    t.texts[i]['committee'] = text['committee'][0]"
   ]
  },
  {
   "cell_type": "markdown",
   "metadata": {},
   "source": [
    "<br>\n",
    "\n",
    "## 4)  Create final hearings subset"
   ]
  },
  {
   "cell_type": "code",
   "execution_count": 14,
   "metadata": {},
   "outputs": [
    {
     "data": {
      "text/plain": [
       "260"
      ]
     },
     "execution_count": 14,
     "metadata": {},
     "output_type": "execute_result"
    }
   ],
   "source": [
    "# Drop hearing 111hhrg57926: hearing to review u.s. agriculture policy in advance of the 2012 farm bill \n",
    "# (This hearing has many industry (82) witnesses giving testimony, most of wich (77) represent the agribusiness and are mostly farmers. \n",
    "# This heavily skews the result, suggesting that the industry represented 58% as opposed to around 33% of testimonies in 2010, and misrepresents \n",
    "# the actual debate on climate legislation at the time. As the bill does not discuss climate legislation, it was excluded.)\n",
    "\n",
    "# Drop hearings '111jhrg75408' and '111hhrg56971' as these were held by a commission and not by committees\n",
    "\n",
    "t.texts = [text for text in t.texts if text['identifier'] not in \n",
    "           ['111hhrg57926', '111jhrg75408', '111hhrg56971']]\n",
    "len(t)"
   ]
  },
  {
   "cell_type": "code",
   "execution_count": 15,
   "metadata": {},
   "outputs": [
    {
     "data": {
      "text/plain": [
       "257"
      ]
     },
     "execution_count": 15,
     "metadata": {},
     "output_type": "execute_result"
    }
   ],
   "source": [
    "# Drop hearings from Joint Economic Committee which do not fit into the analysis of the House vs the Senate (as they are both)\n",
    "t.texts = [text for text in t.texts if text['committee'] != \n",
    "           'Joint Economic Committee']\n",
    "len(t)"
   ]
  },
  {
   "cell_type": "code",
   "execution_count": 16,
   "metadata": {},
   "outputs": [],
   "source": [
    "save_as(t, 'Hearings/06_witnesses.pkl') # Last completed on Mar 01, 2022"
   ]
  }
 ],
 "metadata": {
  "kernelspec": {
   "display_name": "Python 3",
   "language": "python",
   "name": "python3"
  },
  "language_info": {
   "codemirror_mode": {
    "name": "ipython",
    "version": 3
   },
   "file_extension": ".py",
   "mimetype": "text/x-python",
   "name": "python",
   "nbconvert_exporter": "python",
   "pygments_lexer": "ipython3",
   "version": "3.8.10"
  }
 },
 "nbformat": 4,
 "nbformat_minor": 4
}
