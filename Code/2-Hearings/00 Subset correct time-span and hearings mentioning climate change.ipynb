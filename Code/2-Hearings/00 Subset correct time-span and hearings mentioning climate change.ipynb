{
 "cells": [
  {
   "cell_type": "markdown",
   "metadata": {},
   "source": [
    "# Extract hearings for the correct time-span mentioning climate change and a carbon pricing keyword"
   ]
  },
  {
   "cell_type": "code",
   "execution_count": 1,
   "metadata": {},
   "outputs": [],
   "source": [
    "from TextCollection import *"
   ]
  },
  {
   "cell_type": "code",
   "execution_count": 2,
   "metadata": {},
   "outputs": [],
   "source": [
    "# # Reinstantiate class after changing the Textcollection.py script\n",
    "# # Do not run this in the last run! Leads to a conflict with pickle.\n",
    "\n",
    "#from importlib import reload\n",
    "\n",
    "# os.chdir('/home/mirjam/OneDrive/congress_committees/ArticleOne/Article_Scripts/Hearings')\n",
    "# import TextCollection; reload(TextCollection)\n",
    "\n",
    "# # Reinstantiate class\n",
    "# t.__class__ = HearingsCollection"
   ]
  },
  {
   "cell_type": "code",
   "execution_count": 3,
   "metadata": {},
   "outputs": [],
   "source": [
    "# Change directory\n",
    "os.chdir('../../Data/')"
   ]
  },
  {
   "cell_type": "markdown",
   "metadata": {},
   "source": [
    "<br>\n",
    "\n",
    "### Import all hearings as t.texts."
   ]
  },
  {
   "cell_type": "code",
   "execution_count": 4,
   "metadata": {},
   "outputs": [],
   "source": [
    "path = '../../../../congress_committees/Boussalis & Coan/data/texts/'\n",
    "basename = 'text_CHRG-'\n",
    "filetype = '.htm'"
   ]
  },
  {
   "cell_type": "code",
   "execution_count": 5,
   "metadata": {},
   "outputs": [
    {
     "name": "stdout",
     "output_type": "stream",
     "text": [
      "21729 hearings were loaded.\n",
      "It took approximately 12 minutes to load the hearings.\n"
     ]
    }
   ],
   "source": [
    "tic = time.time()\n",
    "t = HearingsCollection(path, basename, filetype)\n",
    "toc = time.time()\n",
    "print('It took approximately {} minutes to load the hearings.'.format(round((toc-tic)/60)))"
   ]
  },
  {
   "cell_type": "code",
   "execution_count": 6,
   "metadata": {},
   "outputs": [
    {
     "data": {
      "text/plain": [
       "dict_keys(['filename', 'identifier', 'content_raw', 'content', 'content_stripped', 'congress'])"
      ]
     },
     "execution_count": 6,
     "metadata": {},
     "output_type": "execute_result"
    }
   ],
   "source": [
    "t.texts[0].keys()"
   ]
  },
  {
   "cell_type": "markdown",
   "metadata": {},
   "source": [
    "##### <br>\n",
    "\n",
    "### Climate related?"
   ]
  },
  {
   "cell_type": "code",
   "execution_count": 7,
   "metadata": {},
   "outputs": [],
   "source": [
    "keywords = {'climate_related': ['climate.?change', 'global.?warming']}"
   ]
  },
  {
   "cell_type": "code",
   "execution_count": 8,
   "metadata": {},
   "outputs": [
    {
     "name": "stdout",
     "output_type": "stream",
     "text": [
      "The keywords of 21729 hearings were extracted in 1.19 minutes.\n"
     ]
    }
   ],
   "source": [
    "tic = time.time()\n",
    "t.get_keywords(keywords)\n",
    "toc = time.time()\n",
    "print('The keywords of {} hearings were extracted in {} minutes.'.format(len(t.texts), round((toc-tic)/60,2)))"
   ]
  },
  {
   "cell_type": "code",
   "execution_count": 9,
   "metadata": {},
   "outputs": [
    {
     "data": {
      "text/plain": [
       "dict_keys(['filename', 'identifier', 'content_raw', 'content', 'content_stripped', 'congress', 'climate_related'])"
      ]
     },
     "execution_count": 9,
     "metadata": {},
     "output_type": "execute_result"
    }
   ],
   "source": [
    "t.texts[0].keys()"
   ]
  },
  {
   "cell_type": "code",
   "execution_count": 10,
   "metadata": {},
   "outputs": [
    {
     "name": "stdout",
     "output_type": "stream",
     "text": [
      "3529 climate related hearings were found.\n"
     ]
    }
   ],
   "source": [
    "count = 0\n",
    "for text in t.texts:\n",
    "    if len(text['climate_related']) > 0:\n",
    "        count += 1\n",
    "print('{} climate related hearings were found.'.format(count))"
   ]
  },
  {
   "cell_type": "markdown",
   "metadata": {},
   "source": [
    "<br>\n",
    "\n",
    "### Subset the correct years (i.e. congress number)."
   ]
  },
  {
   "cell_type": "code",
   "execution_count": 11,
   "metadata": {},
   "outputs": [
    {
     "name": "stdout",
     "output_type": "stream",
     "text": [
      "The data now contains 9948 hearings.\n",
      "9948 hearings from the 108th to the 111th congress were found.\n"
     ]
    }
   ],
   "source": [
    "congress_numbers = ['108', '109', '110', '111']\n",
    "t.subset('congress', congress_numbers)\n",
    "print('{} hearings from the {}th to the {}th congress were found.'.format(len(t.texts), congress_numbers[0], congress_numbers[-1]))"
   ]
  },
  {
   "cell_type": "markdown",
   "metadata": {},
   "source": [
    "<br>\n",
    "\n",
    "### Extract the relevant keywords for further subsetting the data"
   ]
  },
  {
   "cell_type": "code",
   "execution_count": 12,
   "metadata": {},
   "outputs": [],
   "source": [
    "keywords = {'keywords_climatechange': ['climate.?change', 'global.?warming'],\n",
    "            'keywords_climate': ['greenhouse.?effect', 'greenhouse.?gas', 'ghg',\n",
    "                                 'carbon.?dioxide', 'co2',\n",
    "                                 'carbon.?emission',\n",
    "                                 'methane', 'ch4',\n",
    "                                 'nitruous.?oxide', 'n2o', \n",
    "                                 'ozone', 'o3',\n",
    "                                 'chlorofluorocarbon', 'cfc', \n",
    "                                 'hydrofluorocarbon', 'hcfc', 'hfc'],\n",
    "            'keywords_carbonpricing': ['emission[s]?.?trading', 'cap.?and.?trade',\n",
    "                                     '(?:american)?.?clean.?energy.?and.?security.?act', \n",
    "                                     'climate.?security', 'waxman.?markey',\n",
    "                                     'climate.?stewardship', 'carbon.?tax', 'carbon.?fee',\n",
    "                                     'price.?on.?carbon',  'emission[s]?.?tax', 'emission[s]?.?fee',\n",
    "                                      'climate.?policy', 'climate.?change.?policy']}"
   ]
  },
  {
   "cell_type": "code",
   "execution_count": 13,
   "metadata": {},
   "outputs": [
    {
     "data": {
      "text/html": [
       "\n",
       "                <audio  controls=\"controls\" autoplay=\"autoplay\">\n",
       "                    <source src=\"https://www.myinstants.com/media/sounds/kq-beep.mp3\" type=\"audio/mpeg\" />\n",
       "                    Your browser does not support the audio element.\n",
       "                </audio>\n",
       "              "
      ],
      "text/plain": [
       "<IPython.lib.display.Audio object>"
      ]
     },
     "metadata": {},
     "output_type": "display_data"
    },
    {
     "name": "stdout",
     "output_type": "stream",
     "text": [
      "The keywords of 9948 hearings were extracted in 2.9 minutes.\n"
     ]
    }
   ],
   "source": [
    "tic = time.time()\n",
    "t.get_keywords(keywords)\n",
    "toc = time.time()\n",
    "print('The keywords of {} hearings were extracted in {} minutes.'.format(len(t.texts), round((toc-tic)/60,2)))"
   ]
  },
  {
   "cell_type": "code",
   "execution_count": 14,
   "metadata": {},
   "outputs": [
    {
     "name": "stdout",
     "output_type": "stream",
     "text": [
      "5 {'climate change', 'global warming'}\n",
      "20 {'climate change'}\n",
      "27 {'global warming'}\n",
      "28 {'climate change', 'global warming'}\n",
      "29 {'climate change', 'global warming'}\n",
      "41 {'climate change', 'global warming'}\n",
      "44 {'climate change', 'global warming'}\n",
      "50 {'climate change', 'global warming'}\n",
      "56 {'climate change'}\n",
      "57 {'globalwarming', 'climate change', 'global warming'}\n",
      "62 {'climate change'}\n",
      "64 {'globalwarming', 'climate-change', 'climate change', 'global warming'}\n",
      "66 {'climate change', 'global warming'}\n",
      "72 {'globalwarming', 'climate change', 'global warming'}\n",
      "78 {'climate change'}\n",
      "94 {'climate change', 'global warming'}\n"
     ]
    }
   ],
   "source": [
    "t.print_key_i('keywords_climatechange', 0, 100, return_set = 1)"
   ]
  },
  {
   "cell_type": "code",
   "execution_count": 15,
   "metadata": {},
   "outputs": [
    {
     "name": "stdout",
     "output_type": "stream",
     "text": [
      "41 {'carbon tax'}\n",
      "44 {'price on carbon', 'cap-and trade', 'climate change policy', 'climate policy', 'cap-and-trade', 'carbon tax'}\n",
      "64 {'cap and trade', 'climate security', 'climate change policy', 'climate policy', 'cap-and-trade', 'carbon tax'}\n",
      "72 {'climate policy', 'carbon tax', 'cap and trade'}\n",
      "92 {'waxman-markey', 'cap-and-trade'}\n"
     ]
    }
   ],
   "source": [
    "t.print_key_i('keywords_carbonpricing', 0, 100, return_set = 1)"
   ]
  },
  {
   "cell_type": "code",
   "execution_count": 16,
   "metadata": {},
   "outputs": [
    {
     "name": "stdout",
     "output_type": "stream",
     "text": [
      "There are 1775 hearings mentioning climate change or global warming at least 1 time.\n"
     ]
    }
   ],
   "source": [
    "count = 0\n",
    "cutoff = 1\n",
    "for text in t.texts:\n",
    "    if len(text['keywords_climatechange']) >= cutoff:\n",
    "        count += 1  \n",
    "print('There are {} hearings mentioning climate change or global warming at least {} time.'.format(count, cutoff))"
   ]
  },
  {
   "cell_type": "code",
   "execution_count": 17,
   "metadata": {},
   "outputs": [
    {
     "name": "stdout",
     "output_type": "stream",
     "text": [
      "There are 628 hearings with at least 1 carbon pricing related keywords in the remaining hearings.\n"
     ]
    }
   ],
   "source": [
    "count = 0\n",
    "cutoff = 1\n",
    "for text in t.texts:\n",
    "    if len(text['keywords_carbonpricing']) >= cutoff:\n",
    "        count += 1  \n",
    "print('There are {} hearings with at least {} carbon pricing related keywords in the remaining hearings.'.format(count, cutoff))"
   ]
  },
  {
   "cell_type": "markdown",
   "metadata": {},
   "source": [
    "<br>\n",
    "\n",
    "### Subset to hearings containg at least one climate change and one carbon pricing keyword."
   ]
  },
  {
   "cell_type": "code",
   "execution_count": 18,
   "metadata": {},
   "outputs": [
    {
     "name": "stdout",
     "output_type": "stream",
     "text": [
      "The data now contains 545 hearings.\n"
     ]
    }
   ],
   "source": [
    "t.texts = [text for text in t.texts if len(text['keywords_climatechange']) > 0 and len(text['keywords_carbonpricing']) > 0]\n",
    "print('The data now contains {} hearings.'.format(len(t.texts)))\n",
    "#497"
   ]
  },
  {
   "cell_type": "code",
   "execution_count": 19,
   "metadata": {},
   "outputs": [
    {
     "name": "stdout",
     "output_type": "stream",
     "text": [
      "There are 175 hearings with more than 10 climate related keywords in the remaining hearings.\n"
     ]
    }
   ],
   "source": [
    "count = 0\n",
    "cutoff = 10\n",
    "for text in t.texts:\n",
    "    if len(text['keywords_carbonpricing']) > cutoff:\n",
    "        count += 1  \n",
    "print('There are {} hearings with more than {} climate related keywords in the remaining hearings.'.format(count, cutoff))"
   ]
  },
  {
   "cell_type": "markdown",
   "metadata": {},
   "source": [
    "<br>\n",
    "\n",
    "### Extract the titles"
   ]
  },
  {
   "cell_type": "code",
   "execution_count": 20,
   "metadata": {},
   "outputs": [
    {
     "data": {
      "text/html": [
       "\n",
       "                <audio  controls=\"controls\" autoplay=\"autoplay\">\n",
       "                    <source src=\"https://www.myinstants.com/media/sounds/kq-beep.mp3\" type=\"audio/mpeg\" />\n",
       "                    Your browser does not support the audio element.\n",
       "                </audio>\n",
       "              "
      ],
      "text/plain": [
       "<IPython.lib.display.Audio object>"
      ]
     },
     "metadata": {},
     "output_type": "display_data"
    },
    {
     "name": "stdout",
     "output_type": "stream",
     "text": [
      "The titles of 545 hearings were extracted in 9.65 seconds.\n"
     ]
    }
   ],
   "source": [
    "tic = time.time()\n",
    "t.get_titles()\n",
    "toc = time.time()\n",
    "print('The titles of {} hearings were extracted in {} seconds.'.format(len(t.texts), round(toc-tic,2)))"
   ]
  },
  {
   "cell_type": "code",
   "execution_count": 21,
   "metadata": {},
   "outputs": [],
   "source": [
    "t.print_key_i('title', missing = True) \n",
    "# No missing titles"
   ]
  },
  {
   "cell_type": "markdown",
   "metadata": {},
   "source": [
    "<br>\n",
    "\n",
    "### Extract the dates"
   ]
  },
  {
   "cell_type": "code",
   "execution_count": 22,
   "metadata": {},
   "outputs": [
    {
     "data": {
      "text/html": [
       "\n",
       "                <audio  controls=\"controls\" autoplay=\"autoplay\">\n",
       "                    <source src=\"https://www.myinstants.com/media/sounds/kq-beep.mp3\" type=\"audio/mpeg\" />\n",
       "                    Your browser does not support the audio element.\n",
       "                </audio>\n",
       "              "
      ],
      "text/plain": [
       "<IPython.lib.display.Audio object>"
      ]
     },
     "metadata": {},
     "output_type": "display_data"
    },
    {
     "name": "stdout",
     "output_type": "stream",
     "text": [
      "The dates of 545 hearings were extracted in 4.48 seconds.\n"
     ]
    }
   ],
   "source": [
    "tic = time.time()\n",
    "t.get_dates()\n",
    "toc = time.time()\n",
    "print('The dates of {} hearings were extracted in {} seconds.'.format(len(t.texts), round(toc-tic,2)))"
   ]
  },
  {
   "cell_type": "code",
   "execution_count": 23,
   "metadata": {},
   "outputs": [],
   "source": [
    "t.print_key_i('year', missing = True) \n",
    "# No missing dates/years"
   ]
  },
  {
   "cell_type": "markdown",
   "metadata": {},
   "source": [
    "<br>\n",
    "\n",
    "### Extract the committees"
   ]
  },
  {
   "cell_type": "code",
   "execution_count": 24,
   "metadata": {},
   "outputs": [
    {
     "name": "stdout",
     "output_type": "stream",
     "text": [
      "The committees of 545 hearings were extracted in 0.12 seconds.\n"
     ]
    }
   ],
   "source": [
    "tic = time.time()\n",
    "t.get_committees()\n",
    "toc = time.time()\n",
    "print('The committees of {} hearings were extracted in {} seconds.'.format(len(t.texts), round(toc-tic,2)))"
   ]
  },
  {
   "cell_type": "code",
   "execution_count": 25,
   "metadata": {},
   "outputs": [
    {
     "name": "stdout",
     "output_type": "stream",
     "text": [
      "0 ['energy and resources', 'government reform']\n",
      "1 ['energy and commerce', 'energy and environment']\n",
      "2 ['intelligence', 'energy independence and global warming', 'energy independence', 'intelligence community management permanent select']\n",
      "3 ['energy independence and global warming', 'energy independence']\n",
      "4 ['joint economic committee']\n"
     ]
    }
   ],
   "source": [
    "t.print_key_i('committee', 0, 5)"
   ]
  },
  {
   "cell_type": "code",
   "execution_count": 26,
   "metadata": {},
   "outputs": [
    {
     "name": "stdout",
     "output_type": "stream",
     "text": [
      "57 []\n",
      "71 []\n",
      "74 []\n",
      "92 []\n",
      "152 []\n",
      "372 []\n",
      "510 []\n"
     ]
    }
   ],
   "source": [
    "t.print_key_i('committee', missing = True) \n",
    "# All but one (134) of these hearings with missing committee are hearings before a comission."
   ]
  },
  {
   "cell_type": "code",
   "execution_count": 27,
   "metadata": {},
   "outputs": [
    {
     "name": "stdout",
     "output_type": "stream",
     "text": [
      "\n",
      " - energy and water development appropriations for fiscal year 2009\n",
      "[senate hearing 110-840]\n",
      "[from the u.s. government printing office]\n",
      "\n",
      "\n",
      "\n",
      "\n",
      "                                                        s. hrg. 110-840\n",
      "\n",
      "                                                        senate hearings\n",
      "\n",
      "                                 before the committee on appropriations\n",
      "\n",
      "_______________________________________________________________________\n",
      "\n",
      "\n",
      "                                                       energy and \n",
      "appropriations\n"
     ]
    }
   ],
   "source": [
    "# Hearing 134 is before the Committee on Appropriations, which was not noted in the header of the transcript (see https://www.govinfo.gov/app/details/CHRG-111hhrg56343/CHRG-111hhrg56343)\n",
    "\n",
    "t.print_key_head('content', 134)\n",
    "\n",
    "# Replace and echeckthe missing committee\n",
    "t.texts[134]['committee'] = 'appropriations'\n",
    "t.print_key('committee', 134)\n"
   ]
  },
  {
   "cell_type": "markdown",
   "metadata": {},
   "source": [
    "## Save data"
   ]
  },
  {
   "cell_type": "code",
   "execution_count": 38,
   "metadata": {},
   "outputs": [],
   "source": [
    "save_as(t, 'Hearings/00_hearings_carbon_pricing.pkl') # Last completed on Sep 15, 2020"
   ]
  }
 ],
 "metadata": {
  "kernelspec": {
   "display_name": "Python 3",
   "language": "python",
   "name": "python3"
  },
  "language_info": {
   "codemirror_mode": {
    "name": "ipython",
    "version": 3
   },
   "file_extension": ".py",
   "mimetype": "text/x-python",
   "name": "python",
   "nbconvert_exporter": "python",
   "pygments_lexer": "ipython3",
   "version": "3.8.10"
  }
 },
 "nbformat": 4,
 "nbformat_minor": 4
}
