{
 "cells": [
  {
   "cell_type": "markdown",
   "metadata": {},
   "source": [
    "## Extract OpenSecrets Interest groups"
   ]
  },
  {
   "cell_type": "code",
   "execution_count": 1,
   "metadata": {},
   "outputs": [],
   "source": [
    "import requests       # send requests to web server\n",
    "from lxml import html # parse HTML\n",
    "import json           # store data as json file\n",
    "import re             # regular expressions\n",
    "import os             # access directories\n",
    "os.chdir('../../../Data/OpenSecrets')\n",
    "from tqdm import tqdm # create progress bar (for i in tqdm(list))"
   ]
  },
  {
   "cell_type": "markdown",
   "metadata": {},
   "source": [
    "## Sectors"
   ]
  },
  {
   "cell_type": "code",
   "execution_count": 2,
   "metadata": {},
   "outputs": [],
   "source": [
    "# Extract the webpage to scrape and built an HTML document tree\n",
    "url = 'http://www.opensecrets.org/federal-lobbying/ranked-sectors'\n",
    "page = requests.get(url)\n",
    "tree = html.fromstring(page.content)\n",
    "tree.make_links_absolute(url) #extracts absolute instead of relative links"
   ]
  },
  {
   "cell_type": "code",
   "execution_count": 3,
   "metadata": {},
   "outputs": [
    {
     "name": "stdout",
     "output_type": "stream",
     "text": [
      "13 names extracted. The first one is:\n",
      "Health\n",
      "13 links extracted. The first one is:\n",
      "http://www.opensecrets.org/federal-lobbying/sectors/summary?cycle=2020&id=H\n"
     ]
    }
   ],
   "source": [
    "# Extract the names of each sector\n",
    "names = tree.xpath('//td[contains(@class, \"color-category\")]/a/text()')\n",
    "print('{} names extracted. The first one is:'.format(len(names)))\n",
    "print(names[0])\n",
    "# Extract the links of each sector\n",
    "URLs = tree.xpath('//td[contains(@class, \"color-category\")]/a/@href')\n",
    "print('{} links extracted. The first one is:'.format(len(URLs)))\n",
    "print(URLs[0])"
   ]
  },
  {
   "cell_type": "code",
   "execution_count": 4,
   "metadata": {},
   "outputs": [
    {
     "name": "stdout",
     "output_type": "stream",
     "text": [
      "13 sectors extracted. The first one is:\n",
      "{'name': 'Health', 'page_url': 'http://www.opensecrets.org/federal-lobbying/sectors/summary?cycle=2020&id=H', 'id': 'H'}\n"
     ]
    }
   ],
   "source": [
    "# Combine names and links into a list of sectors\n",
    "# Each sector is saved in a dictionary\n",
    "sectors = []\n",
    "\n",
    "for i in range(len(names)):\n",
    "    sectors.append({'name': names[i],\n",
    "                       'page_url': URLs[i],\n",
    "                       'id': re.findall('(?<=id=)\\S*',URLs[i])[0]})\n",
    "\n",
    "print('{} sectors extracted. The first one is:'.format(len(sectors)))\n",
    "\n",
    "print(sectors[0])"
   ]
  },
  {
   "cell_type": "markdown",
   "metadata": {},
   "source": [
    "## Industries"
   ]
  },
  {
   "cell_type": "code",
   "execution_count": 5,
   "metadata": {
    "scrolled": true
   },
   "outputs": [
    {
     "name": "stdout",
     "output_type": "stream",
     "text": [
      "Extracting the industries for the 13 sectors:\n",
      "\n",
      "Health\n",
      "Finance/Insur/RealEst\n",
      "Misc Business\n",
      "Communic/Electronics\n",
      "Energy/Nat Resource\n",
      "Transportation\n",
      "Other\n",
      "Agribusiness\n",
      "Ideology/Single-Issue\n",
      "Defense\n",
      "Construction\n",
      "Labor\n",
      "Lawyers & Lobbyists\n"
     ]
    }
   ],
   "source": [
    "# Extract all industries for each sector\n",
    "# Each industry is saved in a dictionary\n",
    "# 'year' defines the years for which to extract the data\n",
    "print('Extracting the industries for the {} sectors:\\n'.format(len(sectors)))\n",
    "\n",
    "url_base = 'http://www.opensecrets.org/federal-lobbying/sectors/summary?cycle='\n",
    "\n",
    "for sector in sectors:\n",
    "    sector['industries'] = []\n",
    "    print(sector['name'])\n",
    "    url_temp = url_base + '2010&id=' +  sector['id']\n",
    "    page_temp = requests.get(url_temp)\n",
    "    tree_temp = html.fromstring(page_temp.content)\n",
    "    tree_temp.make_links_absolute(url_temp) #extracts absolute instead of relative links\n",
    "    length = len(tree_temp.xpath('//td[contains(@class, \"color-category\")]/a/text()'))\n",
    "    for i in range(length):\n",
    "        #print((tree_temp.xpath('//td[contains(@class, \"color-category\")]/a/text()')[i]))\n",
    "        sector['industries'].append({'industry': tree_temp.xpath('//td[contains(@class, \"color-category\")]/a/text()')[i],\n",
    "                                     'page_url': tree_temp.xpath('//td[contains(@class, \"color-category\")]/a/@href')[i],\n",
    "                                     'id': re.findall('(?<=id=)\\S*',tree_temp.xpath('//td[contains(@class, \"color-category\")]/a/@href')[i])[0],\n",
    "                                     'year': [2003, 2004, 2005, 2006, 2007, 2008, 2009, 2010]})\n"
   ]
  },
  {
   "cell_type": "markdown",
   "metadata": {},
   "source": [
    "## Lobbying groups"
   ]
  },
  {
   "cell_type": "code",
   "execution_count": 6,
   "metadata": {
    "scrolled": true
   },
   "outputs": [
    {
     "name": "stderr",
     "output_type": "stream",
     "text": [
      "100%|██████████| 13/13 [06:25<00:00, 29.66s/it]"
     ]
    },
    {
     "name": "stdout",
     "output_type": "stream",
     "text": [
      "The lobbying groups were successfully extracted.\n"
     ]
    },
    {
     "name": "stderr",
     "output_type": "stream",
     "text": [
      "\n"
     ]
    }
   ],
   "source": [
    "# Extract all lobbying groups per year\n",
    "# The lobbying groups are saved in each industry dictionary under the key 'lobbying_groups'\n",
    "url_base = 'http://www.opensecrets.org/federal-lobbying/industries/summary?cycle='\n",
    "\n",
    "for sector in tqdm(sectors):\n",
    "    for industry in sector['industries']:\n",
    "        industry['lobbying_groups_by_year'] = []\n",
    "        for year in industry['year']:\n",
    "            url_temp = url_base + str(year) + '&id=' + industry['id']\n",
    "            page_temp = requests.get(url_temp)\n",
    "            tree_temp = html.fromstring(page_temp.content)\n",
    "            industry['lobbying_groups_by_year'].append(tree_temp.xpath('//td[contains(@class, \"color-category\")]/a/text()'))\n",
    "        industry['lobbying_groups'] = list(set(sum(industry['lobbying_groups_by_year'],[])))\n",
    "\n",
    "print('The lobbying groups were successfully extracted.')"
   ]
  },
  {
   "cell_type": "code",
   "execution_count": 7,
   "metadata": {
    "scrolled": true
   },
   "outputs": [
    {
     "name": "stdout",
     "output_type": "stream",
     "text": [
      "The lobbying groups for the following sectors and industries were extracted:\n",
      "\n",
      " Health \n",
      "\n",
      "Pharmaceuticals/Health Products\n",
      "Hospitals/Nursing Homes\n",
      "Health Professionals\n",
      "Health Services/HMOs\n",
      "Misc Health\n",
      "\n",
      " Finance/Insur/RealEst \n",
      "\n",
      "Insurance\n",
      "Securities & Investment\n",
      "Real Estate\n",
      "Commercial Banks\n",
      "Finance/Credit Companies\n",
      "Misc Finance\n",
      "Accountants\n",
      "Credit Unions\n",
      "Savings & Loans\n",
      "\n",
      " Misc Business \n",
      "\n",
      "Business Associations\n",
      "Misc Manufacturing & Distributing\n",
      "Chemical & Related Manufacturing\n",
      "Retail Sales\n",
      "Business Services\n",
      "Food & Beverage\n",
      "Casinos/Gambling\n",
      "Beer, Wine & Liquor\n",
      "Lodging/Tourism\n",
      "Steel Production\n",
      "Recreation/Live Entertainment\n",
      "Misc Business\n",
      "Misc Services\n",
      "Textiles\n",
      "\n",
      " Communic/Electronics \n",
      "\n",
      "Electronics Mfg & Equip\n",
      "Telecom Services\n",
      "TV/Movies/Music\n",
      "Telephone Utilities\n",
      "Internet\n",
      "Printing & Publishing\n",
      "Misc Communications/Electronics\n",
      "\n",
      " Energy/Nat Resource \n",
      "\n",
      "Electric Utilities\n",
      "Oil & Gas\n",
      "Misc Energy\n",
      "Mining\n",
      "Environmental Svcs/Equipment\n",
      "Waste Management\n",
      "Fisheries & Wildlife\n",
      "\n",
      " Transportation \n",
      "\n",
      "Air Transport\n",
      "Automotive\n",
      "Railroads\n",
      "Sea Transport\n",
      "Misc Transport\n",
      "Trucking\n",
      "\n",
      " Other \n",
      "\n",
      "Education\n",
      "Civil Servants/Public Officials\n",
      "Non-Profit Institutions\n",
      "Other\n",
      "Clergy & Religious Organizations\n",
      "\n",
      " Agribusiness \n",
      "\n",
      "Agricultural Services/Products\n",
      "Food Processing & Sales\n",
      "Tobacco\n",
      "Crop Production & Basic Processing\n",
      "Forestry & Forest Products\n",
      "Dairy\n",
      "Livestock\n",
      "Misc Agriculture\n",
      "Poultry & Eggs\n",
      "\n",
      " Ideology/Single-Issue \n",
      "\n",
      "Misc Issues\n",
      "Human Rights\n",
      "Environment\n",
      "Foreign & Defense Policy\n",
      "Gun Rights\n",
      "Pro-Israel\n",
      "Democratic/Liberal\n",
      "Women's Issues\n",
      "Republican/Conservative\n",
      "Abortion Policy/Pro-Abortion Rights\n",
      "Abortion Policy/Anti-Abortion\n",
      "Gun Control\n",
      "\n",
      " Defense \n",
      "\n",
      "Defense Aerospace\n",
      "Misc Defense\n",
      "Defense Electronics\n",
      "\n",
      " Construction \n",
      "\n",
      "General Contractors\n",
      "Building Materials & Equipment\n",
      "Construction Services\n",
      "Home Builders\n",
      "Special Trade Contractors\n",
      "\n",
      " Labor \n",
      "\n",
      "Public Sector Unions\n",
      "Transportation Unions\n",
      "Misc Unions\n",
      "Industrial Unions\n",
      "Building Trade Unions\n",
      "\n",
      " Lawyers & Lobbyists \n",
      "\n",
      "Lawyers/Law Firms\n",
      "Lobbyists\n"
     ]
    }
   ],
   "source": [
    "print('The lobbying groups for the following sectors and industries were extracted:')\n",
    "for sector in sectors:\n",
    "    print('\\n', sector['name'], '\\n')\n",
    "    for industry in sector['industries']:\n",
    "        print(industry['industry'])"
   ]
  },
  {
   "cell_type": "code",
   "execution_count": 8,
   "metadata": {
    "scrolled": true
   },
   "outputs": [
    {
     "name": "stdout",
     "output_type": "stream",
     "text": [
      "The following 347 lobbying groups were extracted for the \n",
      "Oil & Gas Industry. Here are the first 10:\n"
     ]
    },
    {
     "data": {
      "text/plain": [
       "['Collier Resources',\n",
       " 'Alaska Natural Gas Development Authority',\n",
       " 'TOTAL SA',\n",
       " 'YPF SA',\n",
       " 'Hornbeck Offshore Services',\n",
       " 'Eclipse Energy Systems',\n",
       " 'Noble Corp',\n",
       " 'Shallow Water Energy Security Coalition',\n",
       " 'Giant Industries',\n",
       " 'C&C Technologies']"
      ]
     },
     "execution_count": 8,
     "metadata": {},
     "output_type": "execute_result"
    }
   ],
   "source": [
    "print('''The following {} lobbying groups were extracted for the \n",
    "Oil & Gas Industry. Here are the first 10:'''.format(len(sectors[4]['industries'][1]['lobbying_groups'])))\n",
    "sectors[4]['industries'][1]['lobbying_groups'][0:10]"
   ]
  },
  {
   "cell_type": "code",
   "execution_count": 9,
   "metadata": {},
   "outputs": [],
   "source": [
    "# Save the data as sectors\n",
    "with open('sectors.json', 'w') as outfile:\n",
    "    json.dump(sectors, outfile)"
   ]
  }
 ],
 "metadata": {
  "kernelspec": {
   "display_name": "Python 3",
   "language": "python",
   "name": "python3"
  },
  "language_info": {
   "codemirror_mode": {
    "name": "ipython",
    "version": 3
   },
   "file_extension": ".py",
   "mimetype": "text/x-python",
   "name": "python",
   "nbconvert_exporter": "python",
   "pygments_lexer": "ipython3",
   "version": "3.8.10"
  }
 },
 "nbformat": 4,
 "nbformat_minor": 4
}
