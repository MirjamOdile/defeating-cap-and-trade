{
 "cells": [
  {
   "cell_type": "markdown",
   "metadata": {},
   "source": [
    "## Extract OpenSecrets Interest groups"
   ]
  },
  {
   "cell_type": "code",
   "execution_count": 3,
   "metadata": {},
   "outputs": [],
   "source": [
    "import requests       # send requests to web server\n",
    "from lxml import html # parse HTML\n",
    "import json           # store data as json file\n",
    "import re             # regular expressions\n",
    "import os             # access directories\n",
    "os.chdir('../../../Data/OpenSecrets')\n",
    "from tqdm import tqdm # create progress bar (for i in tqdm(list))"
   ]
  },
  {
   "cell_type": "markdown",
   "metadata": {},
   "source": [
    "## Sectors"
   ]
  },
  {
   "cell_type": "code",
   "execution_count": 2,
   "metadata": {},
   "outputs": [],
   "source": [
    "# Extract the webpage to scrape and built an HTML document tree\n",
    "url = 'https://www.opensecrets.org/industries/slist.php'\n",
    "page = requests.get(url)\n",
    "tree = html.fromstring(page.content)\n",
    "tree.make_links_absolute(url) #extracts absolute instead of relative links"
   ]
  },
  {
   "cell_type": "code",
   "execution_count": 3,
   "metadata": {},
   "outputs": [
    {
     "name": "stdout",
     "output_type": "stream",
     "text": [
      "13 names extracted. The first one is:\n",
      "Agribusiness\n",
      "\n",
      "13 URLs extracted. The first one is:\n",
      "https://www.opensecrets.org/industries/indus.php?ind=A\n"
     ]
    }
   ],
   "source": [
    "# Extract the names of each sector\n",
    "names = []\n",
    "for i in range(1,14):\n",
    "    path = '//*[@id=\"rightColumn\"]/h2['+str(i)+']/a/text()'\n",
    "    names.append(tree.xpath(path)[0])\n",
    "print('{} names extracted. The first one is:'.format(len(names)))\n",
    "print(names[0])\n",
    "# Extract the URL of each sector\n",
    "URLs = []\n",
    "for i in range(1,14):\n",
    "    path = '//*[@id=\"rightColumn\"]/h2['+str(i)+']/a/@href'\n",
    "    URLs.append(tree.xpath(path)[0])\n",
    "print('\\n{} URLs extracted. The first one is:'.format(len(URLs)))\n",
    "print(URLs[0])"
   ]
  },
  {
   "cell_type": "code",
   "execution_count": 4,
   "metadata": {},
   "outputs": [
    {
     "name": "stdout",
     "output_type": "stream",
     "text": [
      "13 sectors extracted. The first one is:\n",
      "{'name': 'Agribusiness', 'page_url': 'https://www.opensecrets.org/industries/indus.php?ind=A', 'id': 'A'}\n"
     ]
    }
   ],
   "source": [
    "# Combine names and links into a list of sectors\n",
    "# Each sector is saved in a dictionary\n",
    "sectors = []\n",
    "\n",
    "for i in range(len(names)):\n",
    "    sectors.append({'name': names[i],\n",
    "                    'page_url': URLs[i],\n",
    "                    'id': re.findall('(?<=ind=)\\S*',URLs[i])[0]})\n",
    "\n",
    "print('{} sectors extracted. The first one is:'.format(len(sectors)))\n",
    "\n",
    "print(sectors[0])"
   ]
  },
  {
   "cell_type": "markdown",
   "metadata": {},
   "source": [
    "## Industries"
   ]
  },
  {
   "cell_type": "code",
   "execution_count": 5,
   "metadata": {},
   "outputs": [
    {
     "name": "stdout",
     "output_type": "stream",
     "text": [
      "Extracting the industries for the 13 sectors:\n",
      "\n",
      "Agribusiness\n",
      "Communications/Electronics\n",
      "Construction\n",
      "Defense\n",
      "Energy & Natural Resources\n",
      "Finance, Insurance & Real Estate\n",
      "Health\n",
      "Ideological/Single-Issue\n",
      "Labor\n",
      "Lawyers & Lobbyists\n",
      "Misc Business\n",
      "Other\n",
      "Transportation\n"
     ]
    }
   ],
   "source": [
    "# Extract all industries for each sector\n",
    "# Each industry is saved in a dictionary\n",
    "# 'year' defines the years for which to extract the data\n",
    "\n",
    "print('Extracting the industries for the {} sectors:\\n'.format(len(sectors)))\n",
    "\n",
    "url_base = 'https://www.opensecrets.org/industries/indus.php?ind='\n",
    "\n",
    "for sector in sectors:\n",
    "    sector['industries'] = []\n",
    "    print(sector['name'])\n",
    "    url_temp = url_base + sector['id']\n",
    "    page_temp = requests.get(url_temp)\n",
    "    tree_temp = html.fromstring(page_temp.content)\n",
    "    tree_temp.make_links_absolute(url_temp) #extracts absolute instead of relative links\n",
    "    length = len([item.text for item in tree_temp.xpath('//*[@id=\"indcode\"]')[0]])\n",
    "    for i in range(length):\n",
    "        path_temp = '//*[@id=\"indcode\"]/option[' + str(i+1) + ']' #'/@value'\n",
    "        #print((tree_temp.xpath('//td[contains(@class, \"color-category\")]/a/text()')[i]))\n",
    "        sector['industries'].append({'industry': tree_temp.xpath(path_temp + '/text()')[0],\n",
    "                                     'id': tree_temp.xpath(path_temp + '/@value')[0].strip(),\n",
    "                                     'page_url': url_base + tree_temp.xpath(path_temp + '/@value')[0].strip(),\n",
    "                                     'year': [2003, 2004, 2005, 2006, 2007, 2008, 2009, 2010]})\n"
   ]
  },
  {
   "cell_type": "markdown",
   "metadata": {},
   "source": [
    "## Lobbying groups"
   ]
  },
  {
   "cell_type": "code",
   "execution_count": 6,
   "metadata": {
    "scrolled": true
   },
   "outputs": [
    {
     "name": "stderr",
     "output_type": "stream",
     "text": [
      "\r",
      "  0%|          | 0/13 [00:00<?, ?it/s]"
     ]
    },
    {
     "name": "stdout",
     "output_type": "stream",
     "text": [
      "Agricultural Services/Products\n",
      "Crop Production & Basic Processing\n",
      "Dairy\n",
      "Farm bureaus\n",
      "Food and kindred products manufacturing\n",
      "Food Processing & Sales\n",
      "Food stores\n",
      "Forestry & Forest Products\n",
      "Livestock\n",
      "Meat processing & products\n",
      "Poultry & Eggs\n",
      "Sugar cane & sugar beets\n",
      "Tobacco\n",
      "Vegetables, fruits and tree nut\n"
     ]
    },
    {
     "name": "stderr",
     "output_type": "stream",
     "text": [
      "\r",
      "  8%|▊         | 1/13 [04:01<48:21, 241.82s/it]"
     ]
    },
    {
     "name": "stdout",
     "output_type": "stream",
     "text": [
      "Book, newspaper & periodical publishing\n",
      "Cable & satellite TV production\n",
      "Commercial TV & radio stations\n",
      "Computer software\n",
      "Electronics Mfg & Equip\n",
      "Internet\n",
      "Motion Picture production & distribution\n",
      "Printing & Publishing\n",
      "Recorded Music & music production\n",
      "Telecom Services\n",
      "Telephone Utilities\n",
      "TV production\n",
      "TV/Movies/Music\n"
     ]
    },
    {
     "name": "stderr",
     "output_type": "stream",
     "text": [
      "\r",
      " 15%|█▌        | 2/13 [07:25<42:15, 230.49s/it]"
     ]
    },
    {
     "name": "stdout",
     "output_type": "stream",
     "text": [
      "Architectural services\n",
      "Building Materials & Equipment\n",
      "Construction Services\n",
      "General Contractors\n",
      "Home Builders\n",
      "Special Trade Contractors\n"
     ]
    },
    {
     "name": "stderr",
     "output_type": "stream",
     "text": [
      "\r",
      " 23%|██▎       | 3/13 [08:52<31:13, 187.31s/it]"
     ]
    },
    {
     "name": "stdout",
     "output_type": "stream",
     "text": [
      "Defense Aerospace\n",
      "Defense Electronics\n",
      "Misc Defense\n"
     ]
    },
    {
     "name": "stderr",
     "output_type": "stream",
     "text": [
      "\r",
      " 31%|███       | 4/13 [09:37<21:41, 144.64s/it]"
     ]
    },
    {
     "name": "stdout",
     "output_type": "stream",
     "text": [
      "Alternate energy production & services\n",
      "Coal mining\n",
      "Electric Utilities\n",
      "Mining\n",
      "Natural Gas transmission & distribution\n",
      "Oil & Gas\n",
      "Waste Management\n"
     ]
    },
    {
     "name": "stderr",
     "output_type": "stream",
     "text": [
      "\r",
      " 38%|███▊      | 5/13 [11:28<17:55, 134.49s/it]"
     ]
    },
    {
     "name": "stdout",
     "output_type": "stream",
     "text": [
      "Accountants\n",
      "Commercial Banks\n",
      "Credit Unions\n",
      "Finance/Credit Companies\n",
      "Hedge Funds\n",
      "Insurance\n",
      "Misc Finance\n",
      "Mortgage bankers and brokers\n",
      "Payday lenders\n",
      "Private Equity & Investment Firms\n",
      "Real Estate\n",
      "Savings & Loans\n",
      "Securities & Investment\n",
      "Student loan companies\n",
      "Venture capital\n"
     ]
    },
    {
     "name": "stderr",
     "output_type": "stream",
     "text": [
      "\r",
      " 46%|████▌     | 6/13 [14:59<18:21, 157.38s/it]"
     ]
    },
    {
     "name": "stdout",
     "output_type": "stream",
     "text": [
      "Chiropractors\n",
      "Dentists\n",
      "Health Professionals\n",
      "Health Services/HMOs\n",
      "Hospitals/Nursing Homes\n",
      "Medical Devices & Supplies\n",
      "Nurses\n",
      "Nutritional & dietary supplements\n",
      "Pharmaceutical manufacturing\n",
      "Pharmaceuticals/Health Products\n"
     ]
    },
    {
     "name": "stderr",
     "output_type": "stream",
     "text": [
      "\r",
      " 54%|█████▍    | 7/13 [17:45<16:01, 160.18s/it]"
     ]
    },
    {
     "name": "stdout",
     "output_type": "stream",
     "text": [
      "Abortion Policy/Anti-Abortion\n",
      "Abortion Policy/Pro-Abortion Rights\n",
      "Candidate Committees\n",
      "Democratic Candidate Committees\n",
      "Democratic leadership PAC\n",
      "Democratic/Liberal\n",
      "Environment\n",
      "Foreign & Defense Policy\n",
      "Gay & lesbian rights & issues\n",
      "Gun Control\n",
      "Gun Rights\n",
      "Human Rights\n",
      "Leadership PACs\n",
      "Pro-Israel\n",
      "Republican Candidate Committees\n",
      "Republican leadership PAC\n",
      "Republican/Conservative\n",
      "Women's Issues\n"
     ]
    },
    {
     "name": "stderr",
     "output_type": "stream",
     "text": [
      "\r",
      " 62%|██████▏   | 8/13 [22:00<15:42, 188.48s/it]"
     ]
    },
    {
     "name": "stdout",
     "output_type": "stream",
     "text": [
      "Air transport unions\n",
      "Building Trade Unions\n",
      "Industrial Unions\n",
      "Misc Unions\n",
      "Public Sector Unions\n",
      "Teachers unions\n",
      "Transportation Unions\n",
      "US Postal Service unions & associations\n"
     ]
    },
    {
     "name": "stderr",
     "output_type": "stream",
     "text": [
      "\r",
      " 69%|██████▉   | 9/13 [23:39<10:46, 161.72s/it]"
     ]
    },
    {
     "name": "stdout",
     "output_type": "stream",
     "text": [
      "Lawyers/Law Firms\n",
      "Lobbyists\n"
     ]
    },
    {
     "name": "stderr",
     "output_type": "stream",
     "text": [
      "\r",
      " 77%|███████▋  | 10/13 [24:04<06:01, 120.62s/it]"
     ]
    },
    {
     "name": "stdout",
     "output_type": "stream",
     "text": [
      "Advertising & public relations services\n",
      "Beer, Wine & Liquor\n",
      "Business Associations\n",
      "Business Services\n",
      "Casinos/Gambling\n",
      "Chemical & Related Manufacturing\n",
      "Clothing & accessories\n",
      "Correctional facilities constr & mgmt/for-profit\n",
      "Food & Beverage\n",
      "Funeral services\n",
      "Indian Gaming\n",
      "Lodging/Tourism\n",
      "Marijuana\n",
      "Marijuana\n",
      "Misc Manufacturing & Distributing\n",
      "Misc Services\n",
      "Professional sports, arenas & related equip & svcs\n",
      "Recreation/Live Entertainment\n",
      "Restaurants & drinking establishments\n",
      "Retail Sales\n",
      "Steel Production\n",
      "Textiles\n"
     ]
    },
    {
     "name": "stderr",
     "output_type": "stream",
     "text": [
      "\r",
      " 85%|████████▍ | 11/13 [29:11<05:53, 176.64s/it]"
     ]
    },
    {
     "name": "stdout",
     "output_type": "stream",
     "text": [
      "Civil Servants/Public Officials\n",
      "Clergy & Religious Organizations\n",
      "Education\n",
      "For-profit Education\n",
      "Non-Profit Institutions\n",
      "Retired\n"
     ]
    },
    {
     "name": "stderr",
     "output_type": "stream",
     "text": [
      "\r",
      " 92%|█████████▏| 12/13 [30:37<02:29, 149.47s/it]"
     ]
    },
    {
     "name": "stdout",
     "output_type": "stream",
     "text": [
      "Air Transport\n",
      "Airlines\n",
      "Auto dealers, foreign imports\n",
      "Auto dealers, new & used\n",
      "Auto manufacturers\n",
      "Automotive\n",
      "Cruise ships & lines\n",
      "Railroads\n",
      "Sea Transport\n",
      "Trucking\n"
     ]
    },
    {
     "name": "stderr",
     "output_type": "stream",
     "text": [
      "100%|██████████| 13/13 [32:32<00:00, 150.17s/it]"
     ]
    },
    {
     "name": "stdout",
     "output_type": "stream",
     "text": [
      "The lobbying groups were successfully extracted.\n"
     ]
    },
    {
     "name": "stderr",
     "output_type": "stream",
     "text": [
      "\n"
     ]
    }
   ],
   "source": [
    "# Extract all lobbying groups per year\n",
    "# The lobbying groups are saved in each industry dictionary under the key 'lobbying_groups'\n",
    "url_base = 'https://www.opensecrets.org/federal-lobbying/industries/summary?id='\n",
    "\n",
    "for sector in tqdm(sectors):\n",
    "    for industry in sector['industries']:\n",
    "        print(industry['industry'])\n",
    "        industry['lobbying_groups_by_year'] = []\n",
    "        for year in industry['year']:\n",
    "            url_temp = url_base + industry['id'] + '&cycle=' + str(year)\n",
    "            page_temp = requests.get(url_temp)\n",
    "            tree_temp = html.fromstring(page_temp.content)\n",
    "            industry['lobbying_groups_by_year'].append(tree_temp.xpath('//td[contains(@class, \"color-category\")]/a/text()'))\n",
    "        industry['lobbying_groups'] = list(set(sum(industry['lobbying_groups_by_year'],[])))\n",
    "\n",
    "print('The lobbying groups were successfully extracted.')"
   ]
  },
  {
   "cell_type": "code",
   "execution_count": 7,
   "metadata": {
    "scrolled": true
   },
   "outputs": [
    {
     "name": "stdout",
     "output_type": "stream",
     "text": [
      "The lobbying groups for the following sectors and industries were extracted:\n",
      "\n",
      " Agribusiness \n",
      "\n",
      "Agricultural Services/Products\n",
      "Crop Production & Basic Processing\n",
      "Dairy\n",
      "Farm bureaus\n",
      "Food and kindred products manufacturing\n",
      "Food Processing & Sales\n",
      "Food stores\n",
      "Forestry & Forest Products\n",
      "Livestock\n",
      "Meat processing & products\n",
      "Poultry & Eggs\n",
      "Sugar cane & sugar beets\n",
      "Tobacco\n",
      "Vegetables, fruits and tree nut\n",
      "\n",
      " Communications/Electronics \n",
      "\n",
      "Book, newspaper & periodical publishing\n",
      "Cable & satellite TV production\n",
      "Commercial TV & radio stations\n",
      "Computer software\n",
      "Electronics Mfg & Equip\n",
      "Internet\n",
      "Motion Picture production & distribution\n",
      "Printing & Publishing\n",
      "Recorded Music & music production\n",
      "Telecom Services\n",
      "Telephone Utilities\n",
      "TV production\n",
      "TV/Movies/Music\n",
      "\n",
      " Construction \n",
      "\n",
      "Architectural services\n",
      "Building Materials & Equipment\n",
      "Construction Services\n",
      "General Contractors\n",
      "Home Builders\n",
      "Special Trade Contractors\n",
      "\n",
      " Defense \n",
      "\n",
      "Defense Aerospace\n",
      "Defense Electronics\n",
      "Misc Defense\n",
      "\n",
      " Energy & Natural Resources \n",
      "\n",
      "Alternate energy production & services\n",
      "Coal mining\n",
      "Electric Utilities\n",
      "Mining\n",
      "Natural Gas transmission & distribution\n",
      "Oil & Gas\n",
      "Waste Management\n",
      "\n",
      " Finance, Insurance & Real Estate \n",
      "\n",
      "Accountants\n",
      "Commercial Banks\n",
      "Credit Unions\n",
      "Finance/Credit Companies\n",
      "Hedge Funds\n",
      "Insurance\n",
      "Misc Finance\n",
      "Mortgage bankers and brokers\n",
      "Payday lenders\n",
      "Private Equity & Investment Firms\n",
      "Real Estate\n",
      "Savings & Loans\n",
      "Securities & Investment\n",
      "Student loan companies\n",
      "Venture capital\n",
      "\n",
      " Health \n",
      "\n",
      "Chiropractors\n",
      "Dentists\n",
      "Health Professionals\n",
      "Health Services/HMOs\n",
      "Hospitals/Nursing Homes\n",
      "Medical Devices & Supplies\n",
      "Nurses\n",
      "Nutritional & dietary supplements\n",
      "Pharmaceutical manufacturing\n",
      "Pharmaceuticals/Health Products\n",
      "\n",
      " Ideological/Single-Issue \n",
      "\n",
      "Abortion Policy/Anti-Abortion\n",
      "Abortion Policy/Pro-Abortion Rights\n",
      "Candidate Committees\n",
      "Democratic Candidate Committees\n",
      "Democratic leadership PAC\n",
      "Democratic/Liberal\n",
      "Environment\n",
      "Foreign & Defense Policy\n",
      "Gay & lesbian rights & issues\n",
      "Gun Control\n",
      "Gun Rights\n",
      "Human Rights\n",
      "Leadership PACs\n",
      "Pro-Israel\n",
      "Republican Candidate Committees\n",
      "Republican leadership PAC\n",
      "Republican/Conservative\n",
      "Women's Issues\n",
      "\n",
      " Labor \n",
      "\n",
      "Air transport unions\n",
      "Building Trade Unions\n",
      "Industrial Unions\n",
      "Misc Unions\n",
      "Public Sector Unions\n",
      "Teachers unions\n",
      "Transportation Unions\n",
      "US Postal Service unions & associations\n",
      "\n",
      " Lawyers & Lobbyists \n",
      "\n",
      "Lawyers/Law Firms\n",
      "Lobbyists\n",
      "\n",
      " Misc Business \n",
      "\n",
      "Advertising & public relations services\n",
      "Beer, Wine & Liquor\n",
      "Business Associations\n",
      "Business Services\n",
      "Casinos/Gambling\n",
      "Chemical & Related Manufacturing\n",
      "Clothing & accessories\n",
      "Correctional facilities constr & mgmt/for-profit\n",
      "Food & Beverage\n",
      "Funeral services\n",
      "Indian Gaming\n",
      "Lodging/Tourism\n",
      "Marijuana\n",
      "Marijuana\n",
      "Misc Manufacturing & Distributing\n",
      "Misc Services\n",
      "Professional sports, arenas & related equip & svcs\n",
      "Recreation/Live Entertainment\n",
      "Restaurants & drinking establishments\n",
      "Retail Sales\n",
      "Steel Production\n",
      "Textiles\n",
      "\n",
      " Other \n",
      "\n",
      "Civil Servants/Public Officials\n",
      "Clergy & Religious Organizations\n",
      "Education\n",
      "For-profit Education\n",
      "Non-Profit Institutions\n",
      "Retired\n",
      "\n",
      " Transportation \n",
      "\n",
      "Air Transport\n",
      "Airlines\n",
      "Auto dealers, foreign imports\n",
      "Auto dealers, new & used\n",
      "Auto manufacturers\n",
      "Automotive\n",
      "Cruise ships & lines\n",
      "Railroads\n",
      "Sea Transport\n",
      "Trucking\n"
     ]
    }
   ],
   "source": [
    "print('The lobbying groups for the following sectors and industries were extracted:')\n",
    "for sector in sectors:\n",
    "    print('\\n', sector['name'], '\\n')\n",
    "    for industry in sector['industries']:\n",
    "        print(industry['industry'])"
   ]
  },
  {
   "cell_type": "code",
   "execution_count": 8,
   "metadata": {
    "scrolled": true
   },
   "outputs": [
    {
     "name": "stdout",
     "output_type": "stream",
     "text": [
      "The following 347 lobbying groups were extracted for the \n",
      "Oil & Gas Industry. Here are the first 10:\n"
     ]
    },
    {
     "data": {
      "text/plain": [
       "['Equitable Production',\n",
       " 'Ferrell Companies',\n",
       " 'Mariner Energy',\n",
       " 'Penn Octane Corp',\n",
       " 'Oilfield Services & Drilling Indus Cltn',\n",
       " 'Ergon Inc',\n",
       " 'Intl Assn of Drilling Contractors',\n",
       " 'Lion Oil',\n",
       " 'Texakoma Oil & Gas',\n",
       " 'BHP Billiton']"
      ]
     },
     "execution_count": 8,
     "metadata": {},
     "output_type": "execute_result"
    }
   ],
   "source": [
    "print('''The following {} lobbying groups were extracted for the \n",
    "Oil & Gas Industry. Here are the first 10:'''.format(len(sectors[4]['industries'][5]['lobbying_groups'])))\n",
    "sectors[4]['industries'][5]['lobbying_groups'][0:10]"
   ]
  },
  {
   "cell_type": "code",
   "execution_count": 9,
   "metadata": {},
   "outputs": [
    {
     "name": "stdout",
     "output_type": "stream",
     "text": [
      "The following 329 lobbying groups were extracted for the \n",
      "Alternate energy production Industry. Here are the first 10:\n"
     ]
    },
    {
     "data": {
      "text/plain": [
       "['Renewable Energy Group',\n",
       " 'Blue Sun Energy',\n",
       " 'Range Fuels',\n",
       " 'Konarka Technologies',\n",
       " 'Ternion Bio Industries',\n",
       " 'Cottonwood Services',\n",
       " 'Nanosolar',\n",
       " 'Clean Economy Network',\n",
       " 'Futuregen Industrial Alliance',\n",
       " 'Envires LLC']"
      ]
     },
     "execution_count": 9,
     "metadata": {},
     "output_type": "execute_result"
    }
   ],
   "source": [
    "print('''The following {} lobbying groups were extracted for the \n",
    "Alternate energy production Industry. Here are the first 10:'''.format(len(sectors[4]['industries'][0]['lobbying_groups'])))\n",
    "sectors[4]['industries'][0]['lobbying_groups'][0:10]"
   ]
  },
  {
   "cell_type": "code",
   "execution_count": 10,
   "metadata": {
    "scrolled": true
   },
   "outputs": [
    {
     "name": "stderr",
     "output_type": "stream",
     "text": [
      "\r",
      "  0%|          | 0/13 [00:00<?, ?it/s]"
     ]
    },
    {
     "name": "stdout",
     "output_type": "stream",
     "text": [
      "Agricultural Services/Products\n",
      "Crop Production & Basic Processing\n",
      "Dairy\n",
      "Farm bureaus\n",
      "Food and kindred products manufacturing\n",
      "Food Processing & Sales\n",
      "Food stores\n",
      "Forestry & Forest Products\n",
      "Livestock\n",
      "Meat processing & products\n",
      "Poultry & Eggs\n",
      "Sugar cane & sugar beets\n",
      "Tobacco\n",
      "Vegetables, fruits and tree nut\n"
     ]
    },
    {
     "name": "stderr",
     "output_type": "stream",
     "text": [
      "\r",
      "  8%|▊         | 1/13 [00:41<08:20, 41.70s/it]"
     ]
    },
    {
     "name": "stdout",
     "output_type": "stream",
     "text": [
      "Book, newspaper & periodical publishing\n",
      "Cable & satellite TV production\n",
      "Commercial TV & radio stations\n",
      "Computer software\n",
      "Electronics Mfg & Equip\n",
      "Internet\n",
      "Motion Picture production & distribution\n",
      "Printing & Publishing\n",
      "Recorded Music & music production\n",
      "Telecom Services\n",
      "Telephone Utilities\n",
      "TV production\n",
      "TV/Movies/Music\n"
     ]
    },
    {
     "name": "stderr",
     "output_type": "stream",
     "text": [
      "\r",
      " 15%|█▌        | 2/13 [01:15<07:13, 39.44s/it]"
     ]
    },
    {
     "name": "stdout",
     "output_type": "stream",
     "text": [
      "Architectural services\n",
      "Building Materials & Equipment\n",
      "Construction Services\n",
      "General Contractors\n",
      "Home Builders\n",
      "Special Trade Contractors\n"
     ]
    },
    {
     "name": "stderr",
     "output_type": "stream",
     "text": [
      "\r",
      " 23%|██▎       | 3/13 [01:31<05:23, 32.35s/it]"
     ]
    },
    {
     "name": "stdout",
     "output_type": "stream",
     "text": [
      "Defense Aerospace\n",
      "Defense Electronics\n",
      "Misc Defense\n"
     ]
    },
    {
     "name": "stderr",
     "output_type": "stream",
     "text": [
      "\r",
      " 31%|███       | 4/13 [01:38<03:42, 24.71s/it]"
     ]
    },
    {
     "name": "stdout",
     "output_type": "stream",
     "text": [
      "Alternate energy production & services\n",
      "Coal mining\n",
      "Electric Utilities\n",
      "Mining\n",
      "Natural Gas transmission & distribution\n",
      "Oil & Gas\n",
      "Waste Management\n"
     ]
    },
    {
     "name": "stderr",
     "output_type": "stream",
     "text": [
      "\r",
      " 38%|███▊      | 5/13 [01:55<02:58, 22.32s/it]"
     ]
    },
    {
     "name": "stdout",
     "output_type": "stream",
     "text": [
      "Accountants\n",
      "Commercial Banks\n",
      "Credit Unions\n",
      "Finance/Credit Companies\n",
      "Hedge Funds\n",
      "Insurance\n",
      "Misc Finance\n",
      "Mortgage bankers and brokers\n",
      "Payday lenders\n",
      "Private Equity & Investment Firms\n",
      "Real Estate\n",
      "Savings & Loans\n",
      "Securities & Investment\n",
      "Student loan companies\n",
      "Venture capital\n"
     ]
    },
    {
     "name": "stderr",
     "output_type": "stream",
     "text": [
      "\r",
      " 46%|████▌     | 6/13 [02:35<03:13, 27.57s/it]"
     ]
    },
    {
     "name": "stdout",
     "output_type": "stream",
     "text": [
      "Chiropractors\n",
      "Dentists\n",
      "Health Professionals\n",
      "Health Services/HMOs\n",
      "Hospitals/Nursing Homes\n",
      "Medical Devices & Supplies\n",
      "Nurses\n",
      "Nutritional & dietary supplements\n",
      "Pharmaceutical manufacturing\n",
      "Pharmaceuticals/Health Products\n"
     ]
    },
    {
     "name": "stderr",
     "output_type": "stream",
     "text": [
      "\r",
      " 54%|█████▍    | 7/13 [03:00<02:40, 26.79s/it]"
     ]
    },
    {
     "name": "stdout",
     "output_type": "stream",
     "text": [
      "Abortion Policy/Anti-Abortion\n",
      "Abortion Policy/Pro-Abortion Rights\n",
      "Candidate Committees\n",
      "Democratic Candidate Committees\n",
      "Democratic leadership PAC\n",
      "Democratic/Liberal\n",
      "Environment\n",
      "Foreign & Defense Policy\n",
      "Gay & lesbian rights & issues\n",
      "Gun Control\n",
      "Gun Rights\n",
      "Human Rights\n",
      "Leadership PACs\n",
      "Pro-Israel\n",
      "Republican Candidate Committees\n",
      "Republican leadership PAC\n",
      "Republican/Conservative\n",
      "Women's Issues\n"
     ]
    },
    {
     "name": "stderr",
     "output_type": "stream",
     "text": [
      "\r",
      " 62%|██████▏   | 8/13 [03:45<02:42, 32.41s/it]"
     ]
    },
    {
     "name": "stdout",
     "output_type": "stream",
     "text": [
      "Air transport unions\n",
      "Building Trade Unions\n",
      "Industrial Unions\n",
      "Misc Unions\n",
      "Public Sector Unions\n",
      "Teachers unions\n",
      "Transportation Unions\n",
      "US Postal Service unions & associations\n"
     ]
    },
    {
     "name": "stderr",
     "output_type": "stream",
     "text": [
      "\r",
      " 69%|██████▉   | 9/13 [04:06<01:56, 29.03s/it]"
     ]
    },
    {
     "name": "stdout",
     "output_type": "stream",
     "text": [
      "Lawyers/Law Firms\n",
      "Lobbyists\n"
     ]
    },
    {
     "name": "stderr",
     "output_type": "stream",
     "text": [
      "\r",
      " 77%|███████▋  | 10/13 [04:13<01:06, 22.19s/it]"
     ]
    },
    {
     "name": "stdout",
     "output_type": "stream",
     "text": [
      "Advertising & public relations services\n",
      "Beer, Wine & Liquor\n",
      "Business Associations\n",
      "Business Services\n",
      "Casinos/Gambling\n",
      "Chemical & Related Manufacturing\n",
      "Clothing & accessories\n",
      "Correctional facilities constr & mgmt/for-profit\n",
      "Food & Beverage\n",
      "Funeral services\n",
      "Indian Gaming\n",
      "Lodging/Tourism\n",
      "Marijuana\n",
      "Marijuana\n",
      "Misc Manufacturing & Distributing\n",
      "Misc Services\n",
      "Professional sports, arenas & related equip & svcs\n",
      "Recreation/Live Entertainment\n",
      "Restaurants & drinking establishments\n",
      "Retail Sales\n",
      "Steel Production\n",
      "Textiles\n"
     ]
    },
    {
     "name": "stderr",
     "output_type": "stream",
     "text": [
      "\r",
      " 85%|████████▍ | 11/13 [05:12<01:06, 33.41s/it]"
     ]
    },
    {
     "name": "stdout",
     "output_type": "stream",
     "text": [
      "Civil Servants/Public Officials\n",
      "Clergy & Religious Organizations\n",
      "Education\n",
      "For-profit Education\n",
      "Non-Profit Institutions\n",
      "Retired\n"
     ]
    },
    {
     "name": "stderr",
     "output_type": "stream",
     "text": [
      "\r",
      " 92%|█████████▏| 12/13 [05:30<00:28, 28.72s/it]"
     ]
    },
    {
     "name": "stdout",
     "output_type": "stream",
     "text": [
      "Air Transport\n",
      "Airlines\n",
      "Auto dealers, foreign imports\n",
      "Auto dealers, new & used\n",
      "Auto manufacturers\n",
      "Automotive\n",
      "Cruise ships & lines\n",
      "Railroads\n",
      "Sea Transport\n",
      "Trucking\n"
     ]
    },
    {
     "name": "stderr",
     "output_type": "stream",
     "text": [
      "100%|██████████| 13/13 [05:55<00:00, 27.31s/it]"
     ]
    },
    {
     "name": "stdout",
     "output_type": "stream",
     "text": [
      "The top contributors groups were successfully extracted.\n"
     ]
    },
    {
     "name": "stderr",
     "output_type": "stream",
     "text": [
      "\n"
     ]
    }
   ],
   "source": [
    "# Extract all top 20 contributors per election-cycle\n",
    "# The contributors are saved in each industry dictionary under the key 'contributors'\n",
    "url_base = 'https://www.opensecrets.org/industries/contrib.php?cycle='\n",
    "\n",
    "for sector in tqdm(sectors):\n",
    "    for industry in sector['industries']:\n",
    "        print(industry['industry'])\n",
    "        industry['contributors_by_year'] = []\n",
    "        for election_cycle in [2004, 2006, 2008, 2010]:\n",
    "            url_temp = url_base + str(election_cycle) + '&id=' + industry['id']\n",
    "            page_temp = requests.get(url_temp)\n",
    "            tree_temp = html.fromstring(page_temp.content)\n",
    "            election_cycle_contributors = []\n",
    "            for i in range(20):\n",
    "                path_temp = '//*[@id=\"datatable\"]/tbody/tr[' + str(i+1) + ']/td[2]//text()'\n",
    "                election_cycle_contributors.append(tree_temp.xpath(path_temp)[0].strip())\n",
    "            industry['contributors_by_year'].append(election_cycle_contributors)\n",
    "        industry['contributors'] = list(set(sum(industry['contributors_by_year'],[])))\n",
    "\n",
    "print('The top contributors groups were successfully extracted.')"
   ]
  },
  {
   "cell_type": "code",
   "execution_count": 11,
   "metadata": {},
   "outputs": [],
   "source": [
    "# Save the data as sectors\n",
    "with open('sectors_industries_contributors.json', 'w') as outfile:\n",
    "    json.dump(sectors, outfile)"
   ]
  }
 ],
 "metadata": {
  "kernelspec": {
   "display_name": "Python 3",
   "language": "python",
   "name": "python3"
  },
  "language_info": {
   "codemirror_mode": {
    "name": "ipython",
    "version": 3
   },
   "file_extension": ".py",
   "mimetype": "text/x-python",
   "name": "python",
   "nbconvert_exporter": "python",
   "pygments_lexer": "ipython3",
   "version": "3.8.10"
  }
 },
 "nbformat": 4,
 "nbformat_minor": 4
}
