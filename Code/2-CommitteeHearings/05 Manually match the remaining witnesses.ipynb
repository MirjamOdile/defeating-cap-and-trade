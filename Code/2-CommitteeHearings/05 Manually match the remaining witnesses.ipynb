{
 "cells": [
  {
   "cell_type": "markdown",
   "metadata": {},
   "source": [
    "# Manually match the remaining witnesses into *Open Secrets* lobbying categories\n",
    "\n",
    "#### This script classifies all witnesses according to the *Open Secrets* lobbying categories and subcategories"
   ]
  },
  {
   "cell_type": "code",
   "execution_count": 1,
   "metadata": {},
   "outputs": [],
   "source": [
    "from CommitteeHearingsFunctions import *\n",
    "\n",
    "# Change directory\n",
    "os.chdir('../../Data/')"
   ]
  },
  {
   "cell_type": "code",
   "execution_count": 2,
   "metadata": {},
   "outputs": [],
   "source": [
    "# Load the data\n",
    "with open('CommitteeHearings/hearings_witnesses_contrarians_classified_partial.json', 'r') as file:\n",
    "    df = json.load(file)"
   ]
  },
  {
   "cell_type": "markdown",
   "metadata": {},
   "source": [
    "<br>\n",
    "\n",
    "## 1) Preparation: Loading, correcting and inspecting the data"
   ]
  },
  {
   "cell_type": "code",
   "execution_count": 3,
   "metadata": {},
   "outputs": [
    {
     "name": "stdout",
     "output_type": "stream",
     "text": [
      "We imported 13 sectors of lobbying organisations for the years 2003 to 2010.\n",
      "\n"
     ]
    }
   ],
   "source": [
    "# Load the OpenSectrets Lobbying sectors and industries\n",
    "with open('OpenSecrets/sectors_industries_contributors.json', 'r') as jfile:\n",
    "    sectors = json.load(jfile)\n",
    "print('We imported {} sectors of lobbying organisations for the years {} to {}.\\n'.format(len(sectors), sectors[0]['industries'][0]['year'][0], \n",
    "                                                                                                        sectors[0]['industries'][0]['year'][-1]))"
   ]
  },
  {
   "cell_type": "code",
   "execution_count": 4,
   "metadata": {},
   "outputs": [],
   "source": [
    "# Add a new category 'Nuclear Energy' to sector 4 'Energy & Natural Resources'\n",
    "sectors[4]['industries'].append(\n",
    "    {'industry': 'Nuclear Energy',\n",
    "     'id': None,\n",
    "     'page_url': None,\n",
    "     'year': None,\n",
    "     'lobbying_groups_by_year': None,\n",
    "     'lobbying_groups': None,\n",
    "     'contributors_by_year': None,\n",
    "     'contributors': None})"
   ]
  },
  {
   "cell_type": "code",
   "execution_count": 5,
   "metadata": {},
   "outputs": [],
   "source": [
    "# Add a new category 'International/Intergovernmental' to sector 11 'Other'\n",
    "sectors[11]['industries'].append(\n",
    "    {'industry': 'International/Intergovernmental',\n",
    "     'id': None,\n",
    "     'page_url': None,\n",
    "     'year': None,\n",
    "     'lobbying_groups_by_year': None,\n",
    "     'lobbying_groups': None,\n",
    "     'contributors_by_year': None,\n",
    "     'contributors': None})"
   ]
  },
  {
   "cell_type": "code",
   "execution_count": 6,
   "metadata": {},
   "outputs": [],
   "source": [
    "# Add a new category 'Individuals' to sector 11 'Other'\n",
    "sectors[11]['industries'].append(\n",
    "    {'industry': 'Individuals',\n",
    "     'id': None,\n",
    "     'page_url': None,\n",
    "     'year': None,\n",
    "     'lobbying_groups_by_year': None,\n",
    "     'lobbying_groups': None,\n",
    "     'contributors_by_year': None,\n",
    "     'contributors': None})"
   ]
  },
  {
   "cell_type": "code",
   "execution_count": 7,
   "metadata": {
    "scrolled": true
   },
   "outputs": [],
   "source": [
    "# print('Each of these sectors is grouped into multiple industries. These are the sectors with their respective industries:\\n')\n",
    "# for i, sector in enumerate(sectors):\n",
    "#     print(i, sector['name'].upper(), '({})'.format(sector['id']))\n",
    "#     for j, industry in enumerate(sector['industries']):\n",
    "#         print('\\t', j, industry['industry'])\n",
    "#     print('\\n')    "
   ]
  },
  {
   "cell_type": "markdown",
   "metadata": {},
   "source": [
    "<br>\n",
    "\n",
    "## 2) Matching: match the witnesses according to the OpenSecrets lobbing groups"
   ]
  },
  {
   "cell_type": "markdown",
   "metadata": {},
   "source": [
    "### 11 OTHER"
   ]
  },
  {
   "cell_type": "code",
   "execution_count": 8,
   "metadata": {},
   "outputs": [],
   "source": [
    "# 11 OTHER (W)\n",
    "# \t 4 Non-Profit Institutions\n",
    "# \t 0 Civil Servants/Public Officials\n",
    "# \t 2 Education\n",
    "#    \t 3 For-profit Education\n",
    "# \t 1 Clergy & Religious Organizations\n",
    "# \t 5 Retired"
   ]
  },
  {
   "cell_type": "code",
   "execution_count": 9,
   "metadata": {},
   "outputs": [
    {
     "name": "stdout",
     "output_type": "stream",
     "text": [
      "11.1 OTHER - Clergy & Religious Organizations:\n",
      "\n",
      " \n",
      ">>> There are 3 Clergy & Religious Organizations witnesses.\n",
      "\n",
      ">>> 8 more Clergy & Religious Organizations witnesses have been matched, resulting in a total of 11 witnesses.\n"
     ]
    }
   ],
   "source": [
    "# 11.1 OTHER - Clergy & Religious Organizations: \n",
    "sector, industry = select_industry(sectors, 11, 1)\n",
    "\n",
    "count_witnesses(df, 'witness_industry', industry)\n",
    "\n",
    "# Match witnesses\n",
    "keywords = ['\\w+\\s?\\w+ church',\n",
    "            'southern baptist theological seminary',\n",
    "            'religious action center of reform judaism',\n",
    "            'institute on religion and democracy',\n",
    "            'interfaith stewardship alliance',\n",
    "            'virginia interfaith center for public policy',\n",
    "            'cornwall alliance for the stewardship of creation',\n",
    "            'author and historian'] # Barton, David, author and historian: representing evangelicals\n",
    "match_witnesses(df, keywords, sector=sector, industry=industry)"
   ]
  },
  {
   "cell_type": "code",
   "execution_count": 10,
   "metadata": {},
   "outputs": [
    {
     "name": "stdout",
     "output_type": "stream",
     "text": [
      "11.2 OTHER - Education:\n",
      "\n",
      " \n",
      ">>> There are 76 Education witnesses.\n",
      "\n",
      ">>> 29 more Education witnesses have been matched, resulting in a total of 105 witnesses.\n"
     ]
    }
   ],
   "source": [
    "# 11.2 OTHER: Education\n",
    "sector, industry = select_industry(sectors, 11, 2)\n",
    "\n",
    "count_witnesses(df, 'witness_industry', industry)\n",
    "\n",
    "# Match witnesses\n",
    "keywords = ['national academy of sciences', 'national research council',\n",
    "            '\\w+\\s?\\w+\\s?\\w+\\suniversity',  'university\\s\\w+\\s?\\w+',\n",
    "            '\\w+\\s?\\w+\\s?\\w+\\scollege', 'college\\s\\w+\\s?\\w+\\s?\\w+', \n",
    "            '\\w*\\s?school of\\s\\w+\\s?\\w+\\s?\\w+\\s?\\w+\\s?\\w+', '\\w+\\s?\\w+\\s?\\w+\\sschool',\n",
    "            '\\w+ institution of \\w+', 'institute for coastal research',\n",
    "            'graduate institute of international and development studies', \n",
    "            'yale', 'institut pasteur', 'american meteorological society',\n",
    "            'arizona water institute']\n",
    "antikeywords = ['in-q-tel', 'copenhagen consensus center']\n",
    "\n",
    "match_witnesses(df, keywords, antikeywords, sector=sector, industry=industry)"
   ]
  },
  {
   "cell_type": "code",
   "execution_count": 11,
   "metadata": {
    "scrolled": true
   },
   "outputs": [
    {
     "name": "stdout",
     "output_type": "stream",
     "text": [
      "11.0 OTHER - Civil Servants/Public Officials:\n",
      "\n",
      " \n",
      ">>> There are 27 Civil Servants/Public Officials witnesses.\n",
      "\n",
      ">>> 38 more Civil Servants/Public Officials witnesses have been matched, resulting in a total of 65 witnesses.\n",
      "\n",
      " >>> A total of 40 state research witnesses were matched.\n",
      "\n",
      "\n",
      ">>> 131 more Civil Servants/Public Officials witnesses have been matched, resulting in a total of 196 witnesses.\n"
     ]
    }
   ],
   "source": [
    "# 11.0 OTHER: Civil Servants/Public Officials\n",
    "sector, industry = select_industry(sectors, 11,0)\n",
    "\n",
    "count_witnesses(df, 'witness_industry', industry)\n",
    "\n",
    "# United States research and development agencies\n",
    "# https://en.wikipedia.org/wiki/List_of_United_States_research_and_development_agencies\n",
    "# https://en.wikipedia.org/wiki/Federally_funded_research_and_development_centers\n",
    "\n",
    "# Match federal research and development agencies\n",
    "keywords = [# Independent Agencies\n",
    "            'national science foundation', ' nsf',\n",
    "            'national aeronautics and space administration', ' nasa', \n",
    "            'environmental protection agency office of research and development', \n",
    "            'intelligence advanced research projects activity', ' iarpa',\n",
    "            'smithsonian',\n",
    "             # Department of Agriculture\n",
    "            'agricultural research service', ' ars',\n",
    "            'national institute of food and agriculture', ' nifa'\n",
    "            'economic research service', ' ers',\n",
    "            'united states forest service research and development', 'united states forest service r&d',\n",
    "            'rocky mountain research station, forest service',\n",
    "             # Department of Commerce\n",
    "            'national institute of standards and technology', ' nist',\n",
    "            'national oceanic and atmospheric administration', ' noaa',\n",
    "            # Department of Education\n",
    "            'institute of education sciences', ' ies',\n",
    "            'national institute on disability and rehabilitation research', ' nidrr',\n",
    "            # Department of Energy\n",
    "            'department of energy office of science', 'doe office of science', ' doe sc',\n",
    "            'advanced research projects agency-energy', ' arpa-e',\n",
    "            # National laboratories\n",
    "            'national \\w*\\s*\\w*\\s*\\w*\\s*laboratory', 'national \\w*\\s*\\w*\\s*\\w*\\s*lab',\n",
    "            # Department of health and human services\n",
    "            'national institutes of health', ' nih',\n",
    "            'national institute for occupational safety and health', ' niosh',\n",
    "            'food and drug administration science and research programs',\n",
    "            'agency for healthcare research and quality', ' ahrq',\n",
    "            'biomedical advanced research and development authority', ' barda',\n",
    "            # Department of homeland security\n",
    "            'directorate for science and technology', ' s&t',\n",
    "            'coast guard research & development center', ' cg rdc',\n",
    "            # Department of the interior\n",
    "            'united states geological survey', ' usgs', 'geological survey',\n",
    "            # Department of justice\n",
    "            'national institute of justice', ' nij',\n",
    "            # Department of transportation\n",
    "            'research and innovative technology administration',\n",
    "            'federal aviation administration research, engineering, and development',\n",
    "            'federal highway administration research and technology',\n",
    "            'scientist(?:.+?)environmental protection agency',\n",
    "            'researcher(?:.+?)environmental protection agency',\n",
    "            'research and development, united states environmental protection agency',\n",
    "            # Veterans affairs\n",
    "            'veterans health administration office of research and development', ' ord',\n",
    "            # Multi-agency initiatives\n",
    "            'office of science and technology', ' ostp',\n",
    "            'u.s. global change research program', ' usgcrp', \n",
    "            'networking and information technology research and development program', ' nitrd',\n",
    "            'national nanotechnology initiative', ' nni',\n",
    "            # Judicial branch\n",
    "            'federal judicial center',\n",
    "            # Legislative branch\n",
    "            'house committee on science, space and technology',\n",
    "            'senate committee on commerce, science, and transportation',\n",
    "            'office of technology assessment', ' ota',\n",
    "            # Joint programs\n",
    "            'carbon cycle scientific steering group',\n",
    "            # Federally funded research and development centers\n",
    "            'institute for defense analyses',\n",
    "            'center for naval (analyses|analysis){1}', 'cna military advisory board', 'military advisory board',\n",
    "            'national center for atmospheric research',\n",
    "            # Other\n",
    "            'congressional research service',\n",
    "            'lawrence berkeley laboratory']\n",
    "\n",
    "match_witnesses(df, keywords, sector=sector, industry=industry)\n",
    "\n",
    "count = 0\n",
    "for i, text in enumerate(df):\n",
    "    text['state_research'] = []\n",
    "    for j, witness in enumerate(text['witnesses']):\n",
    "        text['state_research'].append(0)\n",
    "        if len(first_match(keywords, witness.lower())) > 0:\n",
    "                count += 1\n",
    "                text['state_research'][j] = 1\n",
    "                \n",
    "print('\\n >>> A total of {} state research witnesses were matched.\\n\\n'.format(count))\n",
    "\n",
    "# Match other governmental witnesses\n",
    "keywords = ['department of the \\w+', 'department of \\w+', '\\w+ \\w+ agency', '\\w+ \\w+ administration',\n",
    "            'administrator, office of \\w+', 'commodity futures trading commission',\n",
    "            '\\w+ \\w+ commission', 'commission on \\w+', 'committee on \\w+',\n",
    "            '\\w+ and \\w+ \\w+ committee',\n",
    "            'under secretary for democracy and global affairs',\n",
    "            'government accountability office', 'general accounting office',\n",
    "            'mayor\\,?\\s?\\w+ \\w+ \\w+', 'mayor of \\w+', 'mayor, \\w+',\n",
    "            'western governors\\' wildlife council',\n",
    "            'governor\\,?\\s?\\w+\\s?\\w*', 'house of representatives',\n",
    "            'congressional budget office', 'united states congress',\n",
    "            'representative from \\w+', '\\w+ \\w+ senate',\n",
    "            'office of the consumer advocate',\n",
    "            'council on environmental quality',\n",
    "            'california air resources board', 'board of public utilities',\n",
    "            'northeast states for coordinated air use management','\\w+ state \\w+',\n",
    "            '(council o(n|f) \\w+ \\w+)', 'adirondack council',\n",
    "            '((u.s.|united states) (army|navy))', 'senator', 'county executive',\n",
    "            'centers for disease control and prevention']\n",
    "\n",
    "antikeywords = ['national association of regulatory utility commissioners', \n",
    "                'inc\\.|inc$', 'incorporated', 'international energy agency', \n",
    "                'former', 'retired', '(ret\\.)', 'european union',\n",
    "                'resources for the future']\n",
    "\n",
    "match_witnesses(df, keywords, antikeywords, sector=sector, industry=industry)"
   ]
  },
  {
   "cell_type": "code",
   "execution_count": 12,
   "metadata": {},
   "outputs": [
    {
     "name": "stdout",
     "output_type": "stream",
     "text": [
      "11.4 OTHER - Non-Profit Institutions:\n",
      "\n",
      " \n",
      ">>> There are 5 Non-Profit Institutions witnesses.\n",
      "\n",
      ">>> 20 more Non-Profit Institutions witnesses have been matched, resulting in a total of 25 witnesses.\n"
     ]
    }
   ],
   "source": [
    "# 11.4 OTHER - Non-Profit Institutions\n",
    "sector, industry = select_industry(sectors, 11, 4)\n",
    "\n",
    "count_witnesses(df, 'witness_industry', industry)\n",
    "\n",
    "# Match witnesses\n",
    "keywords = ['league of american bicyclists', 'appliance standards awareness project',\n",
    "            'empower consumers', 'freedom to roam', 'regulatory assistance project',\n",
    "            'carnegie endowment for international peace',\n",
    "            'peterson institute for international economics',\n",
    "            'brookings institution', 'national black chamber of commerce',\n",
    "            'center on budget policies and priorities',\n",
    "            'center for budget and policy priorities',\n",
    "            'corporate leaders\\' groups on climate change',\n",
    "            'society of human resource management',\n",
    "            'bipartisan policy center',\n",
    "            # Denialist\n",
    "            'copenhagen consensus center', 'science and public policy institute']\n",
    "\n",
    "match_witnesses(df, keywords, sector=sector, industry=industry)"
   ]
  },
  {
   "cell_type": "code",
   "execution_count": 13,
   "metadata": {},
   "outputs": [
    {
     "name": "stdout",
     "output_type": "stream",
     "text": [
      "11.5 OTHER - Retired:\n",
      "\n",
      " \n",
      ">>> There are 0 Retired witnesses.\n",
      "\n",
      ">>> 10 more Retired witnesses have been matched, resulting in a total of 10 witnesses.\n"
     ]
    }
   ],
   "source": [
    "# 11.1 OTHER - Retired: \n",
    "sector, industry = select_industry(sectors, 11, 5)\n",
    "\n",
    "count_witnesses(df, 'witness_industry', industry)\n",
    "\n",
    "# Match witnesses\n",
    "keywords = ['major general, u.s. army \\(retired\\)', 'u.s. senator \\(retired\\)',\n",
    "            'former.+']\n",
    "antikeywords = ['fellow', 'steering committee', 'vantagepoint']\n",
    "\n",
    "match_witnesses(df, keywords, antikeywords, sector=sector, industry=industry)"
   ]
  },
  {
   "cell_type": "code",
   "execution_count": 14,
   "metadata": {},
   "outputs": [
    {
     "name": "stdout",
     "output_type": "stream",
     "text": [
      "11.6 OTHER - International/Intergovernmental:\n",
      "\n",
      " \n",
      ">>> There are 0 International/Intergovernmental witnesses.\n",
      "\n",
      ">>> 12 more International/Intergovernmental witnesses have been matched, resulting in a total of 12 witnesses.\n"
     ]
    }
   ],
   "source": [
    "# 11.6 OTHER - International/Intergovernmental\n",
    "sector, industry = select_industry(sectors, 11, 6)\n",
    "\n",
    "count_witnesses(df, 'witness_industry', industry)\n",
    "\n",
    "# Match witnesses\n",
    "keywords = ['ipcc', 'intergovernmental panel on climate change', \n",
    "            'international energy agency',\n",
    "            '((house of lords|government economic service), united kingdom)',\n",
    "            'u.k. department for environment, food, and rural affairs',\n",
    "            'european commission', 'european union commission',\n",
    "            'minister for environment, nature conservation and nuclear safety, federal republic of germany']\n",
    "          \n",
    "match_witnesses(df, keywords, sector=sector, industry=industry)"
   ]
  },
  {
   "cell_type": "code",
   "execution_count": 15,
   "metadata": {},
   "outputs": [
    {
     "name": "stdout",
     "output_type": "stream",
     "text": [
      "11.7 OTHER - Individuals:\n",
      "\n",
      " \n",
      ">>> There are 0 Individuals witnesses.\n",
      "\n",
      ">>> 3 more Individuals witnesses have been matched, resulting in a total of 3 witnesses.\n"
     ]
    }
   ],
   "source": [
    "# 11.6 OTHER - Individuals\n",
    "sector, industry = select_industry(sectors, 11, 7)\n",
    "\n",
    "count_witnesses(df, 'witness_industry', industry)\n",
    "\n",
    "# Match witnesses\n",
    "keywords = ['mcintyre, stephen', 'third viscount monckton of brenchley', 'senior meteorologist']\n",
    "\n",
    "match_witnesses(df, keywords, sector=sector, industry=industry)"
   ]
  },
  {
   "cell_type": "markdown",
   "metadata": {},
   "source": [
    "### 7 IDEOLOGY/SINGLE-ISSUE"
   ]
  },
  {
   "cell_type": "code",
   "execution_count": 16,
   "metadata": {},
   "outputs": [],
   "source": [
    "# 7 IDEOLOGICAL/SINGLE-ISSUE (Q)\n",
    "# \t 16 Republican/Conservative\n",
    "# \t 5 Democratic/Liberal\n",
    "# \t 12 Leadership PACs\n",
    "#    \t 4 Democratic leadership PAC\n",
    "#    \t 15 Republican leadership PAC\n",
    "# \t 7 Foreign & Defense Policy\n",
    "# \t 13 Pro-Israel\n",
    "# \t 17 Women's Issues\n",
    "# \t 11 Human Rights\n",
    "#    \t 8 Gay & lesbian rights & issues\n",
    "# \t 6 Environment\n",
    "# \t 9 Gun Control\n",
    "# \t 10 Gun Rights\n",
    "# \t 0 Abortion Policy/Anti-Abortion\n",
    "# \t 1 Abortion Policy/Pro-Abortion Rights\n",
    "# \t 2 Candidate Committees\n",
    "#    \t 14 Republican Candidate Committees\n",
    "#    \t 3 Democratic Candidate Committees"
   ]
  },
  {
   "cell_type": "code",
   "execution_count": 17,
   "metadata": {},
   "outputs": [
    {
     "name": "stdout",
     "output_type": "stream",
     "text": [
      "7.6 IDEOLOGICAL/SINGLE-ISSUE - Environment:\n",
      "\n",
      " \n",
      ">>> There are 58 Environment witnesses.\n",
      "\n",
      ">>> 71 more Environment witnesses have been matched, resulting in a total of 129 witnesses.\n"
     ]
    }
   ],
   "source": [
    "# 7.6 IDEOLOGY/SINGLE-ISSUE: Environment\n",
    "sector, industry = select_industry(sectors, 7,6)\n",
    "\n",
    "count_witnesses(df, 'witness_industry', industry)\n",
    "\n",
    "# Match witnesses\n",
    "keywords = ['resources for the future', 'world resources institute', \n",
    "            'pew center on global climate change', 'pew center', \n",
    "            'american council for an energy efficient economy',\n",
    "            'environmental resources trust',\n",
    "            'environmental defense', 'energy future coalition',\n",
    "            'oxfam america', 'climate central', 'winter wildlands alliance',\n",
    "            'society for conservation biology', 'the climate registry',\n",
    "            'forest climate working group', 'institute for applied ecology',\n",
    "            'climate action reserve', 'apollo alliance',\n",
    "            'national religious partnership for the environment',\n",
    "            'evangelical climate initiative', 'watershed research and training center',\n",
    "            'tomales bay institute', 'polar oceans research group',\n",
    "            'center for biological diversity', 'natural resources defense council',\n",
    "            'theodore roosevelt conservation partnership', 'blue green alliance',\n",
    "            'friends of the earth',\n",
    "            # individuals\n",
    "            'al gore', 'marshall herskovitz']\n",
    "\n",
    "match_witnesses(df, keywords, sector=sector, industry=industry)"
   ]
  },
  {
   "cell_type": "code",
   "execution_count": 18,
   "metadata": {},
   "outputs": [
    {
     "name": "stdout",
     "output_type": "stream",
     "text": [
      "7.7 IDEOLOGICAL/SINGLE-ISSUE - Foreign & Defense Policy:\n",
      "\n",
      " \n",
      ">>> There are 2 Foreign & Defense Policy witnesses.\n",
      "\n",
      ">>> 3 more Foreign & Defense Policy witnesses have been matched, resulting in a total of 5 witnesses.\n"
     ]
    }
   ],
   "source": [
    "# 7.7 IDEOLOGICAL/SINGLE-ISSUE - Foreign & Defense Policy\n",
    "sector, industry = select_industry(sectors, 7,7)\n",
    "\n",
    "count_witnesses(df, 'witness_industry', industry)\n",
    "\n",
    "# Match witnesses\n",
    "keywords = ['association of the united states army', 'truman national security project']\n",
    "\n",
    "match_witnesses(df, keywords, sector=sector, industry=industry)"
   ]
  },
  {
   "cell_type": "code",
   "execution_count": 19,
   "metadata": {},
   "outputs": [
    {
     "name": "stdout",
     "output_type": "stream",
     "text": [
      "7.16 IDEOLOGICAL/SINGLE-ISSUE - Republican/Conservative:\n",
      "\n",
      " \n",
      ">>> There are 6 Republican/Conservative witnesses.\n",
      "\n",
      ">>> 14 more Republican/Conservative witnesses have been matched, resulting in a total of 20 witnesses.\n"
     ]
    }
   ],
   "source": [
    "# 7.16 IDEOLOGICAL/SINGLE-ISSUE - Republican/Conservative\n",
    "sector, industry = select_industry(sectors, 7,16)\n",
    "\n",
    "count_witnesses(df, 'witness_industry', industry)\n",
    "\n",
    "# Match witnesses\n",
    "keywords = ['american enterprise institute', 'competitive enterprise institute',\n",
    "           'cato institute', 'business & media institute']\n",
    "\n",
    "match_witnesses(df, keywords, sector=sector, industry=industry)"
   ]
  },
  {
   "cell_type": "markdown",
   "metadata": {},
   "source": [
    "### 8 LABOR"
   ]
  },
  {
   "cell_type": "code",
   "execution_count": 20,
   "metadata": {},
   "outputs": [],
   "source": [
    "# 8 LABOR (P)\n",
    "# \t 0 Air transport unions\n",
    "# \t 1 Building Trade Unions\n",
    "# \t 2 Industrial Unions\n",
    "# \t 3 Misc Unions\n",
    "# \t 4 Public Sector Unions\n",
    "# \t 5 Teachers unions\n",
    "# \t 6 Transportation Unions\n",
    "# \t 7 US Postal Service unions & associations"
   ]
  },
  {
   "cell_type": "code",
   "execution_count": 21,
   "metadata": {},
   "outputs": [
    {
     "name": "stdout",
     "output_type": "stream",
     "text": [
      "8.2 LABOR - Industrial Unions:\n",
      "\n",
      " \n",
      ">>> There are 5 Industrial Unions witnesses.\n",
      "\n",
      ">>> 7 more Industrial Unions witnesses have been matched, resulting in a total of 12 witnesses.\n"
     ]
    }
   ],
   "source": [
    "# 8.2 LABOR: Industrial Unions\n",
    "sector, industry = select_industry(sectors, 8, 2)\n",
    "\n",
    "count_witnesses(df, 'witness_industry', industry)\n",
    "\n",
    "# Match witnesses\n",
    "keywords = ['(united automobile, aerospace (and|&) agricultural implement workers of america)',\n",
    "            'united steel workers', 'international brotherhood of boilermakers', 'afl- cio',\n",
    "            'laborers\\' international union of north america']\n",
    "\n",
    "match_witnesses(df, keywords, sector=sector, industry=industry)"
   ]
  },
  {
   "cell_type": "markdown",
   "metadata": {},
   "source": [
    "### 4 ENERGY/NAT RESOURCE"
   ]
  },
  {
   "cell_type": "code",
   "execution_count": 22,
   "metadata": {},
   "outputs": [
    {
     "name": "stdout",
     "output_type": "stream",
     "text": [
      "4.0 ENERGY & NATURAL RESOURCES - Alternate energy production & services:\n",
      "\n",
      " \n",
      ">>> There are 11 Alternate energy production & services witnesses.\n",
      "\n",
      ">>> 7 more Alternate energy production & services witnesses have been matched, resulting in a total of 18 witnesses.\n"
     ]
    }
   ],
   "source": [
    "# 4.0 ENERGY/NAT RESOURCE: Alternate energy production & services\n",
    "sector, industry = select_industry(sectors, 4, 0)\n",
    "\n",
    "count_witnesses(df, 'witness_industry', industry)\n",
    "\n",
    "# Match witnesses\n",
    "keywords = ['energy ventures', 'hydrogen energy',\n",
    "            'sunedison', 'gore and associates',\n",
    "            'nrg systems', 'powerspan corp']\n",
    "\n",
    "match_witnesses(df, keywords, sector=sector, industry=industry)"
   ]
  },
  {
   "cell_type": "code",
   "execution_count": 23,
   "metadata": {},
   "outputs": [
    {
     "name": "stdout",
     "output_type": "stream",
     "text": [
      "4.1 ENERGY & NATURAL RESOURCES - Coal mining:\n",
      "\n",
      " \n",
      ">>> There are 1 Coal mining witnesses.\n",
      "\n",
      ">>> 3 more Coal mining witnesses have been matched, resulting in a total of 4 witnesses.\n"
     ]
    }
   ],
   "source": [
    "# 4.1 ENERGY/NAT RESOURCE: Coal Mining\n",
    "sector, industry = select_industry(sectors, 4, 1)\n",
    "\n",
    "count_witnesses(df, 'witness_industry', industry)\n",
    "\n",
    "# Match witnesses\n",
    "keywords = ['\\w*\\s?\\w*coal \\w*', 'evergreen energy inc']\n",
    "\n",
    "match_witnesses(df, keywords, sector=sector, industry=industry)"
   ]
  },
  {
   "cell_type": "code",
   "execution_count": 24,
   "metadata": {
    "scrolled": false
   },
   "outputs": [
    {
     "name": "stdout",
     "output_type": "stream",
     "text": [
      "4.2 ENERGY & NATURAL RESOURCES - Electric Utilities:\n",
      "\n",
      " \n",
      ">>> There are 59 Electric Utilities witnesses.\n",
      "\n",
      ">>> 24 more Electric Utilities witnesses have been matched, resulting in a total of 83 witnesses.\n"
     ]
    }
   ],
   "source": [
    "# 4.2 ENERGY/NAT RESOURCE: Electric Utilities\n",
    "sector, industry = select_industry(sectors, 4, 2)\n",
    "\n",
    "count_witnesses(df, 'witness_industry', industry)\n",
    "\n",
    "# Match witnesses\n",
    "keywords = ['((\\w+\\s?\\w+\\s?\\w+ )?authority( \\w+\\s?\\w+)?)',\n",
    "            '((\\w+ )?\\w*power (\\w+\\s?\\w+)?)',\n",
    "            '((mid\\s?american|cps|og&e|txu|shell)\\s?energy)',\n",
    "            'electric cooperative', '\\w+\\s?\\w+\\s?\\w+ fuels \\w+',\n",
    "            'electricite de france', 'pacific gas and electric \\w+',\n",
    "            'old dominion cooperative', 'tenaska', 'eon energie',\n",
    "            'midamerican corporation', 'pseg service corporation',\n",
    "            'generators for clear air', 'national grid',\n",
    "            'edison electric institute']\n",
    "\n",
    "antikeywords = ['small power consultants', 'empower', 'air power systems']\n",
    "\n",
    "match_witnesses(df, keywords, sector=sector, industry=industry)\n",
    " \n",
    "# >>> There are 56 Electric Utilities witnesses\n",
    "# >>> 22 more Electric Utilities witnesses have been matched, resulting in a total of 78 witnesses."
   ]
  },
  {
   "cell_type": "code",
   "execution_count": 25,
   "metadata": {},
   "outputs": [
    {
     "name": "stdout",
     "output_type": "stream",
     "text": [
      "4.3 ENERGY & NATURAL RESOURCES - Mining:\n",
      "\n",
      " \n",
      ">>> There are 3 Mining witnesses.\n",
      "\n",
      ">>> 5 more Mining witnesses have been matched, resulting in a total of 8 witnesses.\n"
     ]
    }
   ],
   "source": [
    "# 4.3 ENERGY/NAT RESOURCE: Mining\n",
    "sector, industry = select_industry(sectors, 4, 3)\n",
    "\n",
    "count_witnesses(df, 'witness_industry', industry)\n",
    "\n",
    "# Match witnesses\n",
    "keywords = ['rio tinto', 'alcoa \\w+\\s?\\w+', 'quaterra corporation']\n",
    "\n",
    "match_witnesses(df, keywords, sector=sector, industry=industry)"
   ]
  },
  {
   "cell_type": "code",
   "execution_count": 26,
   "metadata": {},
   "outputs": [
    {
     "name": "stdout",
     "output_type": "stream",
     "text": [
      "4.4 ENERGY & NATURAL RESOURCES - Natural Gas transmission & distribution:\n",
      "\n",
      " \n",
      ">>> There are 3 Natural Gas transmission & distribution witnesses.\n",
      "\n",
      ">>> 1 more Natural Gas transmission & distribution witnesses have been matched, resulting in a total of 4 witnesses.\n"
     ]
    }
   ],
   "source": [
    "# 4.4 ENERGY/NAT RESOURCE: Natural Gas transmission & distribution\n",
    "sector, industry = select_industry(sectors, 4, 4)\n",
    "\n",
    "count_witnesses(df, 'witness_industry', industry)\n",
    "\n",
    "# Match witnesses\n",
    "keywords = ['transcanada pipeline']\n",
    "\n",
    "match_witnesses(df, keywords, sector=sector, industry=industry)"
   ]
  },
  {
   "cell_type": "code",
   "execution_count": 27,
   "metadata": {},
   "outputs": [
    {
     "name": "stdout",
     "output_type": "stream",
     "text": [
      "4.5 ENERGY & NATURAL RESOURCES - Oil & Gas:\n",
      "\n",
      " \n",
      ">>> There are 5 Oil & Gas witnesses.\n",
      "\n",
      ">>> 7 more Oil & Gas witnesses have been matched, resulting in a total of 12 witnesses.\n"
     ]
    }
   ],
   "source": [
    "# 4.5 ENERGY/NAT RESOURCE: Oil & Gas\n",
    "sector, industry = select_industry(sectors, 4, 5)\n",
    "\n",
    "count_witnesses(df, 'witness_industry', industry)\n",
    "\n",
    "# Match witnesses\n",
    "keywords = [', (shell(\\s|$)\\w*\\s?\\w*)', 'continental resources', \n",
    "            'conoco- phillips', 'countrymark','unimark']\n",
    "\n",
    "match_witnesses(df, keywords, sector=sector, industry=industry)"
   ]
  },
  {
   "cell_type": "code",
   "execution_count": 28,
   "metadata": {},
   "outputs": [
    {
     "name": "stdout",
     "output_type": "stream",
     "text": [
      "4.6 ENERGY & NATURAL RESOURCES - Waste Management:\n",
      "\n",
      " \n",
      ">>> There are 1 Waste Management witnesses.\n",
      "\n",
      ">>> 2 more Waste Management witnesses have been matched, resulting in a total of 3 witnesses.\n"
     ]
    }
   ],
   "source": [
    "# 4.6 ENERGY/NAT RESOURCE: Waste Management\n",
    "sector, industry = select_industry(sectors, 4, 6)\n",
    "\n",
    "count_witnesses(df, 'witness_industry', industry)\n",
    "\n",
    "# Match witnesses\n",
    "keywords = ['advanced waste management systems', 'waste management, inc']\n",
    "\n",
    "match_witnesses(df, keywords, sector=sector, industry=industry)"
   ]
  },
  {
   "cell_type": "code",
   "execution_count": 29,
   "metadata": {},
   "outputs": [
    {
     "name": "stdout",
     "output_type": "stream",
     "text": [
      "4.7 ENERGY & NATURAL RESOURCES - Nuclear Energy:\n",
      "\n",
      " \n",
      ">>> There are 0 Nuclear Energy witnesses.\n",
      "\n",
      ">>> 2 more Nuclear Energy witnesses have been matched, resulting in a total of 2 witnesses.\n"
     ]
    }
   ],
   "source": [
    "# 4.7 ENERGY/NAT RESOURCE: Nuclear Energy\n",
    "sector, industry = select_industry(sectors, 4, 7)\n",
    "\n",
    "count_witnesses(df, 'witness_industry', industry)\n",
    "\n",
    "# # Match witnesses\n",
    "keywords = ['babcock and wilcox', 'ge hitachi nuclear energy']\n",
    "\n",
    "match_witnesses(df, keywords, sector=sector, industry=industry)"
   ]
  },
  {
   "cell_type": "markdown",
   "metadata": {},
   "source": [
    "### 0 AGRIBUSINESS"
   ]
  },
  {
   "cell_type": "code",
   "execution_count": 30,
   "metadata": {},
   "outputs": [],
   "source": [
    "# 0 AGRIBUSINESS (A)\n",
    "# \t 1 Crop Production & Basic Processing\n",
    "#    \t 13 Vegetables, fruits and tree nut\n",
    "#    \t 11 Sugar cane & sugar beets\n",
    "# \t 12 Tobacco\n",
    "# \t 8 Livestock\n",
    "#    \t 2 Dairy\n",
    "#    \t 10 Poultry & Eggs\n",
    "# \t 0 Agricultural Services/Products\n",
    "#    \t 3 Farm bureaus\n",
    "# \t 5 Food Processing & Sales\n",
    "#    \t 4 Food and kindred products manufacturing\n",
    "#    \t 6 Food stores\n",
    "#    \t 9 Meat processing & products\n",
    "# \t 7 Forestry & Forest Products"
   ]
  },
  {
   "cell_type": "code",
   "execution_count": 31,
   "metadata": {},
   "outputs": [
    {
     "name": "stdout",
     "output_type": "stream",
     "text": [
      "0.0 AGRIBUSINESS - Agricultural Services/Products:\n",
      "\n",
      " \n",
      ">>> There are 13 Agricultural Services/Products witnesses.\n",
      "\n",
      ">>> 1 more Agricultural Services/Products witnesses have been matched, resulting in a total of 14 witnesses.\n"
     ]
    }
   ],
   "source": [
    "# 0.0 AGRIBUSINESS - Agricultural Services/Products\n",
    "sector, industry = select_industry(sectors, 0, 0)\n",
    "\n",
    "count_witnesses(df, 'witness_industry', industry)\n",
    "\n",
    "# Match witnesses\n",
    "keywords = ['lange-segmann company']\n",
    "\n",
    "match_witnesses(df, keywords, sector=sector, industry=industry)"
   ]
  },
  {
   "cell_type": "code",
   "execution_count": 32,
   "metadata": {},
   "outputs": [
    {
     "name": "stdout",
     "output_type": "stream",
     "text": [
      "0.1 AGRIBUSINESS - Crop Production & Basic Processing:\n",
      "\n",
      " \n",
      ">>> There are 2 Crop Production & Basic Processing witnesses.\n",
      "\n",
      ">>> 6 more Crop Production & Basic Processing witnesses have been matched, resulting in a total of 8 witnesses.\n"
     ]
    }
   ],
   "source": [
    "# 0.1 AGRIBUSINESS - Crop Production & Basic Processing\n",
    "sector, industry = select_industry(sectors, 0, 1)\n",
    "\n",
    "count_witnesses(df, 'witness_industry', industry)\n",
    "\n",
    "# Match witnesses\n",
    "keywords = ['pacific northwest direct seed association',\n",
    "            'national milk producers federation', 'usa rice producers\\' group',\n",
    "            'grain growers association', 'vineyard', 'corn growers association']\n",
    "\n",
    "match_witnesses(df, keywords, sector=sector, industry=industry)"
   ]
  },
  {
   "cell_type": "code",
   "execution_count": 33,
   "metadata": {},
   "outputs": [
    {
     "name": "stdout",
     "output_type": "stream",
     "text": [
      "0.7 AGRIBUSINESS - Forestry & Forest Products:\n",
      "\n",
      " \n",
      ">>> There are 1 Forestry & Forest Products witnesses.\n",
      "\n",
      ">>> 1 more Forestry & Forest Products witnesses have been matched, resulting in a total of 2 witnesses.\n"
     ]
    }
   ],
   "source": [
    "# 0.7 AGRIBUSINESS - Forestry & Forest Products\n",
    "sector, industry = select_industry(sectors, 0, 7)\n",
    "\n",
    "count_witnesses(df, 'witness_industry', industry)\n",
    "\n",
    "# Match witnesses\n",
    "keywords = ['the forest carbon dialogue']\n",
    "\n",
    "match_witnesses(df, keywords, sector=sector, industry=industry)"
   ]
  },
  {
   "cell_type": "code",
   "execution_count": 34,
   "metadata": {},
   "outputs": [
    {
     "name": "stdout",
     "output_type": "stream",
     "text": [
      "0.8 AGRIBUSINESS - Livestock:\n",
      "\n",
      " \n",
      ">>> There are 0 Livestock witnesses.\n",
      "\n",
      ">>> 1 more Livestock witnesses have been matched, resulting in a total of 1 witnesses.\n"
     ]
    }
   ],
   "source": [
    "# 0.8 AGRIBUSINESS - Livestock\n",
    "sector, industry = select_industry(sectors, 0, 8)\n",
    "\n",
    "count_witnesses(df, 'witness_industry', industry)\n",
    "\n",
    "# Match witnesses\n",
    "keywords = ['brubaker farms']\n",
    "\n",
    "match_witnesses(df, keywords, sector=sector, industry=industry)"
   ]
  },
  {
   "cell_type": "markdown",
   "metadata": {},
   "source": [
    "### 12 TRANSPORTATION "
   ]
  },
  {
   "cell_type": "code",
   "execution_count": 35,
   "metadata": {},
   "outputs": [],
   "source": [
    "# 12 TRANSPORTATION (M)\n",
    "# \t 0 Air Transport (11)\n",
    "#    \t 1 Airlines (0)\n",
    "# \t 5 Automotive (0)\n",
    "#    \t 4 Auto manufacturers (9)\n",
    "#    \t 3 Auto dealers, new & used (0)\n",
    "#    \t 2 Auto dealers, foreign imports (0)\n",
    "# \t 9 Trucking (1)\n",
    "# \t 7 Railroads (5)\n",
    "# \t 8 Sea Transport (2)\n",
    "#    \t 6 Cruise ships & lines (0)"
   ]
  },
  {
   "cell_type": "code",
   "execution_count": 36,
   "metadata": {},
   "outputs": [
    {
     "name": "stdout",
     "output_type": "stream",
     "text": [
      "12.0 TRANSPORTATION - Air Transport:\n",
      "\n",
      " \n",
      ">>> There are 2 Air Transport witnesses.\n",
      "\n",
      ">>> 3 more Air Transport witnesses have been matched, resulting in a total of 5 witnesses.\n"
     ]
    }
   ],
   "source": [
    "# 12.0 TRANSPORTATION - Air Transport\n",
    "sector, industry = select_industry(sectors, 12,0)\n",
    "\n",
    "count_witnesses(df, 'witness_industry', industry)\n",
    "\n",
    "# Match witnesses\n",
    "keywords = ['air transport association', 'airport council international', 'cargo airline association']\n",
    "\n",
    "match_witnesses(df, keywords, sector=sector, industry=industry)"
   ]
  },
  {
   "cell_type": "code",
   "execution_count": 37,
   "metadata": {},
   "outputs": [
    {
     "name": "stdout",
     "output_type": "stream",
     "text": [
      "12.5 TRANSPORTATION - Automotive:\n",
      "\n",
      " \n",
      ">>> There are 5 Automotive witnesses.\n",
      "\n",
      ">>> 5 more Automotive witnesses have been matched, resulting in a total of 10 witnesses.\n"
     ]
    }
   ],
   "source": [
    "# 12.5 TRANSPORTATION - Automotive\n",
    "sector, industry = select_industry(sectors, 12,5)\n",
    "\n",
    "# Merge subindustry 'Auto manufacturers' into parent category 'Automotive'\n",
    "for i, text in enumerate(df):\n",
    "    for j, witness in enumerate(text['witnesses']):\n",
    "        if df[i]['witness_industry'][j] in ['Auto manufacturers']:\n",
    "            df[i]['witness_industry'][j] = 'Automotive'\n",
    "\n",
    "count_witnesses(df, 'witness_industry', industry)\n",
    "\n",
    "# Match witnesses\n",
    "keywords = ['pridgeon & clay', 'american highway users alliance',\n",
    "            'toyota', 'better place', 'ford motor company', \n",
    "            'alliance for automobile manufacturers']\n",
    "\n",
    "match_witnesses(df, keywords, sector=sector, industry=industry)\n",
    "\n"
   ]
  },
  {
   "cell_type": "code",
   "execution_count": 38,
   "metadata": {},
   "outputs": [
    {
     "name": "stdout",
     "output_type": "stream",
     "text": [
      "12.7 TRANSPORTATION - Railroads:\n",
      "\n",
      " \n",
      ">>> There are 1 Railroads witnesses.\n",
      "\n",
      ">>> 4 more Railroads witnesses have been matched, resulting in a total of 5 witnesses.\n"
     ]
    }
   ],
   "source": [
    "# 12.7 TRANSPORTATION - Railroad\n",
    "sector, industry = select_industry(sectors, 12,7)\n",
    "\n",
    "count_witnesses(df, 'witness_industry', industry)\n",
    "\n",
    "# Match witnesses\n",
    "keywords = ['american public transportation association', 'colorado railcar']\n",
    "\n",
    "match_witnesses(df, keywords, sector=sector, industry=industry)"
   ]
  },
  {
   "cell_type": "code",
   "execution_count": 39,
   "metadata": {},
   "outputs": [
    {
     "name": "stdout",
     "output_type": "stream",
     "text": [
      "12.9 TRANSPORTATION - Trucking:\n",
      "\n",
      " \n",
      ">>> There are 0 Trucking witnesses.\n",
      "\n",
      ">>> 3 more Trucking witnesses have been matched, resulting in a total of 3 witnesses.\n"
     ]
    }
   ],
   "source": [
    "# 112.9 TRANSPORTATION - Trucking\n",
    "sector, industry = select_industry(sectors, 12,9)\n",
    "\n",
    "count_witnesses(df, 'witness_industry', industry)\n",
    "\n",
    "# Match witnesses\n",
    "keywords = ['hahn transportation', 'con-way', 'american trucking association']\n",
    "\n",
    "match_witnesses(df, keywords, sector=sector, industry=industry)"
   ]
  },
  {
   "cell_type": "markdown",
   "metadata": {},
   "source": [
    "### 2 CONSTRUCTION"
   ]
  },
  {
   "cell_type": "code",
   "execution_count": 40,
   "metadata": {},
   "outputs": [],
   "source": [
    "# 2 CONSTRUCTION (C)\n",
    "# \t 2 Construction Services\n",
    "#    \t 0 Architectural services\n",
    "# \t 1 Building Materials & Equipment\n",
    "# \t 3 General Contractors\n",
    "# \t 4 Home Builders\n",
    "# \t 5 Special Trade Contractors"
   ]
  },
  {
   "cell_type": "code",
   "execution_count": 41,
   "metadata": {},
   "outputs": [
    {
     "name": "stdout",
     "output_type": "stream",
     "text": [
      "2.1 CONSTRUCTION - Building Materials & Equipment:\n",
      "\n",
      " \n",
      ">>> There are 0 Building Materials & Equipment witnesses.\n",
      "\n",
      ">>> 1 more Building Materials & Equipment witnesses have been matched, resulting in a total of 1 witnesses.\n"
     ]
    }
   ],
   "source": [
    "# 2.1 CONSTRUCTION - Building Materials & Equipment\n",
    "sector, industry = select_industry(sectors, 2,1)\n",
    "\n",
    "count_witnesses(df, 'witness_industry', industry)\n",
    "\n",
    "# Match witnesses\n",
    "keywords = ['holcim cement']\n",
    "\n",
    "match_witnesses(df, keywords, sector=sector, industry=industry)"
   ]
  },
  {
   "cell_type": "code",
   "execution_count": 42,
   "metadata": {},
   "outputs": [
    {
     "name": "stdout",
     "output_type": "stream",
     "text": [
      "2.2 CONSTRUCTION - Construction Services:\n",
      "\n",
      " \n",
      ">>> There are 1 Construction Services witnesses.\n",
      "\n"
     ]
    }
   ],
   "source": [
    "# 2.2 CONSTRUCTION - Construction Services\n",
    "sector, industry = select_industry(sectors, 2, 2)\n",
    "\n",
    "# Merge Architectural services into parent category Construction Services\n",
    "for i, text in enumerate(df):\n",
    "    for j, witness in enumerate(text['witnesses']):\n",
    "        if df[i]['witness_industry'][j] in ['Architectural services']:\n",
    "            df[i]['witness_industry'][j] = 'Construction Services'\n",
    "            \n",
    "count_witnesses(df, 'witness_industry', industry)"
   ]
  },
  {
   "cell_type": "code",
   "execution_count": 43,
   "metadata": {},
   "outputs": [
    {
     "name": "stdout",
     "output_type": "stream",
     "text": [
      "2.4 CONSTRUCTION - Home Builders:\n",
      "\n",
      " \n",
      ">>> There are 0 Home Builders witnesses.\n",
      "\n",
      ">>> 1 more Home Builders witnesses have been matched, resulting in a total of 1 witnesses.\n"
     ]
    }
   ],
   "source": [
    "# 2.1 CONSTRUCTION - Home Builders\n",
    "sector, industry = select_industry(sectors, 2, 4)\n",
    "\n",
    "count_witnesses(df, 'witness_industry', industry)\n",
    "\n",
    "# Match witnesses\n",
    "keywords = ['national association of homebuilders']\n",
    "\n",
    "match_witnesses(df, keywords, sector=sector, industry=industry)"
   ]
  },
  {
   "cell_type": "markdown",
   "metadata": {},
   "source": [
    "### 5 FINANCE, INSURANCE & REAL ESTATE"
   ]
  },
  {
   "cell_type": "code",
   "execution_count": 44,
   "metadata": {},
   "outputs": [],
   "source": [
    "# 5 FINANCE, INSURANCE & REAL ESTATE (F)\n",
    "# \t 1 Commercial Banks\n",
    "# \t 11 Savings & Loans\n",
    "# \t 2 Credit Unions\n",
    "# \t 3 Finance/Credit Companies\n",
    "#    \t 13 Student loan companies\n",
    "#    \t 8 Payday lenders\n",
    "# \t 12 Securities & Investment\n",
    "#    \t 14 Venture capital\n",
    "#    \t 4 Hedge Funds\n",
    "#    \t 9 Private Equity & Investment Firms\n",
    "# \t 5 Insurance\n",
    "# \t 10 Real Estate\n",
    "#    \t 7 Mortgage bankers and brokers\n",
    "# \t 0 Accountants\n",
    "# \t 6 Misc Finance"
   ]
  },
  {
   "cell_type": "code",
   "execution_count": 45,
   "metadata": {},
   "outputs": [
    {
     "name": "stdout",
     "output_type": "stream",
     "text": [
      "5.5 FINANCE, INSURANCE & REAL ESTATE - Insurance:\n",
      "\n",
      " \n",
      ">>> There are 1 Insurance witnesses.\n",
      "\n",
      ">>> 1 more Insurance witnesses have been matched, resulting in a total of 2 witnesses.\n"
     ]
    }
   ],
   "source": [
    "# 5.5 FINANCE, INSURANCE & REAL ESTATE - Insurance\n",
    "sector, industry = select_industry(sectors, 5,5)\n",
    "\n",
    "count_witnesses(df, 'witness_industry', industry)\n",
    "\n",
    "# Match witnesses\n",
    "keywords = ['swiss re']\n",
    "\n",
    "match_witnesses(df, keywords, sector=sector, industry=industry)"
   ]
  },
  {
   "cell_type": "code",
   "execution_count": 46,
   "metadata": {},
   "outputs": [
    {
     "name": "stdout",
     "output_type": "stream",
     "text": [
      "5.12 FINANCE, INSURANCE & REAL ESTATE - Securities & Investment:\n",
      "\n",
      " \n",
      ">>> There are 6 Securities & Investment witnesses.\n",
      "\n",
      ">>> 13 more Securities & Investment witnesses have been matched, resulting in a total of 19 witnesses.\n"
     ]
    }
   ],
   "source": [
    "# 5.12 FINANCE, INSURANCE & REAL ESTATE - Securities & Investment\n",
    "sector, industry = select_industry(sectors, 5,12)\n",
    "\n",
    "count_witnesses(df, 'witness_industry', industry)\n",
    "\n",
    "# Match witnesses\n",
    "keywords = ['friedman billings ramsey and company', 'missionpoint capital partners',\n",
    "            'natsource', 'investor responsibility research center','new energy finance',\n",
    "            'mayfield fund', 'free enterprise action fund', 'jp morgan securities',\n",
    "            'friedman, billings, ramsey and company', 'tgp capital', 'td bank']\n",
    "\n",
    "match_witnesses(df, keywords, sector=sector, industry=industry)"
   ]
  },
  {
   "cell_type": "code",
   "execution_count": 47,
   "metadata": {},
   "outputs": [
    {
     "name": "stdout",
     "output_type": "stream",
     "text": [
      "5.14 FINANCE, INSURANCE & REAL ESTATE - Venture capital:\n",
      "\n",
      " \n",
      ">>> There are 0 Venture capital witnesses.\n",
      "\n",
      ">>> 5 more Venture capital witnesses have been matched, resulting in a total of 5 witnesses.\n"
     ]
    }
   ],
   "source": [
    "# 5.14 FINANCE, INSURANCE & REAL ESTATE - Venture capital\n",
    "sector, industry = select_industry(sectors, 5,14)\n",
    "\n",
    "count_witnesses(df, 'witness_industry', industry)\n",
    "\n",
    "# Match witnesses\n",
    "keywords = ['vantagepoint venture partners',  '\\w+ capital partners',\n",
    "            'kleiner perkins caufield & byers']\n",
    "\n",
    "match_witnesses(df, keywords, sector=sector, industry=industry)"
   ]
  },
  {
   "cell_type": "markdown",
   "metadata": {},
   "source": [
    "### 10 MISC BUSINESS"
   ]
  },
  {
   "cell_type": "code",
   "execution_count": 48,
   "metadata": {},
   "outputs": [],
   "source": [
    "# 10 MISC BUSINESS (N)\n",
    "\n",
    "# \t 2 Business Associations\n",
    "# \t 8 Food & Beverage\n",
    "#    \t 18 Restaurants & drinking establishments\n",
    "# \t 1 Beer, Wine & Liquor\n",
    "# \t 19 Retail Sales\n",
    "# \t 15 Misc Services\n",
    "#    \t 9 Funeral services\n",
    "# \t 3 Business Services\n",
    "#    \t 0 Advertising & public relations services\n",
    "# \t 17 Recreation/Live Entertainment\n",
    "#    \t 16 Professional sports, arenas & related equip & svcs\n",
    "# \t 4 Casinos/Gambling\n",
    "#    \t 10 Indian Gaming\n",
    "# \t 11 Lodging/Tourism\n",
    "# \t 12 Marijuana\n",
    "# \t 13 Marijuana\n",
    "# \t 7 Correctional facilities constr & mgmt/for-profit\n",
    "# \t 5 Chemical & Related Manufacturing\n",
    "# \t 20 Steel Production\n",
    "# \t 14 Misc Manufacturing & Distributing\n",
    "#    \t 6 Clothing & accessories\n",
    "# \t 21 Textiles"
   ]
  },
  {
   "cell_type": "code",
   "execution_count": 49,
   "metadata": {},
   "outputs": [
    {
     "name": "stdout",
     "output_type": "stream",
     "text": [
      "10.2 MISC BUSINESS - Business Associations:\n",
      "\n",
      " \n",
      ">>> There are 10 Business Associations witnesses.\n",
      "\n",
      ">>> 10 more Business Associations witnesses have been matched, resulting in a total of 20 witnesses.\n"
     ]
    }
   ],
   "source": [
    "# 10.2 MISC BUSINESS - Business Association\n",
    "sector, industry = select_industry(sectors, 10, 2)\n",
    "\n",
    "count_witnesses(df, 'witness_industry', industry)\n",
    "\n",
    "# Match witnesses\n",
    "keywords = ['national association of \\w+ \\w+\\s?\\w+',  'u.s. chamber of commerce', 'chamber of commerce']\n",
    "\n",
    "match_witnesses(df, keywords, sector=sector, industry=industry)"
   ]
  },
  {
   "cell_type": "code",
   "execution_count": 50,
   "metadata": {},
   "outputs": [
    {
     "name": "stdout",
     "output_type": "stream",
     "text": [
      "10.3 MISC BUSINESS - Business Services:\n",
      "\n",
      " \n",
      ">>> There are 2 Business Services witnesses.\n",
      "\n",
      ">>> 20 more Business Services witnesses have been matched, resulting in a total of 22 witnesses.\n"
     ]
    }
   ],
   "source": [
    "# 10.3 MISC BUSINESS - Business Services\n",
    "\n",
    "sector, industry = select_industry(sectors, 10, 3)\n",
    "\n",
    "count_witnesses(df, 'witness_industry', industry)\n",
    "\n",
    "# Match witnesses\n",
    "keywords = [# Consultancies\n",
    "            'energy and environmental analysis', 'climate advisers', ', (pace)$',\n",
    "            'orbis energy advisors', 'arduin, laffer and moore econometrics', 'point carbon', \n",
    "            'cra international', 'charles river associates', 'c-lock technology', \n",
    "            'doane advisory services', 'first environment', 'coulomb technologies',\n",
    "            'imbue technology solutions', 'independent consultant']\n",
    "\n",
    "match_witnesses(df, keywords, sector=sector, industry=industry)"
   ]
  },
  {
   "cell_type": "code",
   "execution_count": 51,
   "metadata": {},
   "outputs": [
    {
     "name": "stdout",
     "output_type": "stream",
     "text": [
      "10.5 MISC BUSINESS - Chemical & Related Manufacturing:\n",
      "\n",
      " \n",
      ">>> There are 5 Chemical & Related Manufacturing witnesses.\n",
      "\n",
      ">>> 3 more Chemical & Related Manufacturing witnesses have been matched, resulting in a total of 8 witnesses.\n"
     ]
    }
   ],
   "source": [
    "# 10.5 MISC BUSINESS - Chemical & Related Manufacturing\n",
    "sector, industry = select_industry(sectors, 10, 5)\n",
    "\n",
    "count_witnesses(df, 'witness_industry', industry)\n",
    "\n",
    "# Match witnesses\n",
    "keywords = ['zaclon chemical', 'dupont', 'basf']\n",
    "\n",
    "match_witnesses(df, keywords, sector=sector, industry=industry)"
   ]
  },
  {
   "cell_type": "code",
   "execution_count": 52,
   "metadata": {},
   "outputs": [
    {
     "name": "stdout",
     "output_type": "stream",
     "text": [
      "10.14 MISC BUSINESS - Misc Manufacturing & Distributing:\n",
      "\n",
      " \n",
      ">>> There are 11 Misc Manufacturing & Distributing witnesses.\n",
      "\n",
      ">>> 16 more Misc Manufacturing & Distributing witnesses have been matched, resulting in a total of 27 witnesses.\n"
     ]
    }
   ],
   "source": [
    "# 10.14 MISC BUSINESS - Misc Manufacturing & Distributing\n",
    "sector, industry = select_industry(sectors, 10, 14)\n",
    "\n",
    "count_witnesses(df, 'witness_industry', industry)\n",
    "\n",
    "# Match witnesses\n",
    "keywords = ['energy[\\s-]{1}intensive manufacturers', 'manufacturers association', 'corning incorporated',\n",
    "            'general electric', 'ge global research', 'ge energy', 'siemens', 'aircuity', 'applied materials']\n",
    "\n",
    "match_witnesses(df, keywords, sector=sector, industry=industry)"
   ]
  },
  {
   "cell_type": "code",
   "execution_count": 53,
   "metadata": {
    "scrolled": true
   },
   "outputs": [
    {
     "name": "stdout",
     "output_type": "stream",
     "text": [
      "10.20 MISC BUSINESS - Steel Production:\n",
      "\n",
      " \n",
      ">>> There are 3 Steel Production witnesses.\n",
      "\n",
      ">>> 1 more Steel Production witnesses have been matched, resulting in a total of 4 witnesses.\n"
     ]
    }
   ],
   "source": [
    "# 10.20 MISC BUSINESS - Steel Production\n",
    "sector, industry = select_industry(sectors, 10, 20)\n",
    "\n",
    "count_witnesses(df, 'witness_industry', industry)\n",
    "\n",
    "# Match witnesses\n",
    "keywords = ['nucor steel corporation']\n",
    "\n",
    "match_witnesses(df, keywords, sector=sector, industry=industry)"
   ]
  },
  {
   "cell_type": "markdown",
   "metadata": {},
   "source": [
    "### 9 LAWYERS & LOBBYISTS"
   ]
  },
  {
   "cell_type": "code",
   "execution_count": 54,
   "metadata": {},
   "outputs": [],
   "source": [
    "# 9 LAWYERS & LOBBYISTS (K)\n",
    "# \t 0 Lawyers/Law Firms\n",
    "# \t 1 Lobbyists"
   ]
  },
  {
   "cell_type": "code",
   "execution_count": 55,
   "metadata": {},
   "outputs": [
    {
     "name": "stdout",
     "output_type": "stream",
     "text": [
      "9.0 LAWYERS & LOBBYISTS - Lawyers/Law Firms:\n",
      "\n",
      " \n",
      ">>> There are 6 Lawyers/Law Firms witnesses.\n",
      "\n",
      ">>> 2 more Lawyers/Law Firms witnesses have been matched, resulting in a total of 8 witnesses.\n"
     ]
    }
   ],
   "source": [
    "# 9.0 LAWYERS & LOBBYISTS - Lawyers/Law Firms\n",
    "sector, industry = select_industry(sectors, 9, 0)\n",
    "\n",
    "count_witnesses(df, 'witness_industry', industry)\n",
    "\n",
    "# Match witnesses\n",
    "keywords = ['latham & watkins', 'crowell and moring', 'meagher & flom']\n",
    "\n",
    "match_witnesses(df, keywords, sector=sector, industry=industry)"
   ]
  },
  {
   "cell_type": "markdown",
   "metadata": {},
   "source": [
    "### 1 COMMUNICATIONS/ELECTRONICS"
   ]
  },
  {
   "cell_type": "code",
   "execution_count": 56,
   "metadata": {},
   "outputs": [],
   "source": [
    "# 1 COMMUNICATIONS/ELECTRONICS (B)\n",
    "# \t 0 Book, newspaper & periodical publishing\n",
    "# \t 1 Cable & satellite TV production\n",
    "# \t 2 Commercial TV & radio stations\n",
    "# \t 3 Computer software\n",
    "# \t 4 Electronics Mfg & Equip\n",
    "# \t 5 Internet\n",
    "# \t 6 Motion Picture production & distribution\n",
    "# \t 7 Printing & Publishing\n",
    "# \t 8 Recorded Music & music production\n",
    "# \t 9 Telecom Services\n",
    "# \t 10 Telephone Utilities\n",
    "# \t 11 TV production\n",
    "# \t 12 TV/Movies/Music"
   ]
  },
  {
   "cell_type": "code",
   "execution_count": 57,
   "metadata": {},
   "outputs": [
    {
     "name": "stdout",
     "output_type": "stream",
     "text": [
      "1.5 COMMUNICATIONS/ELECTRONICS - Internet:\n",
      "\n",
      " \n",
      ">>> There are 0 Internet witnesses.\n",
      "\n",
      ">>> 3 more Internet witnesses have been matched, resulting in a total of 3 witnesses.\n"
     ]
    }
   ],
   "source": [
    "# 1.t COMMUNICATIONS/ELECTRONICS - Internet\n",
    "sector, industry = select_industry(sectors, 1, 5)\n",
    "\n",
    "count_witnesses(df, 'witness_industry', industry)\n",
    "\n",
    "# Match witnesses\n",
    "keywords = ['google']\n",
    "\n",
    "match_witnesses(df, keywords, sector=sector, industry=industry)"
   ]
  },
  {
   "cell_type": "code",
   "execution_count": 58,
   "metadata": {
    "scrolled": false
   },
   "outputs": [],
   "source": [
    "# Search for further matches\n",
    "keywords = [' ']\n",
    "antikeywords = []\n",
    "\n",
    "match_witnesses(df, keywords, antikeywords, search = True, sector=sector, industry=industry)"
   ]
  },
  {
   "cell_type": "markdown",
   "metadata": {},
   "source": [
    "### CORRECTIONS"
   ]
  },
  {
   "cell_type": "code",
   "execution_count": 59,
   "metadata": {},
   "outputs": [
    {
     "name": "stdout",
     "output_type": "stream",
     "text": [
      "Cogen, Jack, President, Natsource : Securities & Investment -- Finance, Insurance & Real Estate\n",
      "Rosenzweig, Richard, Chief Operating Officer, Member of International Climate Change Partner, Natsource : Securities & Investment -- Finance, Insurance & Real Estate\n",
      "Shaw, Ruth, Group Executive for Public Policy and President for Duke Nuclear, Duke Energy Corporation : Electric Utilities -- Energy & Natural Resources\n",
      "Houghton, Sir John, Co-Chairman, Scientific Assessment Working Group, Intergovernmental Panel on Climate Change, London, England : International/Intergovernmental -- Other\n",
      "Dr. Mack McFarland, Environmental Manager, Fluorochemicals Business, E.I. DuPont De Nemours and Company : Hospitals/Nursing Homes -- Health\n",
      "Mr. Ronald E. Meissen, Senior Director, Engineering, Environment, Health & Safety, Baxter International, Inc. : Medical Devices & Supplies -- Health\n",
      "Dr. Robert H. Hobbs, Director of Operations, United Technologies Research Center, United Technologies Corporation : Electric Utilities -- Energy & Natural Resources\n",
      "McQuade, Michael, Senior Vice President for Science and Technology, United Technologies Corporation : Electric Utilities -- Energy & Natural Resources\n",
      "Forrister, Dirk, managing director, Natsource LLC, Washington, DC : Business Services -- Misc Business\n",
      "Robert Greenstein, executive director, Center on Budget and Policy Priorities : Human Rights -- Ideological/Single-Issue\n",
      "Levin, Hon. Carl, U.S. Senator from the State of Michigan : Air Transport -- Transportation\n",
      "Baugh, Robert C., executive director, AFL-CIO Industrial Union Council and Chair, AFL-CIO Energy Task Force : Building Trade Unions -- Labor\n",
      "Frank L. Bowman, Admiral, U.S. Navy (retired), President and Chief Executive Officer, Nuclear Energy Institute : Electric Utilities -- Energy & Natural Resources\n",
      "Ford West, President, The Fertilizer Institute : Agricultural Services/Products -- Agribusiness\n",
      "Robert C.Baugh, Executive Director of AFL-CIO Industrial Union Council and Chair of AFL-CIO Energy Task Force : Building Trade Unions -- Labor\n",
      "Holiday, Chad, Chairman and CEO, E.I. Dupont De Nemours and Company, Inc : Hospitals/Nursing Homes -- Health\n",
      "Berrigan, Carol, Director of Industry Infrastructure, Nuclear Energy Institute : Electric Utilities -- Energy & Natural Resources\n",
      "Mr. Dan Braun, Director, Global Environmental Finance, Stark Investments : Misc Finance -- Finance, Insurance & Real Estate\n",
      "Wirth, Hon. Timothy, President, United Nations Foundation, Washington, DC : Agricultural Services/Products -- Agribusiness\n",
      "George A. David, Chairman, United Technologies Corporation : Electric Utilities -- Energy & Natural Resources\n",
      "Kristie L. Ebi, Public Health Consultant, Lead Author, Public Health Chapter of the 2007 Intergovernmental Panel on Climate Change, Fourth Assessment Report : International/Intergovernmental -- Other\n",
      "Dr. Eric P. Loewen, Chief Consulting Engineer, Advanced Plants Technology, GE Hitachi Nuclear Energy : Nuclear Energy -- Energy & Natural Resources\n",
      "McConaghy, Dennis, Executive Vice President, Pipeline Strategy and Development, TransCanada Pipelines, Ltd., Calgary, Canada : Natural Gas transmission & distribution -- Energy & Natural Resources\n",
      "Pachauri, Rajendra K., Ph.D., Chairman, United Nations Intergovernmental Panel on Climate Change : Agricultural Services/Products -- Agribusiness\n",
      "Field, Christopher, Ph.D., Director, Department of Global Ecology, Carnegie Institution for Science, Stanford University; Co-Chair, Working Group II, United Nations Intergovernmental Panel on Climate Change : Agricultural Services/Products -- Agribusiness\n",
      "Stone, Chad, Chief Economist, Center on Budget and Policy Priorities : Human Rights -- Ideological/Single-Issue\n",
      "Charles Holliday, Jr., Chairman, DuPont : Chemical & Related Manufacturing -- Misc Business\n",
      "Red Cavaney, Senior Vice President for Government and Public Affairs, ConocoPhillips : Natural Gas transmission & distribution -- Energy & Natural Resources\n",
      "John Somerhalder, II, Chairman, CEO, and President, AGL Resources, On Behalf of the American Gas Association : Natural Gas transmission & distribution -- Energy & Natural Resources\n",
      "Richard Morgan, Commissioner, District of Columbia Public Service Commission, On Behalf of The American Gas Association : Natural Gas transmission & distribution -- Energy & Natural Resources\n",
      "Brehm, Peter, Vice President, Business Development and Government Relations, Infinia Corporation : Medical Devices & Supplies -- Health\n",
      "Sharp, Fawn, President, Quinault Indian Nation : Casinos/Gambling -- Misc Business\n",
      "West, Ford B., President, The Fertilizer Institute, Washington, D.C : Agricultural Services/Products -- Agribusiness\n",
      "Chad Stone, Ph. D., Chief Economist, Center on Budget and Policy Priorities : Human Rights -- Ideological/Single-Issue\n",
      "Holliday, Charles O. Jr., Chairman and Chief Executive Officer of E.I. DuPont De Nemours and Company, Inc : Hospitals/Nursing Homes -- Health\n",
      "Berrigan, Carol, director, industry infrastructure, Nuclear Energy Institute, Washington, DC : Electric Utilities -- Energy & Natural Resources\n"
     ]
    }
   ],
   "source": [
    "# # Reclassify wrongly classified witnesses (the automatic matching process matches the FIRST match, sometimes resulting with a fringe aspect of a business operation in multiple sectors being the first match)\n",
    "\n",
    "for i, text in enumerate(df):\n",
    "    for j, witness in enumerate(text['witnesses']):\n",
    "# United Technologies to Air Transport\n",
    "        if len(re.findall('United Technologies', witness)):\n",
    "            print(witness, ':', df[i]['witness_industry'][j], '--', df[i]['witness_sector'][j])\n",
    "            df[i]['witness_industry'][j] = 'Air Transport'\n",
    "            df[i]['witness_sector'][j] = 'Transportation' \n",
    "# DuPont and the Fertilizer Institute to Chemical Manufacturing\n",
    "        if len(re.findall('DuPont|Dupont|Fertilizer Institute', witness)):\n",
    "            print(witness, ':', df[i]['witness_industry'][j], '--', df[i]['witness_sector'][j])\n",
    "            df[i]['witness_industry'][j] = 'Chemical & Related Manufacturing'\n",
    "            df[i]['witness_sector'][j] = 'Misc Business'\n",
    "# Baxter International to Misc Manufacturing:\n",
    "        if len(re.findall('Baxter International', witness)):\n",
    "            print(witness, ':', df[i]['witness_industry'][j], '--', df[i]['witness_sector'][j])\n",
    "            df[i]['witness_industry'][j] = 'Misc Manufacturing & Distributing'\n",
    "            df[i]['witness_sector'][j] = 'Misc Business'  \n",
    "# United Nations Foundation and Center on Budget and Policy Priorities to Non-Profit Institutions\n",
    "        if len(re.findall('United Nations Foundation|Center on Budget and Policy Priorities', witness)):\n",
    "            print(witness, ':', df[i]['witness_industry'][j], '--', df[i]['witness_sector'][j])\n",
    "            df[i]['witness_industry'][j] = 'Non-Profit Institutions'\n",
    "            df[i]['witness_sector'][j] = 'Other'\n",
    "# Infinia Corporation to Alternate energy production & services\n",
    "        if len(re.findall('Infinia Corporation', witness)):\n",
    "            print(witness, ':', df[i]['witness_industry'][j], '--', df[i]['witness_sector'][j])\n",
    "            df[i]['witness_industry'][j] = 'Alternate energy production & services'\n",
    "            df[i]['witness_sector'][j] = 'Energy & Natural Resources'\n",
    "# Nuclear Energy and Duke Nuclear to Nuclear Energy\n",
    "        if len(re.findall('Nuclear Energy|Duke Nuclear', witness)):\n",
    "            print(witness, ':', df[i]['witness_industry'][j], '--', df[i]['witness_sector'][j])\n",
    "            df[i]['witness_industry'][j] = 'Nuclear Energy'\n",
    "            df[i]['witness_sector'][j] = 'Energy & Natural Resources'\n",
    "# TransCanada, ConocoPhillips AGL Resources, and American Gas Association to Oil & Gas\n",
    "        if len(re.findall('TransCanada|ConocoPhillips|AGL Resources|American Gas Association', witness)):\n",
    "            print(witness, ':', df[i]['witness_industry'][j], '--', df[i]['witness_sector'][j])\n",
    "            df[i]['witness_industry'][j] = 'Oil & Gas'\n",
    "            df[i]['witness_sector'][j] = 'Energy & Natural Resources' \n",
    "# AFL-CIO and United Auto Workers to Industrial Unions\n",
    "        if len(re.findall('AFL-CIO', witness)):\n",
    "            print(witness, ':', df[i]['witness_industry'][j], '--', df[i]['witness_sector'][j])\n",
    "            df[i]['witness_industry'][j] = 'Industrial Unions'\n",
    "            df[i]['witness_sector'][j] = 'Labor'\n",
    "# Natsource to Securities & Investment\n",
    "        if len(re.findall('Natsource|Stark Investments', witness)):\n",
    "            print(witness, ':', df[i]['witness_industry'][j], '--', df[i]['witness_sector'][j])\n",
    "            df[i]['witness_industry'][j] = 'Securities & Investment'\n",
    "            df[i]['witness_sector'][j] = 'Finance, Insurance & Real Estate'\n",
    "# Quinault Indian Nation to Civil Servants/Public Officials\n",
    "        if len(re.findall('Quinault Indian Nation|State of Michigan', witness)):\n",
    "            print(witness, ':', df[i]['witness_industry'][j], '--', df[i]['witness_sector'][j])\n",
    "            df[i]['witness_industry'][j] = 'Civil Servants/Public Officials'\n",
    "            df[i]['witness_sector'][j] = 'Other'\n",
    "# Intergovernmental Panel on Climate Change to International/Intergovernmental\n",
    "        if len(re.findall('Intergovernmental Panel on Climate Change', witness)):\n",
    "            print(witness, ':', df[i]['witness_industry'][j], '--', df[i]['witness_sector'][j])\n",
    "            df[i]['witness_industry'][j] = 'International/Intergovernmental'\n",
    "            df[i]['witness_sector'][j] = 'Other'"
   ]
  },
  {
   "cell_type": "code",
   "execution_count": 60,
   "metadata": {},
   "outputs": [
    {
     "name": "stdout",
     "output_type": "stream",
     "text": [
      "The affiliations of 855 out of 855 witnesses were successfully matched.\n",
      "\n",
      "\n"
     ]
    }
   ],
   "source": [
    "# Summary:\n",
    "matched = 0\n",
    "witnesses = 0\n",
    "\n",
    "for text in df:\n",
    "    for i, witness in enumerate(text['witnesses']):\n",
    "        witnesses += 1\n",
    "        if text['witness_affiliation'][i] != None:\n",
    "            matched += 1              \n",
    "\n",
    "print('The affiliations of {} out of {} witnesses were successfully matched.\\n\\n'.format(matched, witnesses))"
   ]
  },
  {
   "cell_type": "code",
   "execution_count": 61,
   "metadata": {
    "scrolled": true
   },
   "outputs": [
    {
     "name": "stdout",
     "output_type": "stream",
     "text": [
      " \n",
      ">>> There are 20 Agribusiness witnesses.\n",
      "\n",
      " \n",
      ">>> There are 3 Communications/Electronics witnesses.\n",
      "\n",
      " \n",
      ">>> There are 4 Construction witnesses.\n",
      "\n",
      " \n",
      ">>> There are 0 Defense witnesses.\n",
      "\n",
      " \n",
      ">>> There are 132 Energy & Natural Resources witnesses.\n",
      "\n",
      " \n",
      ">>> There are 28 Finance, Insurance & Real Estate witnesses.\n",
      "\n",
      " \n",
      ">>> There are 0 Health witnesses.\n",
      "\n",
      " \n",
      ">>> There are 158 Ideological/Single-Issue witnesses.\n",
      "\n",
      " \n",
      ">>> There are 14 Labor witnesses.\n",
      "\n",
      " \n",
      ">>> There are 11 Lawyers & Lobbyists witnesses.\n",
      "\n",
      " \n",
      ">>> There are 89 Misc Business witnesses.\n",
      "\n",
      " \n",
      ">>> There are 370 Other witnesses.\n",
      "\n",
      " \n",
      ">>> There are 26 Transportation witnesses.\n",
      "\n"
     ]
    }
   ],
   "source": [
    "# Print witnesses per sector\n",
    "for sector in sectors:\n",
    "    count_witnesses(df, 'witness_sector',  sector['name'], print_witnesses = False)"
   ]
  },
  {
   "cell_type": "code",
   "execution_count": 62,
   "metadata": {},
   "outputs": [],
   "source": [
    "# # Print witnesses per industry\n",
    "# for sector in sectors:\n",
    "#     for industry in sector['industries']:\n",
    "#         count_witnesses(df, 'witness_industry',  industry['industry'], print_witnesses = False)"
   ]
  },
  {
   "cell_type": "code",
   "execution_count": 63,
   "metadata": {},
   "outputs": [],
   "source": [
    "# Save the data\n",
    "with open('CommitteeHearings/hearings_witnesses_contrarians_classified.json', 'w') as file:\n",
    "    json.dump(df, file)"
   ]
  },
  {
   "cell_type": "code",
   "execution_count": 64,
   "metadata": {},
   "outputs": [],
   "source": [
    "# # Investigate industries per sector\n",
    "# for industry in sectors[2]['industries']: #jump\n",
    "#     count_witnesses(df, 'witness_industry',  industry['industry'], print_witnesses = False)"
   ]
  },
  {
   "cell_type": "code",
   "execution_count": 65,
   "metadata": {},
   "outputs": [],
   "source": [
    "# # Search industries\n",
    "# for sector in sectors:\n",
    "#     for industry in sector['industries']:\n",
    "#         if industry['lobbying_groups']:\n",
    "#             for firm in industry['lobbying_groups']:\n",
    "#                 if 'dominion'.lower() in firm.lower():\n",
    "#                     print(firm.lower(), ':', industry['industry'])"
   ]
  },
  {
   "cell_type": "code",
   "execution_count": 66,
   "metadata": {},
   "outputs": [],
   "source": [
    "# # Search witnesses\n",
    "# for i, text in enumerate(df):\n",
    "#     for j, witness in enumerate(text['witnesses']):\n",
    "#         if len(re.findall(' ge '.lower(), witness.lower())):\n",
    "#             print(df[i]['identifier'], witness, ':', df[i]['witness_affiliation'][j], '--', df[i]['witness_industry'][j])\n",
    "# #             print(df[i]['identifier'], witness, ':', df[i]['witness_industry'][j], '--', df[i]['witness_sector'][j])"
   ]
  }
 ],
 "metadata": {
  "kernelspec": {
   "display_name": "Python 3",
   "language": "python",
   "name": "python3"
  },
  "language_info": {
   "codemirror_mode": {
    "name": "ipython",
    "version": 3
   },
   "file_extension": ".py",
   "mimetype": "text/x-python",
   "name": "python",
   "nbconvert_exporter": "python",
   "pygments_lexer": "ipython3",
   "version": "3.8.10"
  }
 },
 "nbformat": 4,
 "nbformat_minor": 4
}
