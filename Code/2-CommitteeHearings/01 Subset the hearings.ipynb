{
 "cells": [
  {
   "cell_type": "code",
   "execution_count": 1,
   "metadata": {},
   "outputs": [],
   "source": [
    "from CommitteeHearingsFunctions import *\n",
    "\n",
    "# Change directory\n",
    "os.chdir('../../Data/')"
   ]
  },
  {
   "cell_type": "code",
   "execution_count": 2,
   "metadata": {},
   "outputs": [],
   "source": [
    "# Load the data\n",
    "with open('CommitteeHearings/hearings_raw.json', 'r') as file:\n",
    "    df = json.load(file)"
   ]
  },
  {
   "cell_type": "markdown",
   "metadata": {},
   "source": [
    "## Subsetting Part I:  quantitative pre-selection (keyword mentions)"
   ]
  },
  {
   "cell_type": "code",
   "execution_count": 3,
   "metadata": {},
   "outputs": [
    {
     "data": {
      "application/vnd.jupyter.widget-view+json": {
       "model_id": "4b912945b4ca48eda009cffcf1ea5821",
       "version_major": 2,
       "version_minor": 0
      },
      "text/plain": [
       "  0%|          | 0/12090 [00:00<?, ?it/s]"
      ]
     },
     "metadata": {},
     "output_type": "display_data"
    },
    {
     "name": "stdout",
     "output_type": "stream",
     "text": [
      "9904 climate change unrelated hearings are dropped.\n",
      "\n",
      " >> The data now contains 2186 hearings.\n"
     ]
    }
   ],
   "source": [
    "# Match cap-and-trade keywords in the text\n",
    "keywords = {'keywords_climatechange': ['climate.?change', 'global.?warming']}\n",
    "get_keywords(df, 'htm_stripped', keywords)\n",
    "# Drop all hearings that do not mention climate change or global warming\n",
    "print(len([h for h in df if not len(h['keywords_climatechange']) > 0]), \"climate change unrelated hearings are dropped.\")\n",
    "df = [h for h in df if len(h['keywords_climatechange']) > 0]\n",
    "print('\\n >> The data now contains {} hearings.'.format(len(df)))"
   ]
  },
  {
   "cell_type": "code",
   "execution_count": 4,
   "metadata": {},
   "outputs": [
    {
     "data": {
      "application/vnd.jupyter.widget-view+json": {
       "model_id": "65de8211dc3f433b95bf3835d371f7f2",
       "version_major": 2,
       "version_minor": 0
      },
      "text/plain": [
       "  0%|          | 0/2186 [00:00<?, ?it/s]"
      ]
     },
     "metadata": {},
     "output_type": "display_data"
    },
    {
     "data": {
      "application/vnd.jupyter.widget-view+json": {
       "model_id": "f9006f7ffc0a4f4cb3d6855452175e5b",
       "version_major": 2,
       "version_minor": 0
      },
      "text/plain": [
       "  0%|          | 0/2186 [00:00<?, ?it/s]"
      ]
     },
     "metadata": {},
     "output_type": "display_data"
    }
   ],
   "source": [
    "# Match climate change focussed keywords in the title\n",
    "keywords = {'keywords_climatefocus': ['climate.?change', 'global.?warming',\n",
    "                                      'climate.?science', 'greenhouse.?gas']}\n",
    "get_keywords(df, 'title', keywords)\n",
    "# Match cap-and-trade keywords in the text\n",
    "keywords = {'keywords_capandtrade': ['cap.?and.?trade', 'cap.?and.?auction',\n",
    "                                     'cap.?and.?dividend', 'cap.?and.?tax', \n",
    "                                     'cap.?on.?carbon', 'cap.?on.?co2', \n",
    "                                     'cap.?on.?emissions',\n",
    "                                     'cap.?on.?the.?amount.?of.?carbon',\n",
    "                                     'cap.?on.?the.?amount.?of.?co2',\n",
    "                                     'carbon.?limit[s]?','climate.?income',\n",
    "                                     'emission[s]?.?cap[s]?', 'emission[s]?.?limit[s]?', \n",
    "                                     'emission[s]?.?restriction[s]?', 'emission[s]?.?standard[s]?',\n",
    "                                     'emission[s]?.?trading']}\n",
    "get_keywords(df, 'htm_stripped', keywords)"
   ]
  },
  {
   "cell_type": "code",
   "execution_count": 5,
   "metadata": {},
   "outputs": [
    {
     "data": {
      "text/plain": [
       "{'cap.?and.?auction',\n",
       " 'cap.?and.?dividend',\n",
       " 'cap.?and.?tax',\n",
       " 'cap.?and.?trade',\n",
       " 'cap.?on.?carbon',\n",
       " 'cap.?on.?co2',\n",
       " 'cap.?on.?emissions',\n",
       " 'cap.?on.?the.?amount.?of.?carbon',\n",
       " 'cap.?on.?the.?amount.?of.?co2',\n",
       " 'carbon.?limit[s]?',\n",
       " 'climate.?income',\n",
       " 'emission[s]?.?cap[s]?',\n",
       " 'emission[s]?.?limit[s]?',\n",
       " 'emission[s]?.?restriction[s]?',\n",
       " 'emission[s]?.?standard[s]?',\n",
       " 'emission[s]?.?trading'}"
      ]
     },
     "execution_count": 5,
     "metadata": {},
     "output_type": "execute_result"
    }
   ],
   "source": [
    "set(keywords['keywords_capandtrade'])"
   ]
  },
  {
   "cell_type": "code",
   "execution_count": 6,
   "metadata": {},
   "outputs": [
    {
     "data": {
      "text/plain": [
       "257"
      ]
     },
     "execution_count": 6,
     "metadata": {},
     "output_type": "execute_result"
    }
   ],
   "source": [
    "# Subset the hearings to all hearings that mention either a climate focus keyword in the title OR contain at more than 10 cap and trade keywords in the text\n",
    "df_sub = [text for text in df if (len(text['keywords_climatefocus']) >= 1) or (len(text['keywords_capandtrade']) > 10)]\n",
    "for i in df_sub:\n",
    "    i['identifier'] = i['packageId'][5:]\n",
    "len(df_sub) #287 # 237 # "
   ]
  },
  {
   "cell_type": "code",
   "execution_count": 7,
   "metadata": {},
   "outputs": [
    {
     "name": "stdout",
     "output_type": "stream",
     "text": [
      "No (external) witnesses / Joint committee:\n",
      "(0, '[ERRATA] Green Jobs Created by Global Warming Initiatives', '110shrg80068')\n",
      "(19, 'The Economic Outlook', '111shrg58197')\n",
      "\n",
      "\n"
     ]
    },
    {
     "data": {
      "text/plain": [
       "255"
      ]
     },
     "execution_count": 7,
     "metadata": {},
     "output_type": "execute_result"
    }
   ],
   "source": [
    "# Drop hearings without (external) witnesses or held by a joint committee\n",
    "print('No (external) witnesses / Joint committee:')\n",
    "print(*[(len(text['keywords_capandtrade']), text['title'],  text['identifier']) for text in df_sub if re.findall('''errata|the economic outlook''', text[\"title\"].lower())], sep='\\n'); print('\\n')\n",
    "df_sub = [text for text in df_sub if not re.findall('''errata|the economic outlook''', text[\"title\"].lower())]\n",
    "len(df_sub)"
   ]
  },
  {
   "cell_type": "markdown",
   "metadata": {},
   "source": [
    "## Subsetting part II: Manual fine-tuning of the selection"
   ]
  },
  {
   "cell_type": "code",
   "execution_count": 8,
   "metadata": {},
   "outputs": [
    {
     "name": "stdout",
     "output_type": "stream",
     "text": [
      "20 budget hearings, nominations and annual reports are dropped.\n",
      "\n",
      " >> The data now contains 235 hearings.\n"
     ]
    }
   ],
   "source": [
    "# Drop all budget, appropriations, nominations and annual reports hearings\n",
    "print(len([text['title'] for text in df_sub if re.findall(\"budget|appropriations|fiscal year|fiscal year|nomination|annual report\", text[\"title\"].lower())]),\n",
    "      \"budget hearings, nominations and annual reports are dropped.\")\n",
    "# Uncomment below to see the titles of the hearings that will be dropped\n",
    "# print(*[text['title'] for text in df_sub if re.findall(\"budget|appropriations|fiscal year|nomination|annual report\", text[\"title\"].lower())], sep='\\n'); print('\\n')\n",
    "df_sub = [text for text in df_sub if not re.findall(\"budget|appropriations|fiscal year|fiscal year|nomination|annual report\", text[\"title\"].lower())]\n",
    "print('\\n >> The data now contains {} hearings.'.format(len(df_sub)))"
   ]
  },
  {
   "cell_type": "code",
   "execution_count": 9,
   "metadata": {
    "scrolled": false
   },
   "outputs": [
    {
     "name": "stdout",
     "output_type": "stream",
     "text": [
      "Regulation of other pollutants:\n",
      "(19, 'Implementation of the New Air Quality Standards for Particulate Matter and Ozone', '108shrg94602')\n",
      "(20, 'Implementation of the Existing Particulate Matter and Ozone Air Quality Standards', '109shrg39523')\n",
      "(11, 'S. 1265, the Diesel Emissions Reduction Act of 2005', '109shrg37294')\n",
      "(31, 'Hearing on Mercury Legislation', '110shrg85534')\n",
      "(57, 'The State of Mercury Regulation, Science and Technology', '110shrg61965')\n",
      "(0, 'The Montreal Protocol and Global Warming', '110hhrg44428')\n",
      "(0, 'Epa Black Carbon and Global Warming', '110hhrg45164')\n",
      "(15, 'Nonpoint Source Pollution: Atmospheric Deposition and Water Quality', '110hhrg34796')\n",
      "(17, \"Epa's Clean Air Interstate Rule (Cair): Recent Court Decision and Its Implications\", '110shrg88904')\n",
      "(39, \"Oversight: Environmental Protection Agency's Clean Air Regulations--One Year After the Cair and Camr Federal Court Decisions\", '111shrg95160')\n",
      "(14, \"Oversight: Epa's Proposal for Federal Implementation Plans to Reduce Interstate Transport of Fine Particulate Matter and Ozone\", '111shrg23571')\n",
      "\n",
      "\n",
      "Foreign policy, international agreements, and global and national security:\n",
      "(24, 'The Current and Future Role of Science in the Asia-Pacific Partnership', '109shrg63518')\n",
      "(0, 'U.s. Re-Engagement in the Global Effort to Aght Climate Change', '110hhrg35427')\n",
      "(1, 'The National Security Implications of Climate Change', '110hhrg34720')\n",
      "(1, 'Climate Change Impacts and Responses in Island Communities', '110shrg75205')\n",
      "(42, 'International Climate Change Negotiations: Bali and the Path Toward A Post-2012 Climate Treaty', '110shrg45194')\n",
      "(9, 'Geopolitical Implications of Rising Oil Dependence and Global Warming', '110hhrg57964')\n",
      "(0, 'Climate Change and Vulnerable Societies: A Post-Bali Overview', '110hhrg41020')\n",
      "(6, 'National Security Implications of Global Climate Change', '110hhrg62523')\n",
      "(0, 'Climate Change: National Security Threats', '110shrg42725')\n",
      "(24, 'Administration Perspectives on United Nations Climate Change Conference in Bali', '110hhrg47819')\n",
      "(11, 'After Bali: The U.N. Conference and Its Impact on International Climate Change Policy', '110hhrg58415')\n",
      "(6, 'Hearing on Fire and Rain: How the Destruction of Tropical Forests Is Fueling Climate Change', '110hhrg61526')\n",
      "(10, 'Preparing for Copenhagen: How Developing Countries Are Fighting Climate Change', '111hhrg62186')\n",
      "(2, 'Climate Change and the Arctic: New Frontiers of National Security', '111hhrg48332')\n",
      "(1, \"Drought, Flooding and Refugees: Addressing the Impacts of Climate Change in the World's Most Vulnerable Nations\", '111shrg56665')\n",
      "(0, 'Combating Climate Change in Africa', '111hhrg56054')\n",
      "(27, 'Addressing Global Climate Change: The Road to Copenhagen', '111shrg51737')\n",
      "(16, 'Pathways to a \"Green\" Global Economic Recovery', '111shrg53175')\n",
      "(11, 'Climate Change and National Security', '111shrg99882')\n",
      "(5, \"From L'aquila to Copenhagen: Climate Change and Vulnerable Societies\", '111hhrg51256')\n",
      "(7, 'Challenges and Opportunities for U.S.-China Cooperation on Climate Change', '111shrg51901')\n",
      "(12, 'Climate Change Finance: Providing Assistance for Vulnerable Countries', '111hhrg57687')\n",
      "(1, 'Climate Change and Global Security: Challenges, Threats and Diplomatic Opportunities', '111shrg54243')\n",
      "(12, 'Roadmap from Poznan to Copenhagen', '111hhrg62184')\n",
      "(7, 'Transparency in Environmental Protection and Climate Change in China', '111hhrg56971')\n",
      "\n",
      "\n",
      "Energy/technology hearings not focussed on setting a price on carbon:\n",
      "(1, 'What Are the Administration Priorities for Climate Change Technology?', '108hhrg90165')\n",
      "(13, \"Kyoto Global Warming Treaty's Impact on Ohio's Coal-Dependent Communities\", '108hhrg87018')\n",
      "(3, \"National Academy of Sciences' Review of the U.s. Climate Change Science Program Strategic Plan\", '108shrg22296')\n",
      "(25, 'Climate Change Issues: Agricultural Sequestration of Carbon Dioxide', '108shrg92379')\n",
      "(19, 'Transportation and Air Quality: Cmaq and Conformity Programs', '108shrg90365')\n",
      "(13, 'Soil Carbon Sequestration', '108shrg80794')\n",
      "(14, 'U.s.-International Climate Change Approach: A Clean Technology Solution', '109shrg33730')\n",
      "(16, \"Improving the Nation's Energy Security: Can Cars and Trucks Be Made More Fuel Efficient?\", '109hhrg98561')\n",
      "(11, 'Alternative Automotive Technologies and Energy Efficiency', '109shrg24915')\n",
      "(0, \"Climate Change Technology Research: Do We Need A ``manhattan Project'' for the Environment?\", '109hhrg30692')\n",
      "(9, \"Department of Energy's Plan for Climate Change Technology Programs\", '109hhrg29851')\n",
      "(16, 'Negawatts: The Role of Efficiency Policies in Climate Legislation', '110hhrg61726')\n",
      "(39, 'Climate Change Impacts on the Transportation Sector', '110shrg78852')\n",
      "(21, 'Oversight Hearing on Spinning Straw into Black Gold: Enhanced Oil Recovery Using Carbon Dioxide.', '110hhrg42879')\n",
      "(14, 'H.r. 6258, the Carbon Capture and Storage Early Deployment Act', '110hhrg57807')\n",
      "(15, 'Voluntary Carbon Offsets: Getting What You Pay For', '110hhrg58085')\n",
      "(17, 'Pending Corporate Average Fuel Economy (Cafe) Legislation', '110shrg80033')\n",
      "(17, 'Regulatory Aspects of Carbon Capture, Transportation, and Sequestration', '110shrg41620')\n",
      "(16, 'Clean Coal Technology', '110shrg38602')\n",
      "(11, 'Transportation Sector Fuel Efficiency', '110shrg34537')\n",
      "(12, 'Coal Gasification: Opportunities and Challenges', '110shrg37273')\n",
      "(15, 'Future of Coal', '110shrg36142')\n",
      "(18, \"Review of the Administration's Energy Proposals for the Transportation Sector\", '110hhrg35740')\n",
      "(8, \"What's Cooking with Gas: The Role of Natural Gas in Energy Independence and Global Warming Solutions\", '110hhrg61956')\n",
      "(13, 'Clean Coal Technology', '110shrg78880')\n",
      "(13, 'Aviation and the Environment: Emmissions', '110hhrg42305')\n",
      "(12, 'National Carbon Dioxide Storage Capacity Assessment Act of 2007, and Department of Energy Carbon Capture and Storage Research, Development, and Demonstration Act of 2007', '110shrg36492')\n",
      "(16, 'Coal Gasification Technologies and the Need for Large Scale Projects', '110shrg74322')\n",
      "(1, 'Small Business Solutions for Combating Climate Change', '110shrg35764')\n",
      "(5, 'Hearing on Examining Strategies to Reduce Greenhouse Gas Emissions at U.S. Colleges and Universities', '110shrg85526')\n",
      "(12, 'Massachusetts V. U.S. EPA: Implications of the Supreme Court Decison', '110hhrg58082')\n",
      "(15, 'From the Wright Brothers to the Right Solutions: Curbing Soaring Aviation Emissions', '110hhrg61640')\n",
      "(0, 'National Imperatives for Earth and Climate Science Research and Applications Investments over the Next Decade', '110hhrg33104')\n",
      "(6, 'Epa Approval of New Power Plants: Failure to Address Global Warming Pollutants', '110hhrg44650')\n",
      "(0, 'H.r. 3223, Keep Our Waterfronts Working Act of 2007; H.r. 5451, Coastal Zone Reauthorization Act of 2008; H.r. 5452, Coastal State Renewable Energy Promotion Act of 2008; and H.r. 5453, Coastal State Climate Change Planning Act of 2008.', '110hhrg40957')\n",
      "(18, 'Carbon Capture and Sequestration: An Overview', '110hhrg36815')\n",
      "(6, 'Building U.S. Resilience to Global Warming Impacts', '111hhrg62454')\n",
      "(13, 'Hearing to Review U.S. Agriculture Policy in Advance of the 2012 Farm Bill, Part 1', '111hhrg56974')\n",
      "(12, 'Renewable Energy: Complementary Policies for Climate Legislation', '111hhrg67094')\n",
      "(22, 'Hearing to Review U.S. Agriculture Policy in Advance of the 2012 Farm Bill, Part 2 (Final)', '111hhrg57926')\n",
      "(15, 'Hearing to Review Derivatives Legislation', '111hhrg51698')\n",
      "(11, \"Futuregen and the Department of Energy's Advanced Coal Programs\", '111hhrg47719')\n",
      "(12, 'Renewable Electricity', '111shrg48193')\n",
      "(78, 'Energy Efficiency Resource Standards', '111shrg50178')\n",
      "(12, 'Constructing a Green Transportation Policy: Transit Modes and Infrastructure', '111hhrg62187')\n",
      "(34, \"Transportation's Role in Climate Change and Reducing Greenhouse Gases\", '111shrg95161')\n",
      "(16, 'Aviation and the Emerging Use of Biofuels', '111hhrg48004')\n",
      "(0, \"A 21st Century Transportation System: Reducing Gridlock, Tackling Climate Change, and Growing Connecticut's Economy\", '111shrg53565')\n",
      "(17, 'Energy Tax Incentives Driving the Green Job Economy', '111hhrg63079')\n",
      "\n",
      "\n",
      "Regional impacts and regulations of climate change:\n",
      "(1, 'Effects of Climate Change on Marine and Coastal Ecosystems in Washington State', '110shrg75204')\n",
      "(9, 'Global Warming Mountaintop \"Summit\": Economic Impacts on New England', '110hhrg57968')\n",
      "(13, 'Examining the Case for the California Waiver: An Update from Epa', '110shrg61979')\n",
      "(3, 'Energy and Global Warming Solutions for Vulnerable Communities', '110hhrg58148')\n",
      "(34, \"Oversight of Epa's Decision to Deny the California Waiver\", '110shrg82736')\n",
      "(26, 'The Case for the California Waiver', '110shrg61966')\n",
      "(9, 'An Examination of the Impacts of Global Warming on the Chesapeake Bay', '110shrg73572')\n",
      "(2, 'Climate Change in Coastal Regions', '110shrg44709')\n",
      "(6, 'Toward A Clean Energy Future: Energy Policy and Climate Change on Public Lands', '110hhrg34820')\n",
      "(4, 'Green Cities: Mayoral Initiatives to Reduce Global Warming Pollution', '110hhrg58083')\n",
      "(2, 'Oversight Field Hearing on \"The Impacts of Climate Change on the Chesapeake Bay\"', '111hhrg50611')\n",
      "(0, 'Climate Change Impacts on National Parks in Colorado', '111shrg52524')\n",
      "\n",
      "\n",
      "Other impacts of climate change:\n",
      "(2, 'Healthy Planets, Healthy People: Global Warming and Public Health', '110hhrg61639')\n",
      "(0, \"Rising Tides, Rising Temperatures: Global Warming's Impacts on the Oceans\", '110hhrg61725')\n",
      "(0, 'Climate Change on Wildfire Activity', '110shrg39889')\n",
      "(1, 'The Issue of Potential Impacts of Global Warming on Recreation and the Recreation Industry', '110shrg61967')\n",
      "(1, 'Climate Change: A Challenge for Public Health', '110shrg41817')\n",
      "(3, 'Economic Impacts of Global Warming: Green Collar Jobs', '110hhrg57967')\n",
      "(0, 'Economic Impacts of Global Warming: Part I', '110hhrg57966')\n",
      "(0, 'Climate Change and Water Supply', '110shrg37460')\n",
      "(0, 'Examining the Human Health Impacts of Global Warming', '110shrg73578')\n",
      "(3, 'Global Warming Effects on Extreme Weather', '110hhrg62525')\n",
      "(11, 'Climate Disclosure: Measuring Financial Risks and Opportunities', '110shrg50362')\n",
      "(0, 'Global Warming and Wildlife', '110shrg53823')\n",
      "(0, 'Effects of Climate Change and Ocean Acidification on Living Marine Organisms', '110shrg79908')\n",
      "(0, 'Dangerous Exposure: the Impact of Global Warming on Private and Federal Insurance', '110shrg35525')\n",
      "(13, \"Global Warming's Growing Concerns: Impacts on Agriculture and Forestry\", '111hhrg62449')\n",
      "(11, 'Climate Change on Federal Forests', '111shrg55124')\n",
      "(0, 'Impacts of Climate Change to National Parks', '111shrg54563')\n",
      "\n",
      "\n",
      "Interference with climate legislation:\n",
      "(0, 'Allegations of Political Interference with Government Climate Change Science', '110hhrg37415')\n",
      "(0, 'Allegations of Political Interference with the Work of Government Climate Change Scientists', '110hhrg34913')\n",
      "(3, 'Climate Change Research and Scientific Integrity', '110shrg35039')\n",
      "\n",
      "\n",
      "No (external) witnesses / Joint committee:\n",
      "(43, 'State, Regional and Local Perspectives on Global Warming', '110shrg53827')\n",
      "(49, \"Senators' Perspectives on Global Warming\", '110shrg33987')\n",
      "(21, 'Climate Change: State and Local Perspectives', '110hhrg37423')\n",
      "(46, 'Clean Energy Jobs, Climate-Related Policies and Economic Growth--State and Local Views', '111shrg95164')\n",
      "\n",
      "\n",
      "(14, \"The Impacts of Climate Change and States' Actions\", 'CHRG-108shrg82493')\n",
      "(7, 'The State of Climate Change Science 2007', 'CHRG-110hhrg32966')\n",
      "(43, 'State, Regional and Local Perspectives on Global Warming', 'CHRG-110shrg53827')\n",
      "(21, 'Climate Change: State and Local Perspectives', 'CHRG-110hhrg37423')\n",
      "(17, 'State Leadership Towards a Low-Carbon Energy Future', 'CHRG-110hhrg58414')\n",
      "(5, \"The Administration's View on the State of Climate Science\", 'CHRG-111hhrg62520')\n",
      "(46, 'Clean Energy Jobs, Climate-Related Policies and Economic Growth--State and Local Views', 'CHRG-111shrg95164')\n",
      "\n",
      "\n"
     ]
    },
    {
     "data": {
      "text/plain": [
       "117"
      ]
     },
     "execution_count": 9,
     "metadata": {},
     "output_type": "execute_result"
    }
   ],
   "source": [
    "# Regulation of (other) pollutants\n",
    "print('Regulation of other pollutants:')\n",
    "print(*[(len(text['keywords_capandtrade']), text['title'],  text['identifier']) for text in df_sub if re.findall(\"mercury|particulate matter and ozone|cair|diesel|montreal|black carbon|water quality\", text[\"title\"].lower())], sep='\\n'); print('\\n')\n",
    "df_sub = [text for text in df_sub if not re.findall(\"mercury|particulate matter and ozone|cair|diesel|montreal|black carbon|water quality\", text[\"title\"].lower())]\n",
    "# Foreign policy, international agreements, and global and national security\n",
    "print('Foreign policy, international agreements, and global and national security:')\n",
    "print(*[(len(text['keywords_capandtrade']), text['title'],  text['identifier']) for text in df_sub if re.findall('''vulnerable nations|vulnerable societies|vulnerable countries|island|arctic|tropical forests|global security|global economic recovery|\n",
    "|global effort|asia|china|africa|geopolitical implications|national security(?!,)|bali|poznan|copenhagen''', text[\"title\"].lower())], sep='\\n'); print('\\n')\n",
    "df_sub = [text for text in df_sub if not re.findall('''vulnerable nations|vulnerable societies|vulnerable countries|island|arctic|tropical forests|global security|global economic recovery|\n",
    "|global effort|asia|china|africa|geopolitical implications|national security(?!,)|bali|poznan|copenhagen''', text[\"title\"].lower())]\n",
    "# Energy/technology hearings not focussed on setting a price on carbon\n",
    "print('Energy/technology hearings not focussed on setting a price on carbon:')\n",
    "print(*[(len(text['keywords_capandtrade']), text['title'],  text['identifier']) for text in df_sub if re.findall('''climate change technology|efficiency|energy-efficient|electric|renewable|agriculture policy|cafe|new power plants|\n",
    "|sequestration|capture and storage|massachusetts|coal(?! under)|aviation|transportation|cars|oil recovery|oil demand|universities|science program|research and information program\n",
    "|voluntary carbon offsets|clean technology|energy tax incentives|small business solutions|with gas|research and applications investments|resilience|derivatives''', text[\"title\"].lower())], sep='\\n'); print('\\n')\n",
    "df_sub = [text for text in df_sub if not re.findall('''climate change technology|efficiency|energy-efficient|electric|renewable|agriculture policy|cafe|new power plants|\n",
    "|sequestration|capture and storage|massachusetts|coal(?! under)|aviation|transportation|cars|oil recovery|oil demand|universities|science program|research and information program|\n",
    "|voluntary carbon offsets|clean technology|energy tax incentives|small business solutions|with gas|research and applications investments|resilience|derivatives''', text[\"title\"].lower())]\n",
    "# Regional impacts and regulations of climate change\n",
    "print('Regional impacts and regulations of climate change:')\n",
    "print(*[(len(text['keywords_capandtrade']), text['title'],  text['identifier']) for text in df_sub if re.findall(\"chesapeake|new england|coastal|vulnerable communities|california|colorado|public lands|green cities\", text[\"title\"].lower())], sep='\\n'); print('\\n')\n",
    "df_sub = [text for text in df_sub if not re.findall(\"chesapeake|new england|coastal|vulnerable communities|california|colorado|public lands|green cities\", text[\"title\"].lower())]\n",
    "# Other impacts of climate change\n",
    "print('Other impacts of climate change:')\n",
    "print(*[(len(text['keywords_capandtrade']), text['title'],  text['identifier']) for text in df_sub if re.findall('''impacts on agriculture|insurance|financial risks|economic impacts of global|potential impacts of|water supply|ocean|climate change to national park|\n",
    "|public health$|nation's forests|federal forests|extreme weather|wildfire|human health|wildlife''', text[\"title\"].lower())], sep='\\n'); print('\\n')\n",
    "df_sub = [text for text in df_sub if not re.findall('''impacts on agriculture|insurance|financial risks|economic impacts of global|potential impacts of|water supply|ocean|climate change to national park|\n",
    "|public health$|nation's forests|federal forests|extreme weather|wildfire|human health|wildlife''', text[\"title\"].lower())]\n",
    "# Interference with climate legislation\n",
    "print('Interference with climate legislation:')\n",
    "print(*[(len(text['keywords_capandtrade']), text['title'],  text['identifier']) for text in df_sub if re.findall('''interference|integrity''', text[\"title\"].lower())], sep='\\n'); print('\\n')\n",
    "df_sub = [text for text in df_sub if not re.findall('''interference|integrity''', text[\"title\"].lower())]\n",
    "# No witnesses / Joint committee\n",
    "print('No (external) witnesses / Joint committee:')\n",
    "print(*[(len(text['keywords_capandtrade']), text['title'],  text['identifier']) for text in df_sub if re.findall('''errata|senators|local|the economic outlook''', text[\"title\"].lower())], sep='\\n'); print('\\n')\n",
    "df_sub = [text for text in df_sub if not re.findall('''errata|the economic outlook''', text[\"title\"].lower())]\n",
    "\n",
    "print(*[(len(text['keywords_capandtrade']), text['title'], text['packageId']) \n",
    "        for text in df_sub if re.findall('''state''', text[\"title\"].lower())], sep='\\n'); print('\\n')\n",
    "\n",
    "len(df_sub)"
   ]
  },
  {
   "cell_type": "code",
   "execution_count": 10,
   "metadata": {},
   "outputs": [],
   "source": [
    "# Save the data\n",
    "with open('CommitteeHearings/hearings.json', 'w') as file:\n",
    "    json.dump(df_sub, file)"
   ]
  }
 ],
 "metadata": {
  "kernelspec": {
   "display_name": "cards-github",
   "language": "python",
   "name": "cards-github"
  },
  "language_info": {
   "codemirror_mode": {
    "name": "ipython",
    "version": 3
   },
   "file_extension": ".py",
   "mimetype": "text/x-python",
   "name": "python",
   "nbconvert_exporter": "python",
   "pygments_lexer": "ipython3",
   "version": "3.8.10"
  }
 },
 "nbformat": 4,
 "nbformat_minor": 4
}
