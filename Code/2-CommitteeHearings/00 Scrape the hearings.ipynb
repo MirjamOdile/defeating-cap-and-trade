{
 "cells": [
  {
   "cell_type": "code",
   "execution_count": 1,
   "metadata": {},
   "outputs": [],
   "source": [
    "import os\n",
    "import json\n",
    "from tqdm.auto import tqdm\n",
    "from urllib.request import urlopen\n",
    "import html\n",
    "import re\n",
    "\n",
    "# Change directory\n",
    "os.chdir('../../Data/')"
   ]
  },
  {
   "cell_type": "code",
   "execution_count": 2,
   "metadata": {},
   "outputs": [
    {
     "name": "stdout",
     "output_type": "stream",
     "text": [
      "Processing 108th congress.\n",
      "Processing 109th congress.\n",
      "Processing 110th congress.\n",
      "Processing 111th congress.\n",
      "\n",
      "12090 hearings have been found.\n"
     ]
    }
   ],
   "source": [
    "df = []\n",
    "for congress in [\"108\", \"109\", \"110\", \"111\"]:\n",
    "    print('Processing {}th congress.'.format(congress))\n",
    "    offset = -100\n",
    "    condition = 100\n",
    "    while condition == 100:\n",
    "        offset += 100\n",
    "        response = urlopen(\"https://api.govinfo.gov/collections/CHRG/2003-01-01T00%3A00%3A00Z?offset=\" + str(offset) + \"&pageSize=100&congress=\" + congress + \"&api_key=kQzApyHAZpr4CRWdviBCDTEpCdpqHRWwXlBy6KRk\").read().decode('utf-8')\n",
    "        response = json.loads(response)\n",
    "        condition = len(response['packages'])\n",
    "        # Select House and Senate Committe Hearings (packageId starts with CHRG)\n",
    "        df = df + [x for x in response['packages'] if x not in df and x['docClass'] in ['HHRG', 'SHRG'] and x['packageId'].startswith('CHRG')] \n",
    "print('\\n{} df have been found.'.format(len(df)))"
   ]
  },
  {
   "cell_type": "code",
   "execution_count": 4,
   "metadata": {},
   "outputs": [
    {
     "name": "stderr",
     "output_type": "stream",
     "text": [
      "100%|██████████| 12090/12090 [4:36:02<00:00,  1.37s/it] "
     ]
    },
    {
     "name": "stdout",
     "output_type": "stream",
     "text": [
      "Text and mods file have been added to the 12090 hearings.\n"
     ]
    },
    {
     "name": "stderr",
     "output_type": "stream",
     "text": [
      "\n"
     ]
    }
   ],
   "source": [
    "# Add the text (htm) and mods\n",
    "for i, hearing in enumerate(tqdm(df)):\n",
    "    htm_url = \"https://api.govinfo.gov/packages/\" + hearing['packageId'] + \"/htm?api_key=kQzApyHAZpr4CRWdviBCDTEpCdpqHRWwXlBy6KRk\"\n",
    "    mod_url = \"https://api.govinfo.gov/packages/\" + hearing['packageId'] + \"/mods?api_key=kQzApyHAZpr4CRWdviBCDTEpCdpqHRWwXlBy6KRk\"\n",
    "    df[i]['htm'] = urlopen(htm_url).read()\n",
    "    df[i]['mods'] = urlopen(mod_url).read().decode('utf-8')\n",
    "print('Text and mods file have been added to the {} df.'.format(len(df)))"
   ]
  },
  {
   "cell_type": "code",
   "execution_count": 3,
   "metadata": {},
   "outputs": [
    {
     "data": {
      "application/vnd.jupyter.widget-view+json": {
       "model_id": "c02496c54c9b44c793e893756ed099c4",
       "version_major": 2,
       "version_minor": 0
      },
      "text/plain": [
       "HBox(children=(FloatProgress(value=0.0, max=12090.0), HTML(value='')))"
      ]
     },
     "metadata": {},
     "output_type": "display_data"
    },
    {
     "name": "stdout",
     "output_type": "stream",
     "text": [
      "\n"
     ]
    }
   ],
   "source": [
    "# Create lowercase stripped content\n",
    "for i, hearing in enumerate(tqdm(df)):\n",
    "    df[i]['htm_stripped'] =  re.sub(r'[\\n\\t\\s]+', ' ', df[i]['htm'].lower())"
   ]
  },
  {
   "cell_type": "code",
   "execution_count": 6,
   "metadata": {},
   "outputs": [
    {
     "data": {
      "application/vnd.jupyter.widget-view+json": {
       "model_id": "ee55cac9354044b7bc0dc7d42cdd7217",
       "version_major": 2,
       "version_minor": 0
      },
      "text/plain": [
       "HBox(children=(FloatProgress(value=0.0, max=12090.0), HTML(value='')))"
      ]
     },
     "metadata": {},
     "output_type": "display_data"
    },
    {
     "name": "stdout",
     "output_type": "stream",
     "text": [
      "\n"
     ]
    }
   ],
   "source": [
    "# Decode the html mods\n",
    "for i, hearing in enumerate(tqdm(df)):\n",
    "    df[i]['mods'] =  html.unescape(df[i]['mods'])"
   ]
  },
  {
   "cell_type": "code",
   "execution_count": 7,
   "metadata": {},
   "outputs": [],
   "source": [
    "# Replace missing hearing title\n",
    "df[6094]['title'] = 'Voter Suppression'"
   ]
  },
  {
   "cell_type": "code",
   "execution_count": 10,
   "metadata": {},
   "outputs": [],
   "source": [
    "# Save the data\n",
    "with open('CommitteeHearings/hearings_raw.json', 'w') as file:\n",
    "    json.dump(df, file)"
   ]
  }
 ],
 "metadata": {
  "kernelspec": {
   "display_name": "Python 3 (ipykernel)",
   "language": "python",
   "name": "python3"
  },
  "language_info": {
   "codemirror_mode": {
    "name": "ipython",
    "version": 3
   },
   "file_extension": ".py",
   "mimetype": "text/x-python",
   "name": "python",
   "nbconvert_exporter": "python",
   "pygments_lexer": "ipython3",
   "version": "3.11.1"
  }
 },
 "nbformat": 4,
 "nbformat_minor": 4
}
