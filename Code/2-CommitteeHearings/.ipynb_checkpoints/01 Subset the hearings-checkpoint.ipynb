{
 "cells": [
  {
   "cell_type": "code",
   "execution_count": 12,
   "metadata": {},
   "outputs": [
    {
     "ename": "FileNotFoundError",
     "evalue": "[Errno 2] No such file or directory: '../../Data/'",
     "output_type": "error",
     "traceback": [
      "\u001b[0;31m---------------------------------------------------------------------------\u001b[0m",
      "\u001b[0;31mFileNotFoundError\u001b[0m                         Traceback (most recent call last)",
      "\u001b[0;32m/tmp/ipykernel_420391/3618056044.py\u001b[0m in \u001b[0;36m<module>\u001b[0;34m\u001b[0m\n\u001b[1;32m      2\u001b[0m \u001b[0;34m\u001b[0m\u001b[0m\n\u001b[1;32m      3\u001b[0m \u001b[0;31m# Change directory\u001b[0m\u001b[0;34m\u001b[0m\u001b[0;34m\u001b[0m\u001b[0;34m\u001b[0m\u001b[0m\n\u001b[0;32m----> 4\u001b[0;31m \u001b[0mos\u001b[0m\u001b[0;34m.\u001b[0m\u001b[0mchdir\u001b[0m\u001b[0;34m(\u001b[0m\u001b[0;34m'../../Data/'\u001b[0m\u001b[0;34m)\u001b[0m\u001b[0;34m\u001b[0m\u001b[0;34m\u001b[0m\u001b[0m\n\u001b[0m",
      "\u001b[0;31mFileNotFoundError\u001b[0m: [Errno 2] No such file or directory: '../../Data/'"
     ]
    }
   ],
   "source": [
    "from CommitteeHearingsFunctions import *\n",
    "\n",
    "# Change directory\n",
    "os.chdir('../../Data/')"
   ]
  },
  {
   "cell_type": "code",
   "execution_count": null,
   "metadata": {},
   "outputs": [],
   "source": [
    "# Load the data\n",
    "with open('CommitteeHearings/hearings_raw.json', 'r') as file:\n",
    "    df = json.load(file)"
   ]
  },
  {
   "cell_type": "markdown",
   "metadata": {},
   "source": [
    "## Subsetting Part I:  quantitative pre-selection (keyword mentions)"
   ]
  },
  {
   "cell_type": "code",
   "execution_count": null,
   "metadata": {},
   "outputs": [],
   "source": [
    "# Drop all budget, appropriations, nominations and annual reports hearings\n",
    "print(len([text['title'] for text in df if re.findall(\"budget|appropriations|fiscal year|fiscal year|nomination|annual report\", text[\"title\"].lower())]),\n",
    "      \"budget hearings, nominations and annual reports are dropped.\")\n",
    "# Uncomment below to see the titles of the hearings that will be dropped\n",
    "# print(*[text['title'] for text in df if re.findall(\"budget|appropriations|fiscal year|nomination|annual report\", text[\"title\"].lower())], sep='\\n'); print('\\n')\n",
    "df = [text for text in df if not re.findall(\"budget|appropriations|fiscal year|fiscal year|nomination|annual report\", text[\"title\"].lower())]\n",
    "print('\\n >> The data now contains {} hearings.'.format(len(df)))"
   ]
  },
  {
   "cell_type": "code",
   "execution_count": null,
   "metadata": {},
   "outputs": [],
   "source": [
    "# Match cap-and-trade keywords in the text\n",
    "keywords = {'keywords_climatechange': ['climate.?change', 'global.?warming']}\n",
    "get_keywords(df, 'htm_stripped', keywords)\n",
    "# Drop all hearings that do not mention climate change or global warming\n",
    "print(len([h for h in df if not len(h['keywords_climatechange']) > 0]), \"climate change unrelated hearings are dropped.\")\n",
    "df = [h for h in df if len(h['keywords_climatechange']) > 0]\n",
    "print('\\n >> The data now contains {} hearings.'.format(len(df)))"
   ]
  },
  {
   "cell_type": "code",
   "execution_count": null,
   "metadata": {},
   "outputs": [],
   "source": [
    "# Match climate change focussed keywords in the title\n",
    "keywords = {'keywords_climatefocus': ['climate.?change', 'global.?warming',\n",
    "                                      'climate.?science', 'greenhouse.?gas']}\n",
    "get_keywords(df, 'title', keywords)\n",
    "# Match cap-and-trade keywords in the text\n",
    "keywords = {'keywords_capandtrade': ['cap.?and.?trade', 'cap.?and.?auction',\n",
    "                                     'cap.?and.?dividend', 'cap.?and.?tax', \n",
    "                                     'cap.?on.?carbon', 'cap.?on.?co2', \n",
    "                                     'cap.?on.?emissions',\n",
    "                                     'cap.?on.?the.?amount.?of.?carbon',\n",
    "                                     'cap.?on.?the.?amount.?of.?co2',\n",
    "                                     'carbon.?limit[s]?','climate.?income',\n",
    "                                     'emission[s]?.?cap[s]?', 'emission[s]?.?limit[s]?', \n",
    "                                     'emission[s]?.?restriction[s]?', 'emission[s]?.?standard[s]?',\n",
    "                                     'emission[s]?.?trading']}\n",
    "get_keywords(df, 'htm_stripped', keywords)"
   ]
  },
  {
   "cell_type": "code",
   "execution_count": null,
   "metadata": {},
   "outputs": [],
   "source": [
    "set(keywords['keywords_capandtrade'])"
   ]
  },
  {
   "cell_type": "code",
   "execution_count": null,
   "metadata": {},
   "outputs": [],
   "source": [
    "# Subset the hearings to all hearings that mention either a climate focus keyword in the title OR contain at more than 10 cap and trade keywords in the text\n",
    "df_sub = [text for text in df if (len(text['keywords_climatefocus']) >= 1) or (len(text['keywords_capandtrade']) > 10)]\n",
    "for i in df_sub:\n",
    "    i['identifier'] = i['packageId'][5:]\n",
    "len(df_sub) #287 # 237 # "
   ]
  },
  {
   "cell_type": "code",
   "execution_count": null,
   "metadata": {},
   "outputs": [],
   "source": [
    "# Drop hearings without (external) witnesses or held by a joint committee\n",
    "print('No (external) witnesses / Joint committee:')\n",
    "print(*[(len(text['keywords_capandtrade']), text['title'],  text['identifier']) for text in df_sub if re.findall('''errata|the economic outlook''', text[\"title\"].lower())], sep='\\n'); print('\\n')\n",
    "df_sub = [text for text in df_sub if not re.findall('''errata|the economic outlook''', text[\"title\"].lower())]\n",
    "len(df_sub)"
   ]
  },
  {
   "cell_type": "markdown",
   "metadata": {},
   "source": [
    "## Subsetting part II: Manual fine-tuning of the selection"
   ]
  },
  {
   "cell_type": "code",
   "execution_count": null,
   "metadata": {},
   "outputs": [],
   "source": [
    "print(*[(len(text['keywords_capandtrade']), text['title'], text['packageId']) \n",
    "        for text in df_sub if re.findall('''milan|buenos aires|montreal|nairobi|bali|poznan|copenhagen|cancun''', text[\"title\"].lower())], sep='\\n'); print('\\n')\n"
   ]
  },
  {
   "cell_type": "code",
   "execution_count": null,
   "metadata": {
    "scrolled": false
   },
   "outputs": [],
   "source": [
    "# Regulation of (other) pollutants\n",
    "print('Regulation of other pollutants:')\n",
    "print(*[(len(text['keywords_capandtrade']), text['title'],  text['identifier']) for text in df_sub if re.findall(\"mercury|particulate matter and ozone|cair|diesel|montreal|black carbon|water quality\", text[\"title\"].lower())], sep='\\n'); print('\\n')\n",
    "df_sub = [text for text in df_sub if not re.findall(\"mercury|particulate matter and ozone|cair|diesel|montreal|black carbon|water quality\", text[\"title\"].lower())]\n",
    "# Foreign policy, international agreements, and global and national security\n",
    "print('Foreign policy, international agreements, and global and national security:')\n",
    "print(*[(len(text['keywords_capandtrade']), text['title'],  text['identifier']) for text in df_sub if re.findall('''vulnerable nations|vulnerable societies|vulnerable countries|island|arctic|tropical forests|global security|global economic recovery|\n",
    "|global effort|asia|china|africa|geopolitical implications|national security(?!,)|bali|poznan|copenhagen''', text[\"title\"].lower())], sep='\\n'); print('\\n')\n",
    "df_sub = [text for text in df_sub if not re.findall('''vulnerable nations|vulnerable societies|vulnerable countries|island|arctic|tropical forests|global security|global economic recovery|\n",
    "|global effort|asia|china|africa|geopolitical implications|national security(?!,)|bali|poznan|copenhagen''', text[\"title\"].lower())]\n",
    "# Energy/technology hearings not focussed on setting a price on carbon\n",
    "print('Energy/technology hearings not focussed on setting a price on carbon:')\n",
    "print(*[(len(text['keywords_capandtrade']), text['title'],  text['identifier']) for text in df_sub if re.findall('''climate change technology|efficiency|energy-efficient|electric|renewable|agriculture policy|cafe|new power plants|\n",
    "|sequestration|capture and storage|massachusetts|coal(?! under)|aviation|transportation|cars|oil recovery|oil demand|universities|science program|research and information program\n",
    "|voluntary carbon offsets|clean technology|energy tax incentives|small business solutions|with gas|research and applications investments|resilience|derivatives''', text[\"title\"].lower())], sep='\\n'); print('\\n')\n",
    "df_sub = [text for text in df_sub if not re.findall('''climate change technology|efficiency|energy-efficient|electric|renewable|agriculture policy|cafe|new power plants|\n",
    "|sequestration|capture and storage|massachusetts|coal(?! under)|aviation|transportation|cars|oil recovery|oil demand|universities|science program|research and information program|\n",
    "|voluntary carbon offsets|clean technology|energy tax incentives|small business solutions|with gas|research and applications investments|resilience|derivatives''', text[\"title\"].lower())]\n",
    "# Regional impacts and regulations of climate change\n",
    "print('Regional impacts and regulations of climate change:')\n",
    "print(*[(len(text['keywords_capandtrade']), text['title'],  text['identifier']) for text in df_sub if re.findall(\"chesapeake|new england|coastal|vulnerable communities|california|colorado|public lands|green cities\", text[\"title\"].lower())], sep='\\n'); print('\\n')\n",
    "df_sub = [text for text in df_sub if not re.findall(\"chesapeake|new england|coastal|vulnerable communities|california|colorado|public lands|green cities\", text[\"title\"].lower())]\n",
    "# Other impacts of climate change\n",
    "print('Other impacts of climate change:')\n",
    "print(*[(len(text['keywords_capandtrade']), text['title'],  text['identifier']) for text in df_sub if re.findall('''impacts on agriculture|insurance|financial risks|economic impacts of global|potential impacts of|water supply|ocean|climate change to national park|\n",
    "|public health$|nation's forests|federal forests|extreme weather|wildfire|human health|wildlife''', text[\"title\"].lower())], sep='\\n'); print('\\n')\n",
    "df_sub = [text for text in df_sub if not re.findall('''impacts on agriculture|insurance|financial risks|economic impacts of global|potential impacts of|water supply|ocean|climate change to national park|\n",
    "|public health$|nation's forests|federal forests|extreme weather|wildfire|human health|wildlife''', text[\"title\"].lower())]\n",
    "# Interference with climate legislation\n",
    "print('Interference with climate legislation:')\n",
    "print(*[(len(text['keywords_capandtrade']), text['title'],  text['identifier']) for text in df_sub if re.findall('''interference|integrity''', text[\"title\"].lower())], sep='\\n'); print('\\n')\n",
    "df_sub = [text for text in df_sub if not re.findall('''interference|integrity''', text[\"title\"].lower())]\n",
    "# No witnesses / Joint committee\n",
    "print('No (external) witnesses / Joint committee:')\n",
    "print(*[(len(text['keywords_capandtrade']), text['title'],  text['identifier']) for text in df_sub if re.findall('''errata|senators|local|the economic outlook''', text[\"title\"].lower())], sep='\\n'); print('\\n')\n",
    "df_sub = [text for text in df_sub if not re.findall('''errata|the economic outlook''', text[\"title\"].lower())]\n",
    "\n",
    "print(*[(len(text['keywords_capandtrade']), text['title'], text['packageId']) \n",
    "        for text in df_sub if re.findall('''state''', text[\"title\"].lower())], sep='\\n'); print('\\n')\n",
    "\n",
    "len(df_sub)"
   ]
  },
  {
   "cell_type": "code",
   "execution_count": null,
   "metadata": {},
   "outputs": [],
   "source": [
    "# Save the data\n",
    "with open('CommitteeHearings/hearings.json', 'w') as file:\n",
    "    json.dump(df_sub, file)"
   ]
  }
 ],
 "metadata": {
  "kernelspec": {
   "display_name": "cards-github",
   "language": "python",
   "name": "cards-github"
  },
  "language_info": {
   "codemirror_mode": {
    "name": "ipython",
    "version": 3
   },
   "file_extension": ".py",
   "mimetype": "text/x-python",
   "name": "python",
   "nbconvert_exporter": "python",
   "pygments_lexer": "ipython3",
   "version": "3.8.10"
  }
 },
 "nbformat": 4,
 "nbformat_minor": 4
}
